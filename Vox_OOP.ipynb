{
 "cells": [
  {
   "cell_type": "code",
   "execution_count": 2,
   "metadata": {},
   "outputs": [],
   "source": [
    "import numpy as np\n",
    "import scipy.io\n",
    "import os\n",
    "import pandas as pd\n",
    "import math\n",
    "from pathlib import Path\n",
    "from mayavi import mlab\n",
    "import copy"
   ]
  },
  {
   "cell_type": "code",
   "execution_count": 3,
   "metadata": {},
   "outputs": [],
   "source": [
    "from IPython.core.debugger import set_trace"
   ]
  },
  {
   "cell_type": "markdown",
   "metadata": {},
   "source": [
    "Set the root directory where you have your .mat files"
   ]
  },
  {
   "cell_type": "markdown",
   "metadata": {},
   "source": [
    "## matlab_loader"
   ]
  },
  {
   "cell_type": "markdown",
   "metadata": {},
   "source": [
    "This makes a data loader class for matlab files and also passes a filter to remove noise "
   ]
  },
  {
   "cell_type": "code",
   "execution_count": 4,
   "metadata": {},
   "outputs": [],
   "source": [
    "class matlab_loader:\n",
    "    \"\"\" Loads .mat files from a direcotory \n",
    "            \n",
    "            root_dir (str): path to the directory that containes files\n",
    "            mat_file (str): name of file \n",
    "     \n",
    "         returns:\n",
    "             self.array (np.array)\n",
    "             self.mat_file (Path object)\n",
    "    \"\"\"\n",
    "    def __init__(self, root_dir, mat_file):  \n",
    "        \n",
    "        root_dir = Path(root_dir)\n",
    "        mat_file = Path(mat_file)\n",
    "        \n",
    "        mat_obj = scipy.io.loadmat(root_dir/mat_file)\n",
    "        obj= mat_obj.keys()\n",
    "        obj = list(obj)\n",
    "        array = mat_obj[obj[-1]]\n",
    "        \n",
    "        self.array = array\n",
    "        self.mat_file = root_dir/mat_file\n",
    "        \n",
    "    def __repr__(self):\n",
    "        return f'{self.mat_file}'"
   ]
  },
  {
   "cell_type": "code",
   "execution_count": 5,
   "metadata": {},
   "outputs": [],
   "source": [
    "def xyz(arr, filter_level = 0.3):\n",
    "    \"\"\"Convert 3D voxel arry to xyz coordiates.\n",
    "    \n",
    "            arr (np.array): 3D voxel array    \n",
    "            filter_level (int/float): sets the threshold level for what is considered a voxel \n",
    "            \n",
    "            returns: \n",
    "                np.array (n x 3)\n",
    "    \"\"\"\n",
    "    \n",
    "    # Everything above filter level is converted to 1\n",
    "    arr = np.where(arr < filter_level, 0, 1)\n",
    "    \n",
    "    x, y, z = np.where(arr == 1)\n",
    "    \n",
    "    # converts the xyz so z is is *up* \n",
    "    x -= arr.shape[1]\n",
    "    y -= arr.shape[0]\n",
    "    x *= -1\n",
    "    y *= -1\n",
    "    xyz = np.array([x, y, z]).T\n",
    "    return xyz"
   ]
  },
  {
   "cell_type": "markdown",
   "metadata": {},
   "source": [
    "## PCA"
   ]
  },
  {
   "cell_type": "code",
   "execution_count": 6,
   "metadata": {},
   "outputs": [],
   "source": [
    "def pca(xyz):\n",
    "    \"\"\"PCA on a xyz points array\n",
    "            xyz(np.array): n x 3 array of xyz coordinates\n",
    "    \"\"\"\n",
    "    \n",
    "    #covaraince of xyz points\n",
    "    cov = np.cov(xyz.T)\n",
    "    \n",
    "    #eiganvalues and vectors\n",
    "    (eig_val, eig_vec) = np.linalg.eig(cov)\n",
    "\n",
    "    mean_x, mean_y, mean_z = [np.mean(xyz[:,0]),np.mean(xyz[:,1]),np.mean(xyz[:,2])]\n",
    "\n",
    "    return mean_x, mean_y, mean_z, eig_val, eig_vec"
   ]
  },
  {
   "cell_type": "markdown",
   "metadata": {},
   "source": [
    "## Classes:"
   ]
  },
  {
   "cell_type": "markdown",
   "metadata": {},
   "source": [
    "### Bone"
   ]
  },
  {
   "cell_type": "code",
   "execution_count": 7,
   "metadata": {},
   "outputs": [],
   "source": [
    "class bone:\n",
    "        def __init__(self, array, filter_level=0.3):\n",
    "          \n",
    "            if array is None:\n",
    "                pass\n",
    "            \n",
    "            else:\n",
    "                self.array = array\n",
    "                self.filter_level = filter_level\n",
    "                self.xyz = xyz(array, filter_level)\n",
    "\n",
    "                mean_x, mean_y, mean_z, eig_val, eig_vec = pca(self.xyz) \n",
    "\n",
    "                self.vec = eig_vec\n",
    "                self.PC1 = eig_vec[:,0]\n",
    "                self.PC2 = eig_vec[:,1]\n",
    "                self.PC3 = eig_vec[:,2]   \n",
    "\n",
    "                self.mean = (mean_x, mean_y, mean_z)"
   ]
  },
  {
   "cell_type": "markdown",
   "metadata": {},
   "source": [
    "### Foot bone"
   ]
  },
  {
   "cell_type": "markdown",
   "metadata": {},
   "source": [
    "### Indivual bone classes"
   ]
  },
  {
   "cell_type": "code",
   "execution_count": 9,
   "metadata": {},
   "outputs": [],
   "source": [
    "class foot_bone(bone):\n",
    "    def __init__(self, name = 'UN-NAMED', **kwargs):\n",
    "        \n",
    "        for key, value in kwargs.items():\n",
    "            setattr(self, key, value)\n",
    "            \n",
    "        self.name = name\n",
    "        \n",
    "    def __repr__(self):\n",
    "        return self.name"
   ]
  },
  {
   "cell_type": "code",
   "execution_count": 10,
   "metadata": {},
   "outputs": [],
   "source": [
    "class n_ang(foot_bone):\n",
    "    def __init__(self, n_ang_name, f1 = None ,f2 = None):\n",
    "                  \n",
    "        self.f1 = bone(f1)\n",
    "        self.f2 = bone(f2)\n",
    "        self.n_name = n_ang_name\n",
    "        \n",
    "    def __repr__(self):\n",
    "        return f'{self.n_name} ' "
   ]
  },
  {
   "cell_type": "markdown",
   "metadata": {},
   "source": [
    "## Ploting:"
   ]
  },
  {
   "cell_type": "code",
   "execution_count": 12,
   "metadata": {},
   "outputs": [],
   "source": [
    "def voxel_points(bone, color):\n",
    "    mlab.points3d(bone[:,0],\n",
    "                  bone[:,1],\n",
    "                  bone[:,2], \n",
    "                  mode=\"cube\", color=color)\n",
    "    \n",
    "def voxel_PCAs(bone,pc):\n",
    "    pc_color = [(1,0,0),(0,1,0), (0,0,1)]\n",
    "    \n",
    "    for n in range(1,4):\n",
    "        mlab.quiver3d(0,0,0, \n",
    "                      getattr(bone,f'{pc}{n}')[0],\n",
    "                      getattr(bone,f'{pc}{n}')[1], \n",
    "                      getattr(bone,f'{pc}{n}')[2], \n",
    "                      line_width =6, scale_factor= 100, color= pc_color[n-1])\n",
    "        "
   ]
  },
  {
   "cell_type": "markdown",
   "metadata": {},
   "source": [
    "## bone_plot"
   ]
  },
  {
   "cell_type": "code",
   "execution_count": 13,
   "metadata": {},
   "outputs": [],
   "source": [
    "# NEED TO REFACTOR\n",
    "def bone_plot(*args, user_colours = None, plot_PCA = True, plot_inv = False):\n",
    "    \"\"\"plots voxel array; can take n bones and plot PCA vectors\"\"\"\n",
    "\n",
    "    # Sorting out colours\n",
    "    colour_dict = {'yellow':(0.9,0.9,0),\n",
    "                   'pastel_blue':(0.7,1,1),\n",
    "                   'purple':(0.6,0,0.5),\n",
    "                   'orange':(0.8,0.3,0),\n",
    "                   'dark_blue':(0,0.3,0.7),}\n",
    "    \n",
    "    if user_colours is None:\n",
    "        user_colours = colour_dict\n",
    "    \n",
    "    plot_colours = []\n",
    "    \n",
    "    for col in user_colours:\n",
    "        x = colour_dict.get(col)\n",
    "        plot_colours.append(x)\n",
    "        \n",
    "    \n",
    "    for n, bone in enumerate(args):\n",
    "\n",
    "        mlab.points3d(bone.xyz[:,0], bone.xyz[:,1], bone.xyz[:,2],\n",
    "                     mode=\"cube\",\n",
    "                     color= plot_colours[n],\n",
    "                     scale_factor=1)\n",
    "        \n",
    "        x,y,z = bone.mean\n",
    "\n",
    "        #plot princible vectors\n",
    "        u0,v0,w0 = bone.PC1 * 100\n",
    "        u0_inv,v0_inv,w0_inv = bone.PC1 * 100 * -1\n",
    "\n",
    "        u1,v1,w1 = bone.PC2 * 100\n",
    "        u1_inv,v1_inv,w1_inv = bone.PC2 * 100 * -1\n",
    "\n",
    "        u2,v2,w2 = bone.PC3 * 100\n",
    "        u2_inv,v2_inv,w2_inv = bone.PC3 * 100 * -1\n",
    "\n",
    "        print(f\"{n}th bone PCA vectors: \\n {bone.vec} \\n \")\n",
    "        \n",
    "        \n",
    "        if plot_PCA is True:\n",
    "            mlab.quiver3d(x,y,z,u0,v0,w0,\n",
    "                                 line_width =6,\n",
    "                                 scale_factor=0.7,\n",
    "                                 color= (1,0,0))\n",
    "            mlab.quiver3d(x,y,z,u1,v1,w1,\n",
    "                                 line_width =6,\n",
    "                                 scale_factor= 0.5,\n",
    "                                 color= (0,1,0))\n",
    "            mlab.quiver3d(x,y,z,u2,v2,w2, \n",
    "                                 line_width =6,\n",
    "                                 scale_factor=0.3,\n",
    "                                 color=(0,0,1))\n",
    "\n",
    "\n",
    "        #ploting the inverse of eigen vectors\n",
    "        if plot_inv is True:\n",
    "            mlab.quiver3d(x,y,z,u0_inv,v0_inv,w0_inv,\n",
    "                                 line_width =6,\n",
    "                                 scale_factor=0.7,\n",
    "                                 color= (1,0,0))\n",
    "            mlab.quiver3d(x,y,z,u1_inv,v1_inv,w1_inv,\n",
    "                                 line_width =6,\n",
    "                                 scale_factor=0.5,\n",
    "                                 color= (0,1,0))\n",
    "            mlab.quiver3d(x,y,z,u2_inv,v2_inv,w2_inv,\n",
    "                                 line_width =6,\n",
    "                                 scale_factor=0.3,\n",
    "                                 color=(0,0,1))\n",
    "\n",
    "    return mlab.show()"
   ]
  },
  {
   "cell_type": "code",
   "execution_count": 14,
   "metadata": {},
   "outputs": [],
   "source": [
    "# Option user colours\n",
    "# user_colours=['yellow','purple']"
   ]
  },
  {
   "cell_type": "code",
   "execution_count": 15,
   "metadata": {},
   "outputs": [],
   "source": [
    "# bone_plot(phantom_tibia_f1,phantom_tibia_f2)"
   ]
  },
  {
   "cell_type": "markdown",
   "metadata": {},
   "source": [
    "## Angels"
   ]
  },
  {
   "cell_type": "code",
   "execution_count": 16,
   "metadata": {},
   "outputs": [],
   "source": [
    "def mag(v):\n",
    "    \"\"\"Finds magnitude of vector\n",
    "        v (np.array): vector\n",
    "    \n",
    "        returns: magnitude of vector (numeric)\n",
    "    \"\"\"\n",
    "    return math.sqrt(np.dot(v,v))\n",
    "\n",
    "#angel of vector\n",
    "def angle(v1, v2):\n",
    "    \"\"\"Finds angel between vectors\"\"\"\n",
    "    try:\n",
    "        x = math.acos(np.dot(v1, v2) / (mag(v1) * mag(v2)))\n",
    "    \n",
    "    except:\n",
    "        x = 0\n",
    "        \n",
    "    return x"
   ]
  },
  {
   "cell_type": "code",
   "execution_count": 17,
   "metadata": {},
   "outputs": [
    {
     "data": {
      "text/plain": [
       "WindowsPath('C:/Users/luke/OneDrive - University College London/Marta/data')"
      ]
     },
     "execution_count": 17,
     "metadata": {},
     "output_type": "execute_result"
    }
   ],
   "source": [
    "root_dir = Path('C:\\\\Users\\luke\\OneDrive - University College London\\Marta\\data'); root_dir"
   ]
  },
  {
   "cell_type": "code",
   "execution_count": 18,
   "metadata": {},
   "outputs": [
    {
     "name": "stdout",
     "output_type": "stream",
     "text": [
      "Wall time: 1.88 s\n"
     ]
    }
   ],
   "source": [
    "%%time\n",
    "# load data\n",
    "tibia_phant_f2 = matlab_loader(root_dir, mat_file = 'phantom/phantom_tibia_f2.mat' )\n",
    "tibia_phant_f1 = matlab_loader(root_dir, mat_file = 'phantom/phantom_tibia_f1.mat')\n",
    "tibia_3_f2 = matlab_loader(root_dir, mat_file = 'fista_recons/3 angles/tibia_f2.mat')\n",
    "tibia_6_f2 = matlab_loader(root_dir, mat_file = 'fista_recons/6 angles/tibia_f2.mat')\n",
    "tibia_10_f2 = matlab_loader(root_dir, mat_file = 'fista_recons/10 angles/tibia_f2.mat')\n",
    "tibia_15_f2 = matlab_loader(root_dir, mat_file = 'fista_recons/15 angles/tibia_f2.mat')"
   ]
  },
  {
   "cell_type": "raw",
   "metadata": {},
   "source": [
    "# write a file loader \n",
    "\n",
    "file list = walk through dir\n",
    "    for file in file list:\n",
    "         file[:-4] = matlab_loader(file)\n",
    "         setattr(bone, file[:-7])"
   ]
  },
  {
   "cell_type": "code",
   "execution_count": 19,
   "metadata": {},
   "outputs": [],
   "source": [
    "#root_dir = Path('C:\\\\Users\\luke\\Downloads\\low_res')"
   ]
  },
  {
   "cell_type": "code",
   "execution_count": 20,
   "metadata": {},
   "outputs": [],
   "source": [
    "# tibia_phant_f2 = matlab_loader(root_dir, mat_file = 'talus_f2.mat')\n",
    "# tibia_phant_f1 = matlab_loader(root_dir, mat_file = 'talus_f1.mat')\n",
    "# tibia_3_f2 = matlab_loader(root_dir, mat_file = 'fista recons/3 angles/talus_f2.mat')\n",
    "# tibia_6_f2 = matlab_loader(root_dir, mat_file = 'fista recons/6 angles/talus_f2.mat')"
   ]
  },
  {
   "cell_type": "code",
   "execution_count": 21,
   "metadata": {},
   "outputs": [
    {
     "name": "stdout",
     "output_type": "stream",
     "text": [
      "Wall time: 1.06 s\n"
     ]
    }
   ],
   "source": [
    "%%time\n",
    "tibia = foot_bone(name = 'tibia')\n",
    "\n",
    "tibia.phantom = n_ang(f1=tibia_phant_f1.array,\n",
    "                      f2=tibia_phant_f2.array,\n",
    "                      n_ang_name= 'phantom')\n",
    "\n",
    "tibia.ang3 = n_ang(f2 = tibia_3_f2.array,\n",
    "                   n_ang_name= 'angle 3')\n",
    "    \n",
    "\n",
    "# ang6(f2 = tibia_6_f2.array),\n",
    "# ang10(f2 = tibia_10_f2.array),\n",
    "# ang15(f2 = tibia_15_f2.array)"
   ]
  },
  {
   "cell_type": "code",
   "execution_count": 22,
   "metadata": {},
   "outputs": [],
   "source": [
    "talus_phant_f2 = matlab_loader(root_dir, mat_file = 'phantom/phantom_talus_f2.mat' )\n",
    "talus_phant_f1 = matlab_loader(root_dir, mat_file = 'phantom/phantom_talus_f1.mat')\n",
    "\n",
    "talus = foot_bone(name = 'talus')\n",
    "\n",
    "talus.phantom = n_ang(f1=talus_phant_f1.array,\n",
    "                      f2=talus_phant_f2.array,\n",
    "                      n_ang_name= 'phantom')"
   ]
  },
  {
   "cell_type": "code",
   "execution_count": 308,
   "metadata": {},
   "outputs": [
    {
     "name": "stdout",
     "output_type": "stream",
     "text": [
      "0th bone PCA vectors: \n",
      " [[ 0.23452909 -0.94849613  0.2129582 ]\n",
      " [-0.95038858 -0.2697696  -0.15487383]\n",
      " [-0.20434688  0.16607062  0.96470871]] \n",
      " \n",
      "1th bone PCA vectors: \n",
      " [[-0.60124372  0.66587279  0.44172324]\n",
      " [ 0.59393072  0.7422138  -0.31042708]\n",
      " [ 0.53455803 -0.07571066  0.84173369]] \n",
      " \n"
     ]
    }
   ],
   "source": [
    "#bone_plot(talus.phantom.f1, talus.phantom.f2)"
   ]
  },
  {
   "cell_type": "code",
   "execution_count": 23,
   "metadata": {},
   "outputs": [],
   "source": [
    "# have __iter__ so you can loop through PCAs\n",
    "def df_angles(bone, ang3 = None, ang6 = None, ang10 = None, ang15 = None, ALL = None):\n",
    "    \n",
    "    df = pd.DataFrame()\n",
    "    \n",
    "    #Phant f1 vs Phant f2 \n",
    "    df.loc[f'{bone} phantom f1: PC1' ,f'{bone} phantom f2: PC1'] = angle(bone.phantom.f1.PC1,bone.phantom.f2.PC1)\n",
    "    df.loc[f'{bone} phantom f1: PC2' ,f'{bone} phantom f2: PC2'] = angle(bone.phantom.f1.PC2,bone.phantom.f2.PC2)\n",
    "    df.loc[f'{bone} phantom f1: PC3' ,f'{bone} phantom f2: PC3'] = angle(bone.phantom.f1.PC3,bone.phantom.f2.PC3)\n",
    " \n",
    "    if ang3 or ALL is True:\n",
    "        #Phant f2 vs ang_3 f2\n",
    "        df.loc[f'{bone} phantom f1: PC1' ,f'{bone} ang3 f2: PC1'] = angle(bone.phantom.f1.PC1,bone.ang3.f2.PC1)\n",
    "        df.loc[f'{bone} phantom f1: PC2' ,f'{bone} ang3 f2: PC2'] = angle(bone.phantom.f1.PC2,bone.ang3.f2.PC2)\n",
    "        df.loc[f'{bone} phantom f1: PC3' ,f'{bone} ang3 f2: PC3'] = angle(bone.phantom.f1.PC3,bone.ang3.f2.PC3)\n",
    "\n",
    "    if ang6 or ALL is True:\n",
    "        #Phant f2 vs ang_6 f2\n",
    "        df.loc[f'{bone} phantom f1: PC1' ,f'{bone} ang6 f2: PC1'] = angle(bone.phantom.f1.PC1,bone.ang6.f2.PC1)\n",
    "        df.loc[f'{bone} phantom f1: PC2' ,f'{bone} ang6 f2: PC2'] = angle(bone.phantom.f1.PC2,bone.ang6.f2.PC2)\n",
    "        df.loc[f'{bone} phantom f1: PC3' ,f'{bone} ang6 f2: PC3'] = angle(bone.phantom.f1.PC3,bone.ang6.f2.PC3)\n",
    "    \n",
    "    if ang10 or ALL is True:\n",
    "        #Phant f2 vs ang_10 f2\n",
    "        df.loc[f'{bone} phantom f1: PC1' ,f'{bone} ang10 f2: PC1'] = angle(bone.phantom.f1.PC1,bone.ang10.f2.PC1)\n",
    "        df.loc[f'{bone} phantom f1: PC2' ,f'{bone} ang10 f2: PC2'] = angle(bone.phantom.f1.PC2,bone.ang10.f2.PC2)\n",
    "        df.loc[f'{bone} phantom f1: PC3' ,f'{bone} ang10 f2: PC3'] = angle(bone.phantom.f1.PC3,bone.ang10.f2.PC3)\n",
    "    \n",
    "    if ang10 or ALL is True:\n",
    "        #Phant f2 vs ang_15 f2\n",
    "        df.loc[f'{bone} phantom f1: PC1' ,f'{bone} ang10 f2: PC1'] = angle(bone.phantom.f1.PC1,bone.ang15.f2.PC1)\n",
    "        df.loc[f'{bone} phantom f1: PC2' ,f'{bone} ang10 f2: PC2'] = angle(bone.phantom.f1.PC2,bone.ang15.f2.PC2)\n",
    "        df.loc[f'{bone} phantom f1: PC3' ,f'{bone} ang10 f2: PC3'] = angle(bone.phantom.f1.PC3,bone.ang15.f2.PC3)\n",
    "    \n",
    "    return df"
   ]
  },
  {
   "cell_type": "code",
   "execution_count": 24,
   "metadata": {},
   "outputs": [],
   "source": [
    "#tibia.ang10.f2.PC1 , tibia.phantom.f2.PC1\n",
    "#point excption of same"
   ]
  },
  {
   "cell_type": "code",
   "execution_count": 25,
   "metadata": {},
   "outputs": [],
   "source": [
    "#%%time\n",
    "#df_angles(tibia, ALL = True)"
   ]
  },
  {
   "cell_type": "code",
   "execution_count": 26,
   "metadata": {},
   "outputs": [],
   "source": [
    "# bone_plot(tibia.phantom.f1)"
   ]
  },
  {
   "cell_type": "markdown",
   "metadata": {},
   "source": [
    "# Rotation"
   ]
  },
  {
   "cell_type": "markdown",
   "metadata": {},
   "source": [
    "## Step 1: Center the 2 means"
   ]
  },
  {
   "cell_type": "markdown",
   "metadata": {},
   "source": [
    "displacement of PC1 and PC1_pos2\n",
    "\n",
    "then rotate around that vector the angels of PC2 and PC3"
   ]
  },
  {
   "cell_type": "code",
   "execution_count": 27,
   "metadata": {},
   "outputs": [],
   "source": [
    "def voxel_center(bone):\n",
    "    #moves f1 onto f2\n",
    "    tfm =  np.asarray(bone.f1.mean) - np.asarray(bone.f2.mean)\n",
    "    \n",
    "    #changing bone matrix coords f1\n",
    "    bone.f1.tfm_xyz = bone.f1.xyz + tfm\n",
    "    \n",
    "    #sets mean to origin\n",
    "    for n, i in enumerate(bone.f1.mean):\n",
    "         bone.f1.tfm_xyz[:,n] -= bone.f1.mean[n] \n",
    "    \n",
    "    #changing bone matrix coords f2\n",
    "    bone.f2.tfm_xyz = bone.f2.xyz.astype(np.float64)\n",
    "    #sets mean to origin\n",
    "    for n, i in enumerate(bone.f2.mean):\n",
    "         bone.f2.tfm_xyz[:,n] -= bone.f1.mean[n] \n",
    "            \n",
    "    return bone"
   ]
  },
  {
   "cell_type": "code",
   "execution_count": 28,
   "metadata": {},
   "outputs": [
    {
     "data": {
      "text/plain": [
       "phantom "
      ]
     },
     "execution_count": 28,
     "metadata": {},
     "output_type": "execute_result"
    }
   ],
   "source": [
    "voxel_center(tibia.phantom)"
   ]
  },
  {
   "cell_type": "markdown",
   "metadata": {},
   "source": [
    "## Quatertions"
   ]
  },
  {
   "cell_type": "code",
   "execution_count": 36,
   "metadata": {},
   "outputs": [],
   "source": [
    "#import quaternion"
   ]
  },
  {
   "cell_type": "code",
   "execution_count": 29,
   "metadata": {},
   "outputs": [],
   "source": [
    "from pyquaternion import Quaternion"
   ]
  },
  {
   "cell_type": "code",
   "execution_count": 219,
   "metadata": {
    "jupyter": {
     "source_hidden": true
    }
   },
   "outputs": [],
   "source": [
    "# def rotation(bone_f1, bone_f2):\n",
    "    \n",
    "#     # PC1 \n",
    "#     # angle\n",
    "#     ang = angle(bone_f1, bone_f2)\n",
    "    \n",
    "#     # cross product\n",
    "#     #x,y,z = np.cross(bone_f1, bone_f2)\n",
    "#     # Quaternion around crossproduct\n",
    "    \n",
    "#     r = Quaternion(axis = np.cross(bone_f1, bone_f2), angle = ang)\n",
    "    \n",
    "#     for pc in bone_f1:\n",
    "#         bone_f1.pc = r.rotate(bone_f1)\n",
    "\n",
    "#         x = np.apply_along_axis(lambda x: r.rotate(x), 1, tfm_tib_f1)"
   ]
  },
  {
   "cell_type": "code",
   "execution_count": 220,
   "metadata": {
    "jupyter": {
     "source_hidden": true
    }
   },
   "outputs": [],
   "source": [
    "# def rot3d(x,r):\n",
    "#     np.apply_along_axis(r.rotate, 1, x)"
   ]
  },
  {
   "cell_type": "markdown",
   "metadata": {},
   "source": [
    "## Rotaion around PCs"
   ]
  },
  {
   "cell_type": "markdown",
   "metadata": {},
   "source": [
    "Have to invtert the vectors if they are going the wrong way or it won't work"
   ]
  },
  {
   "cell_type": "code",
   "execution_count": 30,
   "metadata": {},
   "outputs": [],
   "source": [
    "def roation(bone):\n",
    "    \n",
    "    # init tfm_PCn\n",
    "    for n in range(1,4):\n",
    "        setattr(bone.f1,f'tfm_PC{n}',getattr(bone.f1,f'PC{n}'))\n",
    "        \n",
    "    # for each pc rotate    \n",
    "    for n in range(1,4):\n",
    "    \n",
    "        f1_PCn = getattr(bone.f1,f'tfm_PC{n}')\n",
    "        f2_PCn = getattr(bone.f2,f'PC{n}')\n",
    "            \n",
    "        # angle between PCs\n",
    "        ang =  angle(f1_PCn, f2_PCn)\n",
    "        \n",
    "        #cross product between PCs\n",
    "        x,y,z = np.cross(f1_PCn, f2_PCn)\n",
    "\n",
    "        r = Quaternion(axis = [x,y,z], angle = ang)\n",
    "        \n",
    "        # rotate voxelx\n",
    "        #set_trace()\n",
    "        bone.f1.tfm_xyz = np.apply_along_axis(r.rotate, 1, bone.f1.tfm_xyz)\n",
    "        print(f'{n} {r}')\n",
    "        \n",
    "        #rotate PCs\n",
    "        for n in range(1,4):\n",
    "            setattr(bone.f1,\n",
    "                    f'tfm_PC{n}',\n",
    "                    r.rotate(getattr(bone.f1,f'tfm_PC{n}')))\n",
    "                                            \n",
    "    return bone"
   ]
  },
  {
   "cell_type": "code",
   "execution_count": 31,
   "metadata": {},
   "outputs": [],
   "source": [
    "def rotation_plot(bone):\n",
    "    \n",
    "   #plot rotated f1\n",
    "    voxel_points(bone.f1.tfm_xyz,color=(0,0.7,0))\n",
    "    \n",
    "    # plot og f2 \n",
    "    voxel_points(bone.f2.tfm_xyz,color=(0.7,0,0))\n",
    "\n",
    "    #f2 PCA \n",
    "    voxel_PCAs(bone.f2,'PC')\n",
    "    \n",
    "#     mlab.quiver3d(0,0,0, bone.f2.PC1[0], bone.f2.PC1[1], bone.f2.PC1[2], line_width =6, scale_factor= 100, color= (1,0,0))\n",
    "#     mlab.quiver3d(0,0,0,bone.f2.PC2[0], bone.f2.PC2[1], bone.f2.PC2[2], line_width =6, scale_factor= 100, color= (0,0,1))\n",
    "#     mlab.quiver3d(0,0,0,bone.f2.PC3[0], bone.f2.PC3[1], bone.f2.PC3[2], line_width =6, scale_factor= 100, color= (0,1,0))\n",
    "    \n",
    "\n",
    "    #w/ rotion\n",
    "    voxel_PCAs(bone.f1,'tfm_PC')\n",
    "    \n",
    "#     mlab.quiver3d(0,0,0, bone.f1.tfm_PC1[0], bone.f1.tfm_PC1[1], bone.f1.tfm_PC1[2], line_width =6, scale_factor= 100, color= (1,0,0))\n",
    "#     mlab.quiver3d(0,0,0,bone.f1.tfm_PC2[0], bone.f1.tfm_PC2[1], bone.f1.tfm_PC2[2], line_width =6, scale_factor= 100, color= (0,0,1))\n",
    "#     mlab.quiver3d(0,0,0,bone.f1.tfm_PC3[0], bone.f1.tfm_PC3[1], bone.f1.tfm_PC3[2], line_width =6, scale_factor= 100, color= (0,1,0))\n",
    "    \n",
    "\n",
    "    mlab.show()"
   ]
  },
  {
   "cell_type": "code",
   "execution_count": 32,
   "metadata": {},
   "outputs": [
    {
     "name": "stdout",
     "output_type": "stream",
     "text": [
      "1 +0.087 -0.854i -0.401j -0.320k\n",
      "2 +0.651 -0.198i -0.150j +0.717k\n",
      "3 +1.000 -0.000i +0.000j -0.000k\n"
     ]
    },
    {
     "data": {
      "text/plain": [
       "phantom "
      ]
     },
     "execution_count": 32,
     "metadata": {},
     "output_type": "execute_result"
    }
   ],
   "source": [
    "roation(tibia.phantom)"
   ]
  },
  {
   "cell_type": "code",
   "execution_count": 33,
   "metadata": {},
   "outputs": [],
   "source": [
    "rotation_plot(tibia.phantom)"
   ]
  },
  {
   "cell_type": "markdown",
   "metadata": {},
   "source": [
    "# Testing"
   ]
  },
  {
   "cell_type": "code",
   "execution_count": 279,
   "metadata": {},
   "outputs": [],
   "source": [
    "talus = foot_bone(name = 'talus')\n",
    "\n",
    "talus.phantom = n_ang(f1=talus_phant_f1.array,\n",
    "                      f2=talus_phant_f2.array,\n",
    "                      n_ang_name= 'phantom')"
   ]
  },
  {
   "cell_type": "code",
   "execution_count": 280,
   "metadata": {},
   "outputs": [],
   "source": [
    "talus.phantom =voxel_center(talus.phantom)"
   ]
  },
  {
   "cell_type": "markdown",
   "metadata": {},
   "source": [
    "# ...pc1"
   ]
  },
  {
   "cell_type": "code",
   "execution_count": 281,
   "metadata": {},
   "outputs": [],
   "source": [
    "# # inv module \n",
    "# pc1_inv = talus.phantom.f2.PC1*-1\n",
    "# ang =  angle(talus.phantom.f1.PC1 ,pc1_inv)\n",
    "# x,y,z = np.cross(talus.phantom.f1.PC1,pc1_inv)"
   ]
  },
  {
   "cell_type": "code",
   "execution_count": 282,
   "metadata": {},
   "outputs": [],
   "source": [
    "ang =  angle(talus.phantom.f1.PC1 ,talus.phantom.f2.PC1)\n",
    "x,y,z = np.cross(talus.phantom.f1.PC1,talus.phantom.f2.PC1)"
   ]
  },
  {
   "cell_type": "code",
   "execution_count": 284,
   "metadata": {},
   "outputs": [],
   "source": [
    "r1 = Quaternion(axis = [x,y,z], angle = ang)"
   ]
  },
  {
   "cell_type": "code",
   "execution_count": 287,
   "metadata": {},
   "outputs": [],
   "source": [
    "talus.phantom.f1.tfm_xyz = np.apply_along_axis(r1.rotate, 1, talus.phantom.f1.tfm_xyz)"
   ]
  },
  {
   "cell_type": "code",
   "execution_count": 288,
   "metadata": {},
   "outputs": [],
   "source": [
    "pc1 = talus.phantom.f1.PC1\n",
    "pc2 = talus.phantom.f1.PC2\n",
    "pc3 = talus.phantom.f1.PC3"
   ]
  },
  {
   "cell_type": "code",
   "execution_count": 289,
   "metadata": {},
   "outputs": [],
   "source": [
    "pc1= r1.rotate(pc1)\n",
    "pc2= r1.rotate(pc2)\n",
    "pc3= r1.rotate(pc3)"
   ]
  },
  {
   "cell_type": "markdown",
   "metadata": {},
   "source": [
    "# ...pc2"
   ]
  },
  {
   "cell_type": "code",
   "execution_count": 290,
   "metadata": {},
   "outputs": [],
   "source": [
    "#pc2_inv = tibia.phantom.f2.PC2*-1"
   ]
  },
  {
   "cell_type": "code",
   "execution_count": 291,
   "metadata": {},
   "outputs": [],
   "source": [
    "#ang = (angle(pc2_inv ,tibia.phantom.f1.PC2))"
   ]
  },
  {
   "cell_type": "code",
   "execution_count": 292,
   "metadata": {},
   "outputs": [],
   "source": [
    "ang = (angle(pc2 ,talus.phantom.f2.PC2))"
   ]
  },
  {
   "cell_type": "code",
   "execution_count": 293,
   "metadata": {},
   "outputs": [
    {
     "data": {
      "text/plain": [
       "0.9365642423615254"
      ]
     },
     "execution_count": 293,
     "metadata": {},
     "output_type": "execute_result"
    }
   ],
   "source": [
    "ang"
   ]
  },
  {
   "cell_type": "code",
   "execution_count": 294,
   "metadata": {},
   "outputs": [],
   "source": [
    "x,y,z= np.cross(pc2,talus.phantom.f2.PC2)"
   ]
  },
  {
   "cell_type": "code",
   "execution_count": 295,
   "metadata": {},
   "outputs": [],
   "source": [
    "r2 = Quaternion(axis = [x,y,z], angle = ang)"
   ]
  },
  {
   "cell_type": "code",
   "execution_count": 296,
   "metadata": {},
   "outputs": [],
   "source": [
    "pc1 = r2.rotate(pc1)\n",
    "pc2 = r2.rotate(pc2)\n",
    "pc3 = r2.rotate(pc3)"
   ]
  },
  {
   "cell_type": "code",
   "execution_count": 297,
   "metadata": {},
   "outputs": [],
   "source": [
    "talus.phantom.f1.tfm_xyz = np.apply_along_axis(r2.rotate, 1, talus.phantom.f1.tfm_xyz)"
   ]
  },
  {
   "cell_type": "markdown",
   "metadata": {},
   "source": [
    "# ...pc3"
   ]
  },
  {
   "cell_type": "code",
   "execution_count": 298,
   "metadata": {},
   "outputs": [],
   "source": [
    "#pc3_inv = tibia.phantom.f2.PC3*-1"
   ]
  },
  {
   "cell_type": "code",
   "execution_count": 299,
   "metadata": {},
   "outputs": [],
   "source": [
    "#ang = (angle(pc3_inv ,tibia.phantom.f1.PC3))"
   ]
  },
  {
   "cell_type": "code",
   "execution_count": 300,
   "metadata": {},
   "outputs": [],
   "source": [
    "ang =  angle(pc3,talus.phantom.f2.PC3)"
   ]
  },
  {
   "cell_type": "code",
   "execution_count": 302,
   "metadata": {},
   "outputs": [],
   "source": [
    "x,y,z= np.cross(pc3, talus.phantom.f2.PC3)"
   ]
  },
  {
   "cell_type": "code",
   "execution_count": 303,
   "metadata": {},
   "outputs": [],
   "source": [
    "r3 = Quaternion(axis = [x,y,z], angle = ang)"
   ]
  },
  {
   "cell_type": "code",
   "execution_count": 304,
   "metadata": {},
   "outputs": [],
   "source": [
    "pc1 = r3.rotate(pc1)\n",
    "pc2 = r3.rotate(pc2)\n",
    "pc3 = r3.rotate(pc3)"
   ]
  },
  {
   "cell_type": "code",
   "execution_count": 305,
   "metadata": {},
   "outputs": [],
   "source": [
    "talus.phantom.f1.tfm_xyz = np.apply_along_axis(r3.rotate, 1, talus.phantom.f1.tfm_xyz)"
   ]
  },
  {
   "cell_type": "code",
   "execution_count": 307,
   "metadata": {},
   "outputs": [],
   "source": [
    "# roatated \n",
    "mlab.points3d(talus.phantom.f1.tfm_xyz[:,0],\n",
    "              talus.phantom.f1.tfm_xyz[:,1],\n",
    "              talus.phantom.f1.tfm_xyz[:,2], \n",
    "              mode=\"cube\", color=(0,0.7,0))\n",
    "\n",
    "#f2\n",
    "mlab.points3d(talus.phantom.f2.tfm_xyz[:,0],\n",
    "              talus.phantom.f2.tfm_xyz[:,1],\n",
    "              talus.phantom.f2.tfm_xyz[:,2],\n",
    "              mode=\"cube\", color=(1,0,0))\n",
    "\n",
    "#f2 PCA \n",
    "mlab.quiver3d(0,0,0,talus.phantom.f2.PC1[0],talus.phantom.f2.PC1[1],talus.phantom.f2.PC1[2], line_width =6, scale_factor= 100, color= (1,0,0))\n",
    "mlab.quiver3d(0,0,0,talus.phantom.f2.PC2[0],talus.phantom.f2.PC2[1],talus.phantom.f2.PC2[2], line_width =6, scale_factor= 100, color= (0,0,1))\n",
    "mlab.quiver3d(0,0,0,talus.phantom.f2.PC3[0],talus.phantom.f2.PC3[1],talus.phantom.f2.PC3[2], line_width =6, scale_factor= 100, color= (0,1,0))\n",
    "\n",
    "#w/ rotion\n",
    "mlab.quiver3d(0,0,0,pc1[0],pc1[1],pc1[2], line_width =6, scale_factor= 100, color= (0.6,0,0))\n",
    "mlab.quiver3d(0,0,0,pc2[0],pc2[1],pc2[2], line_width =6, scale_factor= 100, color= (0,0,1))\n",
    "mlab.quiver3d(0,0,0,pc3[0],pc3[1],pc3[2], line_width =6, scale_factor= 100, color= (0,1,0))\n",
    "\n",
    "mlab.show()"
   ]
  }
 ],
 "metadata": {
  "kernelspec": {
   "display_name": "Python 3",
   "language": "python",
   "name": "python3"
  },
  "language_info": {
   "codemirror_mode": {
    "name": "ipython",
    "version": 3
   },
   "file_extension": ".py",
   "mimetype": "text/x-python",
   "name": "python",
   "nbconvert_exporter": "python",
   "pygments_lexer": "ipython3",
   "version": "3.6.7"
  }
 },
 "nbformat": 4,
 "nbformat_minor": 4
}
