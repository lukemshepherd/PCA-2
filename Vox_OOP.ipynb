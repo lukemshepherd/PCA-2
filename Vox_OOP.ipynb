{
 "cells": [
  {
   "cell_type": "code",
   "execution_count": 1,
   "metadata": {},
   "outputs": [],
   "source": [
    "import numpy as np\n",
    "import scipy.io\n",
    "import os\n",
    "import pandas as pd\n",
    "import math\n",
    "from pathlib import Path\n",
    "from mayavi import mlab\n",
    "from pyquaternion import Quaternion\n",
    "from IPython.core.debugger import set_trace"
   ]
  },
  {
   "cell_type": "markdown",
   "metadata": {},
   "source": [
    "Python                    3.7\n",
    "numpy                     1.17.2 \n",
    "pyqt5                     5.13.1\n",
    "mayavi                    4.7.1\n",
    "https://docs.enthought.com/mayavi/mayavi/\n",
    "vtk\n",
    "scipy                     1.3.1 \n",
    "pyquaternion              0.9.5 \n",
    "http://kieranwynn.github.io/pyquaternion/"
   ]
  },
  {
   "cell_type": "markdown",
   "metadata": {},
   "source": [
    "## Libaries\n",
    "\n",
    "### Python\n",
    "This was writen on python 3.7 (although 3.6 *should* work- although not tested) python 2 versions won't work due to the use of f strings\n",
    "\n",
    "### mayavi\n",
    "This is the 3d plotting libray used for rendering the plots. Mayvai will launch a qt window to display the plot- meaning that you will need an X serve session for the plots to load (would not recomend if you are using docker- there are ways of geting jupyter to show them inline, howwever I couldn't get it working!\n",
    "\n",
    "#### mayavi install\n",
    "https://docs.enthought.com/mayavi/mayavi/installation.html#installing-with-conda-forge\n",
    "\n",
    "    conda install vtk\n",
    "    conda install qyqt5\n",
    "    \n",
    "    conda install mayavi\n",
    "    \n",
    "### pyquaternion\n",
    "http://kieranwynn.github.io/pyquaternion/"
   ]
  },
  {
   "cell_type": "markdown",
   "metadata": {},
   "source": [
    "## matlab_loader"
   ]
  },
  {
   "cell_type": "markdown",
   "metadata": {},
   "source": [
    "This makes a data loader class for matlab files and also passes a filter to remove noise "
   ]
  },
  {
   "cell_type": "code",
   "execution_count": 2,
   "metadata": {},
   "outputs": [],
   "source": [
    "class matlab_loader:\n",
    "    \"\"\" Loads .mat files from a direcotory \n",
    "            \n",
    "            root_dir (str): path to the directory that containes files\n",
    "            mat_file (str): name of file \n",
    "     \n",
    "         returns:\n",
    "             self.array (np.array)\n",
    "             self.mat_file (Path object)\n",
    "    \"\"\"\n",
    "    def __init__(self, root_dir, mat_file):  \n",
    "        \n",
    "        root_dir = Path(root_dir)\n",
    "        mat_file = Path(mat_file)\n",
    "        \n",
    "        mat_obj = scipy.io.loadmat(root_dir/mat_file)\n",
    "        obj= mat_obj.keys()\n",
    "        obj = list(obj)\n",
    "        array = mat_obj[obj[-1]]\n",
    "        \n",
    "        self.array = array\n",
    "        self.mat_file = root_dir/mat_file\n",
    "        \n",
    "    def __repr__(self):\n",
    "        return f'{self.mat_file}'"
   ]
  },
  {
   "cell_type": "code",
   "execution_count": 3,
   "metadata": {},
   "outputs": [],
   "source": [
    "def xyz(arr, filter_level = 0.3):\n",
    "    \"\"\"Convert 3D voxel arry to xyz coordiates.\n",
    "    \n",
    "            arr (np.array): 3D voxel array    \n",
    "            filter_level (int/float): sets the threshold level for \n",
    "            what is considered a voxel \n",
    "            \n",
    "            returns: \n",
    "                np.array (n x 3)\n",
    "    \"\"\"\n",
    "    \n",
    "    # Everything above filter level is converted to 1\n",
    "    arr = np.where(arr < filter_level, 0, 1)\n",
    "    \n",
    "    x, y, z = np.where(arr == 1)\n",
    "    \n",
    "    # converts the xyz so z is is *up* \n",
    "    x -= arr.shape[1]\n",
    "    y -= arr.shape[0]\n",
    "    x *= -1\n",
    "    y *= -1\n",
    "    xyz = np.array([x, y, z]).T\n",
    "    return xyz"
   ]
  },
  {
   "cell_type": "markdown",
   "metadata": {},
   "source": [
    "## PCA"
   ]
  },
  {
   "cell_type": "code",
   "execution_count": 4,
   "metadata": {},
   "outputs": [],
   "source": [
    "def pca(xyz):\n",
    "    \"\"\"PCA on a xyz points array\n",
    "            xyz(np.array): n x 3 array of xyz coordinates\n",
    "    \"\"\"\n",
    "    \n",
    "    #covaraince of xyz points\n",
    "    cov = np.cov(xyz.T)\n",
    "    \n",
    "    #eiganvalues and vectors\n",
    "    (eig_val, eig_vec) = np.linalg.eig(cov)\n",
    "\n",
    "    mean_x, mean_y, mean_z = [np.mean(xyz[:,0]),np.mean(xyz[:,1]),np.mean(xyz[:,2])]\n",
    "\n",
    "    return mean_x, mean_y, mean_z, eig_val, eig_vec"
   ]
  },
  {
   "cell_type": "markdown",
   "metadata": {},
   "source": [
    "# Classes:"
   ]
  },
  {
   "cell_type": "markdown",
   "metadata": {},
   "source": [
    "## Hyriachy\n",
    "\n",
    "1. `foot_bone` : sets which bone; eg 'tibia' \n",
    "   \n",
    "2. `n_ang` : defines how many angles the scan has, also stores the f1 and/or f2 position\n",
    "\n",
    "3. `bone` : It calls the PCA on xyz of the bone and stores the output\n"
   ]
  },
  {
   "cell_type": "markdown",
   "metadata": {},
   "source": [
    "## Bone"
   ]
  },
  {
   "cell_type": "code",
   "execution_count": null,
   "metadata": {},
   "outputs": [],
   "source": [
    "class bone:\n",
    "        def __init__(self, array, filter_level=0.3):\n",
    "          \n",
    "            if array is None:\n",
    "                pass\n",
    "            \n",
    "            else:\n",
    "                self.array = array\n",
    "                self.filter_level = filter_level\n",
    "                self.xyz = xyz(array, filter_level)\n",
    "\n",
    "                mean_x, mean_y, mean_z, eig_val, eig_vec = pca(self.xyz) \n",
    "\n",
    "                self.vec = eig_vec\n",
    "                self.PC1 = eig_vec[:,0]\n",
    "                self.PC2 = eig_vec[:,1]\n",
    "                self.PC3 = eig_vec[:,2]   \n",
    "\n",
    "                self.mean = (mean_x, mean_y, mean_z)"
   ]
  },
  {
   "cell_type": "markdown",
   "metadata": {},
   "source": [
    "### Foot bone"
   ]
  },
  {
   "cell_type": "code",
   "execution_count": 6,
   "metadata": {},
   "outputs": [],
   "source": [
    "class foot_bone(bone):\n",
    "    def __init__(self, name = 'UN-NAMED', **kwargs):\n",
    "        \n",
    "        for key, value in kwargs.items():\n",
    "            setattr(self, key, value)\n",
    "            \n",
    "        self.name = name\n",
    "        \n",
    "    def __repr__(self):\n",
    "        return self.name"
   ]
  },
  {
   "cell_type": "markdown",
   "metadata": {},
   "source": [
    "### Indivual bone classes"
   ]
  },
  {
   "cell_type": "code",
   "execution_count": 7,
   "metadata": {},
   "outputs": [],
   "source": [
    "class n_ang(foot_bone):\n",
    "    def __init__(self, n_ang_name, f1 = None ,f2 = None):\n",
    "                  \n",
    "        self.f1 = bone(f1)\n",
    "        self.f2 = bone(f2)\n",
    "        self.n_name = n_ang_name\n",
    "        \n",
    "    def __repr__(self):\n",
    "        return f'{self.n_name} ' "
   ]
  },
  {
   "cell_type": "markdown",
   "metadata": {},
   "source": [
    "# Ploting:"
   ]
  },
  {
   "cell_type": "markdown",
   "metadata": {},
   "source": [
    "Creates some repeated blocks for functions"
   ]
  },
  {
   "cell_type": "code",
   "execution_count": 8,
   "metadata": {},
   "outputs": [],
   "source": [
    "def voxel_points(bone, color):\n",
    "    mlab.points3d(bone[:,0],\n",
    "                  bone[:,1],\n",
    "                  bone[:,2], \n",
    "                  mode=\"cube\", color=color)\n",
    "    \n",
    "def voxel_PCAs(bone,pc):\n",
    "    pc_color = [(1,0,0),(0,1,0), (0,0,1)]\n",
    "    \n",
    "    for n in range(1,4):\n",
    "        mlab.quiver3d(0,0,0, \n",
    "                      getattr(bone,f'{pc}{n}')[0],\n",
    "                      getattr(bone,f'{pc}{n}')[1], \n",
    "                      getattr(bone,f'{pc}{n}')[2], \n",
    "                      line_width =6, scale_factor= 100, color= pc_color[n-1])\n",
    "        "
   ]
  },
  {
   "cell_type": "markdown",
   "metadata": {},
   "source": [
    "## bone_plot"
   ]
  },
  {
   "cell_type": "markdown",
   "metadata": {},
   "source": [
    "This plots an arbatory number of bones\n",
    "\n",
    "eg: `bone_plot(tibia.phantom.f1)`"
   ]
  },
  {
   "cell_type": "code",
   "execution_count": 9,
   "metadata": {},
   "outputs": [],
   "source": [
    "# NEED TO REFACTOR\n",
    "def bone_plot(*args, user_colours = None, plot_PCA = True, plot_inv = False):\n",
    "    \"\"\"plots voxel array; can take n bones and plot PCA vectors\"\"\"\n",
    "\n",
    "    # Sorting out colours\n",
    "    colour_dict = {'yellow':(0.9,0.9,0),\n",
    "                   'pastel_blue':(0.7,1,1),\n",
    "                   'purple':(0.6,0,0.5),\n",
    "                   'orange':(0.8,0.3,0),\n",
    "                   'dark_blue':(0,0.3,0.7),}\n",
    "    \n",
    "    if user_colours is None:\n",
    "        user_colours = colour_dict\n",
    "    \n",
    "    plot_colours = []\n",
    "    \n",
    "    for col in user_colours:\n",
    "        x = colour_dict.get(col)\n",
    "        plot_colours.append(x)\n",
    "        \n",
    "    \n",
    "    for n, bone in enumerate(args):\n",
    "\n",
    "        mlab.points3d(bone.xyz[:,0], \n",
    "                      bone.xyz[:,1], \n",
    "                      bone.xyz[:,2],\n",
    "                     mode=\"cube\",\n",
    "                     color= plot_colours[n],\n",
    "                     scale_factor=1)\n",
    "        \n",
    "        x,y,z = bone.mean\n",
    "\n",
    "        #plot princible vectors\n",
    "        u0,v0,w0 = bone.PC1 * 100\n",
    "        u0_inv,v0_inv,w0_inv = bone.PC1 * 100 * -1\n",
    "\n",
    "        u1,v1,w1 = bone.PC2 * 100\n",
    "        u1_inv,v1_inv,w1_inv = bone.PC2 * 100 * -1\n",
    "\n",
    "        u2,v2,w2 = bone.PC3 * 100\n",
    "        u2_inv,v2_inv,w2_inv = bone.PC3 * 100 * -1\n",
    "\n",
    "        print(f\"{n}th bone PCA vectors: \\n {bone.vec} \\n \")\n",
    "        \n",
    "        \n",
    "        if plot_PCA is True:\n",
    "            mlab.quiver3d(x,y,z,u0,v0,w0,\n",
    "                                 line_width =6,\n",
    "                                 scale_factor=0.7,\n",
    "                                 color= (1,0,0))\n",
    "            mlab.quiver3d(x,y,z,u1,v1,w1,\n",
    "                                 line_width =6,\n",
    "                                 scale_factor= 0.5,\n",
    "                                 color= (0,1,0))\n",
    "            mlab.quiver3d(x,y,z,u2,v2,w2, \n",
    "                                 line_width =6,\n",
    "                                 scale_factor=0.3,\n",
    "                                 color=(0,0,1))\n",
    "\n",
    "\n",
    "        #ploting the inverse of eigen vectors\n",
    "        if plot_inv is True:\n",
    "            mlab.quiver3d(x,y,z,u0_inv,v0_inv,w0_inv,\n",
    "                                 line_width =6,\n",
    "                                 scale_factor=0.7,\n",
    "                                 color= (1,0,0))\n",
    "            mlab.quiver3d(x,y,z,u1_inv,v1_inv,w1_inv,\n",
    "                                 line_width =6,\n",
    "                                 scale_factor=0.5,\n",
    "                                 color= (0,1,0))\n",
    "            mlab.quiver3d(x,y,z,u2_inv,v2_inv,w2_inv,\n",
    "                                 line_width =6,\n",
    "                                 scale_factor=0.3,\n",
    "                                 color=(0,0,1))\n",
    "\n",
    "    return mlab.show()"
   ]
  },
  {
   "cell_type": "code",
   "execution_count": 504,
   "metadata": {},
   "outputs": [],
   "source": [
    "# Option user colours\n",
    "# user_colours=['yellow','purple']"
   ]
  },
  {
   "cell_type": "markdown",
   "metadata": {},
   "source": [
    "## Angels"
   ]
  },
  {
   "cell_type": "code",
   "execution_count": 10,
   "metadata": {},
   "outputs": [],
   "source": [
    "def mag(v):\n",
    "    \"\"\"Finds magnitude of vector\n",
    "        v (np.array): vector\n",
    "    \"\"\"\n",
    "    return math.sqrt(np.dot(v,v))\n",
    "\n",
    "\n",
    "def angle(v1, v2):\n",
    "    \"\"\"Finds angel between vectors\"\"\"\n",
    "    try:\n",
    "        x = math.acos(np.dot(v1, v2) / (mag(v1) * mag(v2)))\n",
    "    \n",
    "    except:\n",
    "        x = 0\n",
    "        \n",
    "    return x"
   ]
  },
  {
   "cell_type": "code",
   "execution_count": null,
   "metadata": {},
   "outputs": [],
   "source": [
    "# # write a file loader \n",
    "\n",
    "# file list = walk through dir\n",
    "#     for file in file list:\n",
    "#          file[:-4] = matlab_loader(file)\n",
    "#          setattr(bone, file[:-7])"
   ]
  },
  {
   "cell_type": "code",
   "execution_count": 18,
   "metadata": {},
   "outputs": [],
   "source": [
    "# REFACTOR\n",
    "#have __iter__ so you can loop through PCAs\n",
    "def df_angles(bone, ang3 = None, ang6 = None, ang10 = None, ang15 = None, ALL = None):\n",
    "    \n",
    "    df = pd.DataFrame()\n",
    "    \n",
    "    #Phant f1 vs Phant f2 \n",
    "    df.loc[f'{bone} phantom f1: PC1' ,f'{bone} phantom f2: PC1'] = angle(bone.phantom.f1.PC1,bone.phantom.f2.PC1)\n",
    "    df.loc[f'{bone} phantom f1: PC2' ,f'{bone} phantom f2: PC2'] = angle(bone.phantom.f1.PC2,bone.phantom.f2.PC2)\n",
    "    df.loc[f'{bone} phantom f1: PC3' ,f'{bone} phantom f2: PC3'] = angle(bone.phantom.f1.PC3,bone.phantom.f2.PC3)\n",
    " \n",
    "    if ang3 or ALL is True:\n",
    "        #Phant f2 vs ang_3 f2\n",
    "        df.loc[f'{bone} phantom f1: PC1' ,f'{bone} ang3 f2: PC1'] = angle(bone.phantom.f1.PC1,bone.ang3.f2.PC1)\n",
    "        df.loc[f'{bone} phantom f1: PC2' ,f'{bone} ang3 f2: PC2'] = angle(bone.phantom.f1.PC2,bone.ang3.f2.PC2)\n",
    "        df.loc[f'{bone} phantom f1: PC3' ,f'{bone} ang3 f2: PC3'] = angle(bone.phantom.f1.PC3,bone.ang3.f2.PC3)\n",
    "\n",
    "    if ang6 or ALL is True:\n",
    "        #Phant f2 vs ang_6 f2\n",
    "        df.loc[f'{bone} phantom f1: PC1' ,f'{bone} ang6 f2: PC1'] = angle(bone.phantom.f1.PC1,bone.ang6.f2.PC1)\n",
    "        df.loc[f'{bone} phantom f1: PC2' ,f'{bone} ang6 f2: PC2'] = angle(bone.phantom.f1.PC2,bone.ang6.f2.PC2)\n",
    "        df.loc[f'{bone} phantom f1: PC3' ,f'{bone} ang6 f2: PC3'] = angle(bone.phantom.f1.PC3,bone.ang6.f2.PC3)\n",
    "    \n",
    "    if ang10 or ALL is True:\n",
    "        #Phant f2 vs ang_10 f2\n",
    "        df.loc[f'{bone} phantom f1: PC1' ,f'{bone} ang10 f2: PC1'] = angle(bone.phantom.f1.PC1,bone.ang10.f2.PC1)\n",
    "        df.loc[f'{bone} phantom f1: PC2' ,f'{bone} ang10 f2: PC2'] = angle(bone.phantom.f1.PC2,bone.ang10.f2.PC2)\n",
    "        df.loc[f'{bone} phantom f1: PC3' ,f'{bone} ang10 f2: PC3'] = angle(bone.phantom.f1.PC3,bone.ang10.f2.PC3)\n",
    "    \n",
    "    if ang10 or ALL is True:\n",
    "        #Phant f2 vs ang_15 f2\n",
    "        df.loc[f'{bone} phantom f1: PC1' ,f'{bone} ang10 f2: PC1'] = angle(bone.phantom.f1.PC1,bone.ang15.f2.PC1)\n",
    "        df.loc[f'{bone} phantom f1: PC2' ,f'{bone} ang10 f2: PC2'] = angle(bone.phantom.f1.PC2,bone.ang15.f2.PC2)\n",
    "        df.loc[f'{bone} phantom f1: PC3' ,f'{bone} ang10 f2: PC3'] = angle(bone.phantom.f1.PC3,bone.ang15.f2.PC3)\n",
    "    \n",
    "    return df"
   ]
  },
  {
   "cell_type": "markdown",
   "metadata": {},
   "source": [
    "# Rotation"
   ]
  },
  {
   "cell_type": "markdown",
   "metadata": {},
   "source": [
    "## Step 1: Center the 2 means"
   ]
  },
  {
   "cell_type": "markdown",
   "metadata": {},
   "source": [
    "Moves the f1 bone to the f2 position; \n",
    "\n",
    "Creates new atribute `bone.f1.tfm_xyz` and `bone.f2.tfm_xyz`"
   ]
  },
  {
   "cell_type": "code",
   "execution_count": 22,
   "metadata": {},
   "outputs": [],
   "source": [
    "def voxel_center(bone):\n",
    "    #moves f1 onto f2\n",
    "    tfm =  np.asarray(bone.f1.mean) - np.asarray(bone.f2.mean)\n",
    "    \n",
    "    #changing bone matrix coords f1\n",
    "    bone.f1.tfm_xyz = bone.f1.xyz + tfm\n",
    "    \n",
    "    #sets mean to origin\n",
    "    for n, i in enumerate(bone.f1.mean):\n",
    "         bone.f1.tfm_xyz[:,n] -= bone.f1.mean[n] \n",
    "    \n",
    "    #changing bone matrix coords f2\n",
    "    bone.f2.tfm_xyz = bone.f2.xyz.astype(np.float64)\n",
    "    #sets mean to origin\n",
    "    for n, i in enumerate(bone.f2.mean):\n",
    "         bone.f2.tfm_xyz[:,n] -= bone.f1.mean[n] \n",
    "            \n",
    "    return bone"
   ]
  },
  {
   "cell_type": "markdown",
   "metadata": {},
   "source": [
    "# Quatertions"
   ]
  },
  {
   "cell_type": "markdown",
   "metadata": {},
   "source": [
    "## Rotaion around PCs"
   ]
  },
  {
   "cell_type": "code",
   "execution_count": 24,
   "metadata": {},
   "outputs": [],
   "source": [
    "def roation(bone):\n",
    "    \n",
    "    # init tfm_PCn\n",
    "    for n in range(1,4):\n",
    "        setattr(bone.f1,f'tfm_PC{n}',getattr(bone.f1,f'PC{n}'))\n",
    "        \n",
    "    # for each pc rotate    \n",
    "    for n in range(1,4):\n",
    "    \n",
    "        f1_PCn = getattr(bone.f1,f'tfm_PC{n}')\n",
    "        f2_PCn = getattr(bone.f2,f'PC{n}')\n",
    "            \n",
    "        # angle between PCs\n",
    "        ang =  angle(f1_PCn, f2_PCn)\n",
    "        \n",
    "        #cross product between PCs\n",
    "        x,y,z = np.cross(f1_PCn, f2_PCn)\n",
    "\n",
    "        r = Quaternion(axis = [x,y,z], angle = ang)\n",
    "        \n",
    "        # rotate voxelx\n",
    "        #set_trace()\n",
    "        bone.f1.tfm_xyz = np.apply_along_axis(r.rotate, 1, bone.f1.tfm_xyz)\n",
    "        print(f'{n} {r}')\n",
    "        \n",
    "        #rotate PCs\n",
    "        for n in range(1,4):\n",
    "            setattr(bone.f1,\n",
    "                    f'tfm_PC{n}',\n",
    "                    r.rotate(getattr(bone.f1,f'tfm_PC{n}')))\n",
    "                                            \n",
    "    return bone"
   ]
  },
  {
   "cell_type": "code",
   "execution_count": 25,
   "metadata": {},
   "outputs": [],
   "source": [
    "def rotation_plot(bone):\n",
    "    \n",
    "   #plot rotated f1\n",
    "    voxel_points(bone.f1.tfm_xyz,color=(0,0.7,0))\n",
    "    \n",
    "    # plots orginal f2 \n",
    "    voxel_points(bone.f2.tfm_xyz,color=(0.7,0,0))\n",
    "\n",
    "    #f2 PCA \n",
    "    voxel_PCAs(bone.f2,'PC')\n",
    "    \n",
    "    #w/ rotion\n",
    "    voxel_PCAs(bone.f1,'tfm_PC') \n",
    "\n",
    "    mlab.show()"
   ]
  },
  {
   "cell_type": "markdown",
   "metadata": {},
   "source": [
    "# How to use:"
   ]
  },
  {
   "cell_type": "markdown",
   "metadata": {},
   "source": [
    "### 1. Set the root directory for the matlab file loader"
   ]
  },
  {
   "cell_type": "code",
   "execution_count": 182,
   "metadata": {},
   "outputs": [],
   "source": [
    "root_dir = Path('C:\\\\Users\\luke\\OneDrive - University College London\\Marta\\data')"
   ]
  },
  {
   "cell_type": "markdown",
   "metadata": {},
   "source": [
    "### 2. Load the data that you want to use"
   ]
  },
  {
   "cell_type": "code",
   "execution_count": 184,
   "metadata": {},
   "outputs": [],
   "source": [
    "# load data phantoms\n",
    "tibia_phant_f2 = matlab_loader(root_dir, mat_file = 'phantom/phantom_tibia_f2.mat' )\n",
    "tibia_phant_f1 = matlab_loader(root_dir, mat_file = 'phantom/phantom_tibia_f1.mat')\n",
    "\n",
    "# load mulitpul angles\n",
    "tibia_3_f2 = matlab_loader(root_dir, mat_file = 'fista_recons/3 angles/tibia_f2.mat')\n",
    "tibia_6_f2 = matlab_loader(root_dir, mat_file = 'fista_recons/6 angles/tibia_f2.mat')\n",
    "tibia_10_f2 = matlab_loader(root_dir, mat_file = 'fista_recons/10 angles/tibia_f2.mat')\n",
    "tibia_15_f2 = matlab_loader(root_dir, mat_file = 'fista_recons/15 angles/tibia_f2.mat')"
   ]
  },
  {
   "cell_type": "markdown",
   "metadata": {},
   "source": [
    "### 3. Contstruct the bone classes"
   ]
  },
  {
   "cell_type": "code",
   "execution_count": 183,
   "metadata": {},
   "outputs": [],
   "source": [
    "# set the foot bone\n",
    "tibia = foot_bone(name = 'tibia')\n",
    "\n",
    "# load f1/f2 phantom data\n",
    "tibia.phantom = n_ang(f1=tibia_phant_f1.array,\n",
    "                      f2=tibia_phant_f2.array,\n",
    "                      n_ang_name= 'phantom')\n",
    "\n",
    "# load f2 3 angel data\n",
    "tibia.ang3 = n_ang(f2 = tibia_3_f2.array,\n",
    "                   n_ang_name= 'angle 3')"
   ]
  },
  {
   "cell_type": "markdown",
   "metadata": {},
   "source": [
    "### 4. Change xyz coordiates so `f1` is in `f2` position"
   ]
  },
  {
   "cell_type": "code",
   "execution_count": 23,
   "metadata": {},
   "outputs": [
    {
     "data": {
      "text/plain": [
       "phantom "
      ]
     },
     "execution_count": 23,
     "metadata": {},
     "output_type": "execute_result"
    }
   ],
   "source": [
    "voxel_center(tibia.phantom)"
   ]
  },
  {
   "cell_type": "markdown",
   "metadata": {},
   "source": [
    "### 5. Rotate bone using PCs"
   ]
  },
  {
   "cell_type": "code",
   "execution_count": 67,
   "metadata": {},
   "outputs": [
    {
     "name": "stdout",
     "output_type": "stream",
     "text": [
      "1 +0.304 -0.635i -0.004j -0.710k\n",
      "2 +0.892 +0.271i -0.268j -0.241k\n",
      "3 +1.000 -0.000i -0.000j +0.000k\n"
     ]
    },
    {
     "data": {
      "text/plain": [
       "phantom "
      ]
     },
     "execution_count": 67,
     "metadata": {},
     "output_type": "execute_result"
    }
   ],
   "source": [
    "roation(talus.phantom)"
   ]
  },
  {
   "cell_type": "markdown",
   "metadata": {},
   "source": [
    "### 6. Plotting the rotation"
   ]
  },
  {
   "cell_type": "code",
   "execution_count": 68,
   "metadata": {},
   "outputs": [],
   "source": [
    "rotation_plot(talus.phantom)"
   ]
  },
  {
   "cell_type": "markdown",
   "metadata": {},
   "source": [
    "# Testing"
   ]
  },
  {
   "cell_type": "code",
   "execution_count": 35,
   "metadata": {},
   "outputs": [],
   "source": [
    "talus = foot_bone(name = 'talus')\n",
    "\n",
    "talus.phantom = n_ang(f1=talus_phant_f1.array,\n",
    "                      f2=talus_phant_f2.array,\n",
    "                      n_ang_name= 'phantom')"
   ]
  },
  {
   "cell_type": "code",
   "execution_count": 171,
   "metadata": {},
   "outputs": [
    {
     "name": "stdout",
     "output_type": "stream",
     "text": [
      "Wall time: 1.06 s\n"
     ]
    }
   ],
   "source": [
    "%%time\n",
    "tibia = foot_bone(name = 'tibia')\n",
    "\n",
    "tibia.phantom = n_ang(f1=tibia_phant_f1.array,\n",
    "                      f2=tibia_phant_f2.array,\n",
    "                      n_ang_name= 'phantom')\n",
    "\n",
    "tibia.ang3 = n_ang(f2 = tibia_3_f2.array,\n",
    "                   n_ang_name= 'angle 3')\n",
    "    \n",
    "\n",
    "# ang6(f2 = tibia_6_f2.array),\n",
    "# ang10(f2 = tibia_10_f2.array),\n",
    "# ang15(f2 = tibia_15_f2.array)"
   ]
  },
  {
   "cell_type": "code",
   "execution_count": 172,
   "metadata": {},
   "outputs": [],
   "source": [
    "tibia.phantom =voxel_center(tibia.phantom)"
   ]
  },
  {
   "cell_type": "code",
   "execution_count": 173,
   "metadata": {},
   "outputs": [],
   "source": [
    "# edit data"
   ]
  },
  {
   "cell_type": "code",
   "execution_count": 174,
   "metadata": {},
   "outputs": [],
   "source": [
    "x = Quaternion(axis = [0,1,0], angle = 2)"
   ]
  },
  {
   "cell_type": "code",
   "execution_count": 175,
   "metadata": {},
   "outputs": [],
   "source": [
    "vox_obj = np.apply_along_axis(x.rotate, 1, tibia.phantom.f1.xyz)"
   ]
  },
  {
   "cell_type": "code",
   "execution_count": 176,
   "metadata": {},
   "outputs": [],
   "source": [
    "mean_x, mean_y, mean_z, eig_val, eig_vec = pca(vox_obj)"
   ]
  },
  {
   "cell_type": "markdown",
   "metadata": {},
   "source": [
    "# ...pc1"
   ]
  },
  {
   "cell_type": "code",
   "execution_count": 137,
   "metadata": {},
   "outputs": [],
   "source": [
    "# # inv module \n",
    "# pc1_inv = talus.phantom.f2.PC1*-1\n",
    "# ang =  angle(talus.phantom.f1.PC1 ,pc1_inv)\n",
    "# x,y,z = np.cross(talus.phantom.f1.PC1,pc1_inv)"
   ]
  },
  {
   "cell_type": "code",
   "execution_count": 138,
   "metadata": {},
   "outputs": [
    {
     "data": {
      "text/plain": [
       "(array([ 0.33443476,  0.03887988, -0.94161656]),\n",
       " array([0.92111808, 0.19774349, 0.33531924]),\n",
       " array([-0.19923572,  0.97948245, -0.03031934]))"
      ]
     },
     "execution_count": 138,
     "metadata": {},
     "output_type": "execute_result"
    }
   ],
   "source": [
    "tibia.phantom.f1.PC1, tibia.phantom.f1.PC2, tibia.phantom.f1.PC3"
   ]
  },
  {
   "cell_type": "code",
   "execution_count": 139,
   "metadata": {},
   "outputs": [],
   "source": [
    "#pca(talus.phantom.f1.tfm_xyz)"
   ]
  },
  {
   "cell_type": "code",
   "execution_count": 141,
   "metadata": {},
   "outputs": [],
   "source": [
    "ang =  angle(tibia.phantom.f1.PC1, tibia.phantom.f2.PC1)\n",
    "x,y,z = np.cross(tibia.phantom.f1.PC1, tibia.phantom.f2.PC1)"
   ]
  },
  {
   "cell_type": "code",
   "execution_count": 142,
   "metadata": {},
   "outputs": [
    {
     "data": {
      "text/plain": [
       "(-0.14904428122539115, -0.06990183523123583, -0.05582247149327461)"
      ]
     },
     "execution_count": 142,
     "metadata": {},
     "output_type": "execute_result"
    }
   ],
   "source": [
    "r1 = Quaternion(axis = [x,y,z], angle = ang);x,y,z"
   ]
  },
  {
   "cell_type": "code",
   "execution_count": 143,
   "metadata": {},
   "outputs": [],
   "source": [
    "tibia.phantom.f1.tfm_xyz = np.apply_along_axis(r1.rotate, 1, tibia.phantom.f1.tfm_xyz)"
   ]
  },
  {
   "cell_type": "code",
   "execution_count": 144,
   "metadata": {},
   "outputs": [],
   "source": [
    "pc1 = tibia.phantom.f1.PC1\n",
    "pc2 = tibia.phantom.f1.PC2\n",
    "pc3 = tibia.phantom.f1.PC3"
   ]
  },
  {
   "cell_type": "code",
   "execution_count": 145,
   "metadata": {},
   "outputs": [],
   "source": [
    "pc1= r1.rotate(pc1)\n",
    "pc2= r1.rotate(pc2)\n",
    "pc3= r1.rotate(pc3)"
   ]
  },
  {
   "cell_type": "markdown",
   "metadata": {},
   "source": [
    "# ...pc2"
   ]
  },
  {
   "cell_type": "code",
   "execution_count": 146,
   "metadata": {},
   "outputs": [],
   "source": [
    "#pc2_inv = tibia.phantom.f2.PC2*-1"
   ]
  },
  {
   "cell_type": "code",
   "execution_count": 147,
   "metadata": {},
   "outputs": [],
   "source": [
    "#ang = (angle(pc2_inv ,tibia.phantom.f1.PC2))"
   ]
  },
  {
   "cell_type": "code",
   "execution_count": 148,
   "metadata": {},
   "outputs": [],
   "source": [
    "# _, _, _, _, eig_vec2 = pca(talus.phantom.f1.tfm_xyz); eig_vec2"
   ]
  },
  {
   "cell_type": "code",
   "execution_count": 149,
   "metadata": {},
   "outputs": [],
   "source": [
    "ang =  angle(pc2, tibia.phantom.f2.PC2)"
   ]
  },
  {
   "cell_type": "code",
   "execution_count": 150,
   "metadata": {},
   "outputs": [
    {
     "data": {
      "text/plain": [
       "1.7228105809752479"
      ]
     },
     "execution_count": 150,
     "metadata": {},
     "output_type": "execute_result"
    }
   ],
   "source": [
    "ang"
   ]
  },
  {
   "cell_type": "code",
   "execution_count": 151,
   "metadata": {},
   "outputs": [],
   "source": [
    "x,y,z = np.cross(pc2, tibia.phantom.f2.PC2)"
   ]
  },
  {
   "cell_type": "code",
   "execution_count": 152,
   "metadata": {},
   "outputs": [],
   "source": [
    "r2 = Quaternion(axis = [x,y,z], angle = ang)"
   ]
  },
  {
   "cell_type": "code",
   "execution_count": 153,
   "metadata": {},
   "outputs": [],
   "source": [
    "pc1 = r2.rotate(pc1)\n",
    "pc2 = r2.rotate(pc2)\n",
    "pc3 = r2.rotate(pc3)"
   ]
  },
  {
   "cell_type": "code",
   "execution_count": 154,
   "metadata": {},
   "outputs": [],
   "source": [
    "tibia.phantom.f1.tfm_xyz = np.apply_along_axis(r2.rotate, 1, tibia.phantom.f1.tfm_xyz)"
   ]
  },
  {
   "cell_type": "markdown",
   "metadata": {},
   "source": [
    "# ...pc3"
   ]
  },
  {
   "cell_type": "code",
   "execution_count": 155,
   "metadata": {},
   "outputs": [],
   "source": [
    "#pc3_inv = tibia.phantom.f2.PC3*-1"
   ]
  },
  {
   "cell_type": "code",
   "execution_count": 156,
   "metadata": {},
   "outputs": [],
   "source": [
    "#ang = (angle(pc3_inv ,tibia.phantom.f1.PC3))"
   ]
  },
  {
   "cell_type": "code",
   "execution_count": 157,
   "metadata": {},
   "outputs": [],
   "source": [
    "ang =  angle(pc3, tibia.phantom.f2.PC3)"
   ]
  },
  {
   "cell_type": "code",
   "execution_count": 158,
   "metadata": {},
   "outputs": [
    {
     "data": {
      "text/plain": [
       "(-2.220446049250313e-16, 5.273559366969494e-16, -7.216449660063518e-16)"
      ]
     },
     "execution_count": 158,
     "metadata": {},
     "output_type": "execute_result"
    }
   ],
   "source": [
    "x,y,z= np.cross(pc3, tibia.phantom.f2.PC3) ;x,y,z"
   ]
  },
  {
   "cell_type": "code",
   "execution_count": 159,
   "metadata": {},
   "outputs": [],
   "source": [
    "r3 = Quaternion(axis = [x,y,z], angle = ang)"
   ]
  },
  {
   "cell_type": "code",
   "execution_count": 160,
   "metadata": {},
   "outputs": [],
   "source": [
    "pc1 = r3.rotate(pc1)\n",
    "pc2 = r3.rotate(pc2)\n",
    "pc3 = r3.rotate(pc3)"
   ]
  },
  {
   "cell_type": "code",
   "execution_count": 161,
   "metadata": {},
   "outputs": [],
   "source": [
    "tibia.phantom.f1.tfm_xyz = np.apply_along_axis(r3.rotate, 1, tibia.phantom.f1.tfm_xyz)"
   ]
  },
  {
   "cell_type": "code",
   "execution_count": 177,
   "metadata": {},
   "outputs": [],
   "source": [
    "# roatated \n",
    "mlab.points3d(vox_obj[:,0],\n",
    "              vox_obj[:,1],\n",
    "              vox_obj[:,2], \n",
    "              mode=\"cube\", color=(0,0.7,0))\n",
    "\n",
    "#f2\n",
    "mlab.points3d(tibia.phantom.f1.xyz[:,0],\n",
    "              tibia.phantom.f1.xyz[:,1],\n",
    "              tibia.phantom.f1.xyz[:,2],\n",
    "              mode=\"cube\", color=(1,0,0))\n",
    "\n",
    "#f2 PCA \n",
    "mlab.quiver3d(0,0,0,tibia.phantom.f1.PC1[0],tibia.phantom.f1.PC1[1],tibia.phantom.f1.PC1[2], line_width =6, scale_factor= 100, color= (1,0,0))\n",
    "mlab.quiver3d(0,0,0,tibia.phantom.f1.PC2[0],tibia.phantom.f1.PC2[1],tibia.phantom.f1.PC2[2], line_width =6, scale_factor= 100, color= (0,0,1))\n",
    "mlab.quiver3d(0,0,0,tibia.phantom.f1.PC3[0],tibia.phantom.f1.PC3[1],tibia.phantom.f1.PC3[2], line_width =6, scale_factor= 100, color= (0,1,0))\n",
    "\n",
    "#w/ rotion\n",
    "mlab.quiver3d(0,0,0,eig_vec[0,0],eig_vec[0,1],eig_vec[0,2], line_width =6, scale_factor= 100, color= (0.6,0,0))\n",
    "mlab.quiver3d(0,0,0,eig_vec[1,0],eig_vec[1,1],eig_vec[1,2], line_width =6, scale_factor= 100, color= (0,0,1))\n",
    "mlab.quiver3d(0,0,0,eig_vec[2,0],eig_vec[2,1],eig_vec[2,2], line_width =6, scale_factor= 100, color= (0,1,0))\n",
    "\n",
    "mlab.show()"
   ]
  }
 ],
 "metadata": {
  "kernelspec": {
   "display_name": "Python 3",
   "language": "python",
   "name": "python3"
  },
  "language_info": {
   "codemirror_mode": {
    "name": "ipython",
    "version": 3
   },
   "file_extension": ".py",
   "mimetype": "text/x-python",
   "name": "python",
   "nbconvert_exporter": "python",
   "pygments_lexer": "ipython3",
   "version": "3.6.7"
  }
 },
 "nbformat": 4,
 "nbformat_minor": 4
}
