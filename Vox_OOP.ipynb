{
 "cells": [
  {
   "cell_type": "code",
   "execution_count": 3,
   "metadata": {},
   "outputs": [],
   "source": [
    "import numpy as np\n",
    "import scipy.io\n",
    "import os\n",
    "import pandas as pd\n",
    "import math\n",
    "from pathlib import Path\n",
    "from mayavi import mlab\n",
    "import copy"
   ]
  },
  {
   "cell_type": "markdown",
   "metadata": {},
   "source": [
    "Set the root directory where you have your .mat files"
   ]
  },
  {
   "cell_type": "markdown",
   "metadata": {},
   "source": [
    "## matlab_loader"
   ]
  },
  {
   "cell_type": "markdown",
   "metadata": {},
   "source": [
    "This makes a data loader class for matlab files and also passes a filter to remove noise "
   ]
  },
  {
   "cell_type": "code",
   "execution_count": 4,
   "metadata": {},
   "outputs": [],
   "source": [
    "class matlab_loader:\n",
    "    \"\"\" Loads .mat files from a direcotory \n",
    "            \n",
    "            root_dir (str): path to the directory that containes files\n",
    "            mat_file (str): name of file \n",
    "     \n",
    "         returns:\n",
    "             self.array (np.array)\n",
    "             self.mat_file (Path object)\n",
    "    \"\"\"\n",
    "    def __init__(self, root_dir, mat_file):  \n",
    "        \n",
    "        root_dir = Path(root_dir)\n",
    "        mat_file = Path(mat_file)\n",
    "        \n",
    "        mat_obj = scipy.io.loadmat(root_dir/mat_file)\n",
    "        obj= mat_obj.keys()\n",
    "        obj = list(obj)\n",
    "        array = mat_obj[obj[-1]]\n",
    "        \n",
    "        self.array = array\n",
    "        self.mat_file = root_dir/mat_file\n",
    "        \n",
    "    def __repr__(self):\n",
    "        return f'{self.mat_file}'"
   ]
  },
  {
   "cell_type": "code",
   "execution_count": 5,
   "metadata": {},
   "outputs": [],
   "source": [
    "def xyz(arr, filter_level = 0.3):\n",
    "    \"\"\"Convert 3D voxel arry to xyz coordiates.\n",
    "    \n",
    "            arr (np.array): 3D voxel array    \n",
    "            filter_level (int/float): sets the threshold level for what is considered a voxel \n",
    "            \n",
    "            returns: \n",
    "                np.array (n x 3)\n",
    "    \"\"\"\n",
    "    \n",
    "    # Everything above filter level is converted to 1\n",
    "    arr = np.where(arr < filter_level, 0, 1)\n",
    "    \n",
    "    x, y, z = np.where(arr == 1)\n",
    "    \n",
    "    # converts the xyz so z is is *up* \n",
    "    x -= arr.shape[1]\n",
    "    y -= arr.shape[0]\n",
    "    x *= -1\n",
    "    y *= -1\n",
    "    xyz = np.array([x, y, z]).T\n",
    "    return xyz"
   ]
  },
  {
   "cell_type": "markdown",
   "metadata": {},
   "source": [
    "## PCA"
   ]
  },
  {
   "cell_type": "code",
   "execution_count": 6,
   "metadata": {},
   "outputs": [],
   "source": [
    "def pca(xyz):\n",
    "    \"\"\"PCA on a xyz points array\n",
    "    \n",
    "            xyz(np.array): n x 3 array of xyz coordinates\n",
    "            \n",
    "            returns:\n",
    "                mean_x \n",
    "                mean_y\n",
    "                mean_z\n",
    "                eig_val (1 x 3)\n",
    "                eig_vec (1 x 3)\n",
    "    \"\"\"\n",
    "    \n",
    "    #covaraince of xyz points\n",
    "    cov = np.cov(xyz.T)\n",
    "    \n",
    "    #eiganvalues and vectors\n",
    "    (eig_val, eig_vec) = np.linalg.eig(cov)\n",
    "\n",
    "    mean_x, mean_y, mean_z = [np.mean(xyz[:,0]),np.mean(xyz[:,1]),np.mean(xyz[:,2])]\n",
    "\n",
    "    return mean_x, mean_y, mean_z, eig_val, eig_vec"
   ]
  },
  {
   "cell_type": "markdown",
   "metadata": {},
   "source": [
    "## Classes:"
   ]
  },
  {
   "cell_type": "markdown",
   "metadata": {},
   "source": [
    "### Bone"
   ]
  },
  {
   "cell_type": "code",
   "execution_count": 7,
   "metadata": {},
   "outputs": [],
   "source": [
    "class bone:\n",
    "        def __init__(self, array, filter_level=0.3):\n",
    "          \n",
    "            if array is None:\n",
    "                pass\n",
    "            \n",
    "            else:\n",
    "                self.array = array\n",
    "                self.filter_level = filter_level\n",
    "                self.xyz = xyz(array, filter_level)\n",
    "\n",
    "                mean_x, mean_y, mean_z, eig_val, eig_vec = pca(self.xyz) \n",
    "\n",
    "                self.vec = eig_vec\n",
    "                self.PC1 = eig_vec[:,0]\n",
    "                self.PC2 = eig_vec[:,1]\n",
    "                self.PC3 = eig_vec[:,2]   \n",
    "\n",
    "                self.mean = (mean_x, mean_y, mean_z)"
   ]
  },
  {
   "cell_type": "markdown",
   "metadata": {},
   "source": [
    "### Foot bone"
   ]
  },
  {
   "cell_type": "markdown",
   "metadata": {},
   "source": [
    "### Indivual bone classes"
   ]
  },
  {
   "cell_type": "code",
   "execution_count": 8,
   "metadata": {},
   "outputs": [],
   "source": [
    "class foot_bone(bone):\n",
    "    def __init__(self, \n",
    "                 phantom = None,\n",
    "                 ang3 = None,\n",
    "                 ang6 = None,\n",
    "                 ang10 = None, \n",
    "                 ang15 = None):\n",
    "        \n",
    "        self.phantom = phantom\n",
    "        self.ang3 = ang3\n",
    "        self.ang6 = ang6\n",
    "        self.ang10 = ang10\n",
    "        self.ang15 = ang15\n",
    "        \n",
    "    def __repr__(self):\n",
    "        return self.name"
   ]
  },
  {
   "cell_type": "code",
   "execution_count": 9,
   "metadata": {},
   "outputs": [],
   "source": [
    "# NEEDS TO BE REFACTORED\n",
    "class phantom():\n",
    "    def __init__(self, f1 = None ,f2 = None):\n",
    "        self.f1 = bone(f1)\n",
    "        self.f2 = bone(f2)\n",
    "\n",
    "    def __repr__(self):\n",
    "        return 'phantom '\n",
    "\n",
    "class ang3():\n",
    "    def __init__(self, f1 = None ,f2 = None):\n",
    "        self.f1 = bone(f1)\n",
    "        self.f2 = bone(f2)\n",
    "        \n",
    "    def __repr__(self):\n",
    "        return 'ang3 '\n",
    "\n",
    "class ang6():\n",
    "    def __init__(self, f1 = None ,f2 = None):\n",
    "        self.f1 = bone(f1)\n",
    "        self.f2 = bone(f2)\n",
    "        \n",
    "    def __repr__(self):\n",
    "            return 'ang6 '\n",
    "        \n",
    "class ang10():\n",
    "    def __init__(self, f1 = None ,f2 = None):\n",
    "        self.f1 = bone(f1)\n",
    "        self.f2 = bone(f2)\n",
    "        \n",
    "    def __repr__(self):\n",
    "        return 'ang10 '\n",
    "        \n",
    "class ang15():\n",
    "    def __init__(self, f1 = None ,f2 = None):\n",
    "        self.f1 = bone(f1)\n",
    "        self.f2 = bone(f2)\n",
    "        \n",
    "    def __repr__(self):\n",
    "        return 'ang15'"
   ]
  },
  {
   "cell_type": "markdown",
   "metadata": {},
   "source": [
    "## Ploting:"
   ]
  },
  {
   "cell_type": "markdown",
   "metadata": {},
   "source": [
    "## bone_plot"
   ]
  },
  {
   "cell_type": "code",
   "execution_count": 10,
   "metadata": {},
   "outputs": [],
   "source": [
    "def bone_plot(*args, user_colours = None, plot_PCA = True, plot_inv = True):\n",
    "    \"\"\"plots voxel array; can take n bones and plot PCA vectors\"\"\"\n",
    "\n",
    "    # Sorting out colours\n",
    "    colour_dict = {'yellow':(0.9,0.9,0),\n",
    "                   'pastel_blue':(0.7,1,1),\n",
    "                   'purple':(0.6,0,0.5),\n",
    "                   'orange':(0.8,0.3,0),\n",
    "                   'dark_blue':(0,0.3,0.7),}\n",
    "    \n",
    "    if user_colours is None:\n",
    "        user_colours = colour_dict\n",
    "    \n",
    "    plot_colours = []\n",
    "    \n",
    "    for col in user_colours:\n",
    "        x = colour_dict.get(col)\n",
    "        plot_colours.append(x)\n",
    "        \n",
    "    \n",
    "    for n, bone in enumerate(args):\n",
    "\n",
    "        mlab.points3d(bone.xyz[:,0],\n",
    "                             bone.xyz[:,1],\n",
    "                             bone.xyz[:,2],\n",
    "                     mode=\"cube\",\n",
    "                     color= plot_colours[n],\n",
    "                     scale_factor=1)\n",
    "        \n",
    "        x,y,z = bone.mean\n",
    "\n",
    "        #plot princible vectors\n",
    "        u0,v0,w0 = bone.PC1 * 100\n",
    "        u0_inv,v0_inv,w0_inv = bone.PC1 * 100 * -1\n",
    "\n",
    "        u1,v1,w1 = bone.PC2 * 100\n",
    "        u1_inv,v1_inv,w1_inv = bone.PC2 * 100 * -1\n",
    "\n",
    "        u2,v2,w2 = bone.PC3 * 100\n",
    "        u2_inv,v2_inv,w2_inv = bone.PC3 * 100 * -1\n",
    "\n",
    "        print(f\"{n}th bone PCA vectors: \\n {bone.vec} \\n \")\n",
    "        \n",
    "        \n",
    "        if plot_PCA is True:\n",
    "            mlab.quiver3d(x,y,z,u0,v0,w0,\n",
    "                                 line_width =6,\n",
    "                                 scale_factor=0.7,\n",
    "                                 color= (1,0,0))\n",
    "            mlab.quiver3d(x,y,z,u1,v1,w1,\n",
    "                                 line_width =6,\n",
    "                                 scale_factor= 0.5,\n",
    "                                 color= (0,1,0))\n",
    "            mlab.quiver3d(x,y,z,u2,v2,w2,\n",
    "                                 line_width =6,\n",
    "                                 scale_factor=0.3,\n",
    "                                 color=(0,0,1))\n",
    "\n",
    "\n",
    "        #ploting the inverse of eigen vectors\n",
    "        if plot_inv is True:\n",
    "             mlab.quiver3d(x,y,z,u0_inv,v0_inv,w0_inv,\n",
    "                                 line_width =6,\n",
    "                                 scale_factor=0.7,\n",
    "                                 color= (1,0,0))\n",
    "             mlab.quiver3d(x,y,z,u1_inv,v1_inv,w1_inv,\n",
    "                                 line_width =6,\n",
    "                                 scale_factor=0.5,\n",
    "                                 color= (0,1,0))\n",
    "             mlab.quiver3d(x,y,z,u2_inv,v2_inv,w2_inv,\n",
    "                                 line_width =6,\n",
    "                                 scale_factor=0.3,\n",
    "                                 color=(0,0,1))\n",
    "\n",
    "    return mlab.show()"
   ]
  },
  {
   "cell_type": "code",
   "execution_count": 11,
   "metadata": {},
   "outputs": [],
   "source": [
    "# Option user colours\n",
    "# user_colours=['yellow','purple']"
   ]
  },
  {
   "cell_type": "code",
   "execution_count": 12,
   "metadata": {},
   "outputs": [],
   "source": [
    "# bone_plot(phantom_tibia_f1,phantom_tibia_f2)"
   ]
  },
  {
   "cell_type": "markdown",
   "metadata": {},
   "source": [
    "## Angels"
   ]
  },
  {
   "cell_type": "code",
   "execution_count": 13,
   "metadata": {},
   "outputs": [],
   "source": [
    "def mag(v):\n",
    "    \"\"\"Finds magnitude of vector\n",
    "        v (np.array): vector\n",
    "    \n",
    "        returns: magnitude of vector (numeric)\n",
    "    \"\"\"\n",
    "    return math.sqrt(v @ v)\n",
    "\n",
    "#angel of vector\n",
    "def angle(v1, v2):\n",
    "    \"\"\"Finds angel between vectors\"\"\"\n",
    "    try:\n",
    "        x = math.acos(v1 @ v2 / (mag(v1) * mag(v2)))\n",
    "    \n",
    "    except:\n",
    "        x = 0\n",
    "        \n",
    "    return x"
   ]
  },
  {
   "cell_type": "code",
   "execution_count": 14,
   "metadata": {},
   "outputs": [],
   "source": [
    "root_dir = Path('C:\\\\Users\\luke\\OneDrive - University College London\\Marta\\data')"
   ]
  },
  {
   "cell_type": "code",
   "execution_count": 15,
   "metadata": {},
   "outputs": [
    {
     "data": {
      "text/plain": [
       "WindowsPath('C:/Users/luke/OneDrive - University College London/Marta/data')"
      ]
     },
     "execution_count": 15,
     "metadata": {},
     "output_type": "execute_result"
    }
   ],
   "source": [
    "root_dir"
   ]
  },
  {
   "cell_type": "code",
   "execution_count": 16,
   "metadata": {},
   "outputs": [
    {
     "name": "stdout",
     "output_type": "stream",
     "text": [
      "Wall time: 15.4 s\n"
     ]
    }
   ],
   "source": [
    "%%time\n",
    "# load data\n",
    "tibia_phant_f2 = matlab_loader(root_dir, mat_file = 'phantom/phantom_talus_f2.mat' )\n",
    "tibia_phant_f1 = matlab_loader(root_dir, mat_file = 'phantom/phantom_talus_f1.mat')\n",
    "tibia_3_f2 = matlab_loader(root_dir, mat_file = 'fista_recons/3 angles/talus_f2.mat')\n",
    "tibia_6_f2 = matlab_loader(root_dir, mat_file = 'fista_recons/6 angles/talus_f2.mat')\n",
    "tibia_10_f2 = matlab_loader(root_dir, mat_file = 'fista_recons/10 angles/talus_f2.mat')\n",
    "tibia_15_f2 = matlab_loader(root_dir, mat_file = 'fista_recons/15 angles/talus_f2.mat')"
   ]
  },
  {
   "cell_type": "code",
   "execution_count": 17,
   "metadata": {},
   "outputs": [],
   "source": [
    "#root_dir = Path('C:\\\\Users\\luke\\Downloads\\low_res')"
   ]
  },
  {
   "cell_type": "code",
   "execution_count": 18,
   "metadata": {},
   "outputs": [],
   "source": [
    "# tibia_phant_f2 = matlab_loader(root_dir, mat_file = 'talus_f2.mat')\n",
    "# tibia_phant_f1 = matlab_loader(root_dir, mat_file = 'talus_f1.mat')\n",
    "# tibia_3_f2 = matlab_loader(root_dir, mat_file = 'fista recons/3 angles/talus_f2.mat')\n",
    "# tibia_6_f2 = matlab_loader(root_dir, mat_file = 'fista recons/6 angles/talus_f2.mat')"
   ]
  },
  {
   "cell_type": "code",
   "execution_count": 19,
   "metadata": {},
   "outputs": [
    {
     "name": "stdout",
     "output_type": "stream",
     "text": [
      "Wall time: 2.1 s\n"
     ]
    }
   ],
   "source": [
    "%%time\n",
    "tibia = foot_bone(\n",
    "    phantom(f1=tibia_phant_f1.array, \n",
    "            f2=tibia_phant_f2.array),\n",
    "    ang3(f2 = tibia_3_f2.array),\n",
    "    ang6(f2 = tibia_6_f2.array),\n",
    "    ang10(f2 = tibia_10_f2.array),\n",
    "    ang15(f2 = tibia_15_f2.array)\n",
    ")"
   ]
  },
  {
   "cell_type": "code",
   "execution_count": 20,
   "metadata": {},
   "outputs": [],
   "source": [
    "# Refactor so you can define name in class"
   ]
  },
  {
   "cell_type": "code",
   "execution_count": 21,
   "metadata": {},
   "outputs": [],
   "source": [
    "tibia.name = 'tibia'"
   ]
  },
  {
   "cell_type": "code",
   "execution_count": 22,
   "metadata": {},
   "outputs": [],
   "source": [
    "# have __iter__ so you can loop through PCAs\n",
    "def df_angles(bone, ang3 = None, ang6 = None, ang10 = None, ang15 = None, ALL = None):\n",
    "    \n",
    "    df = pd.DataFrame()\n",
    "    \n",
    "    #Phant f1 vs Phant f2 \n",
    "    df.loc[f'{bone} phantom f1: PC1' ,f'{bone} phantom f2: PC1'] = angle(bone.phantom.f1.PC1,bone.phantom.f2.PC1)\n",
    "    df.loc[f'{bone} phantom f1: PC2' ,f'{bone} phantom f2: PC2'] = angle(bone.phantom.f1.PC2,bone.phantom.f2.PC2)\n",
    "    df.loc[f'{bone} phantom f1: PC3' ,f'{bone} phantom f2: PC3'] = angle(bone.phantom.f1.PC3,bone.phantom.f2.PC3)\n",
    " \n",
    "    if ang3 or ALL is True:\n",
    "        #Phant f2 vs ang_3 f2\n",
    "        df.loc[f'{bone} phantom f1: PC1' ,f'{bone} ang3 f2: PC1'] = angle(bone.phantom.f1.PC1,bone.ang3.f2.PC1)\n",
    "        df.loc[f'{bone} phantom f1: PC2' ,f'{bone} ang3 f2: PC2'] = angle(bone.phantom.f1.PC2,bone.ang3.f2.PC2)\n",
    "        df.loc[f'{bone} phantom f1: PC3' ,f'{bone} ang3 f2: PC3'] = angle(bone.phantom.f1.PC3,bone.ang3.f2.PC3)\n",
    "\n",
    "    if ang6 or ALL is True:\n",
    "        #Phant f2 vs ang_6 f2\n",
    "        df.loc[f'{bone} phantom f1: PC1' ,f'{bone} ang6 f2: PC1'] = angle(bone.phantom.f1.PC1,bone.ang6.f2.PC1)\n",
    "        df.loc[f'{bone} phantom f1: PC2' ,f'{bone} ang6 f2: PC2'] = angle(bone.phantom.f1.PC2,bone.ang6.f2.PC2)\n",
    "        df.loc[f'{bone} phantom f1: PC3' ,f'{bone} ang6 f2: PC3'] = angle(bone.phantom.f1.PC3,bone.ang6.f2.PC3)\n",
    "    \n",
    "    if ang10 or ALL is True:\n",
    "        #Phant f2 vs ang_10 f2\n",
    "        df.loc[f'{bone} phantom f1: PC1' ,f'{bone} ang10 f2: PC1'] = angle(bone.phantom.f1.PC1,bone.ang10.f2.PC1)\n",
    "        df.loc[f'{bone} phantom f1: PC2' ,f'{bone} ang10 f2: PC2'] = angle(bone.phantom.f1.PC2,bone.ang10.f2.PC2)\n",
    "        df.loc[f'{bone} phantom f1: PC3' ,f'{bone} ang10 f2: PC3'] = angle(bone.phantom.f1.PC3,bone.ang10.f2.PC3)\n",
    "    \n",
    "    if ang10 or ALL is True:\n",
    "        #Phant f2 vs ang_15 f2\n",
    "        df.loc[f'{bone} phantom f1: PC1' ,f'{bone} ang10 f2: PC1'] = angle(bone.phantom.f1.PC1,bone.ang15.f2.PC1)\n",
    "        df.loc[f'{bone} phantom f1: PC2' ,f'{bone} ang10 f2: PC2'] = angle(bone.phantom.f1.PC2,bone.ang15.f2.PC2)\n",
    "        df.loc[f'{bone} phantom f1: PC3' ,f'{bone} ang10 f2: PC3'] = angle(bone.phantom.f1.PC3,bone.ang15.f2.PC3)\n",
    "    \n",
    "    return df"
   ]
  },
  {
   "cell_type": "code",
   "execution_count": 23,
   "metadata": {},
   "outputs": [
    {
     "data": {
      "text/plain": [
       "(array([-0.60124372,  0.59393072,  0.53455803]),\n",
       " array([-0.60124372,  0.59393072,  0.53455803]))"
      ]
     },
     "execution_count": 23,
     "metadata": {},
     "output_type": "execute_result"
    }
   ],
   "source": [
    "tibia.ang10.f2.PC1 , tibia.phantom.f2.PC1\n",
    "#point excption of same"
   ]
  },
  {
   "cell_type": "code",
   "execution_count": 24,
   "metadata": {},
   "outputs": [
    {
     "name": "stdout",
     "output_type": "stream",
     "text": [
      "Wall time: 19.9 ms\n"
     ]
    },
    {
     "data": {
      "text/html": [
       "<div>\n",
       "<style scoped>\n",
       "    .dataframe tbody tr th:only-of-type {\n",
       "        vertical-align: middle;\n",
       "    }\n",
       "\n",
       "    .dataframe tbody tr th {\n",
       "        vertical-align: top;\n",
       "    }\n",
       "\n",
       "    .dataframe thead th {\n",
       "        text-align: right;\n",
       "    }\n",
       "</style>\n",
       "<table border=\"1\" class=\"dataframe\">\n",
       "  <thead>\n",
       "    <tr style=\"text-align: right;\">\n",
       "      <th></th>\n",
       "      <th>tibia phantom f2: PC1</th>\n",
       "      <th>tibia phantom f2: PC2</th>\n",
       "      <th>tibia phantom f2: PC3</th>\n",
       "      <th>tibia ang3 f2: PC1</th>\n",
       "      <th>tibia ang3 f2: PC2</th>\n",
       "      <th>tibia ang3 f2: PC3</th>\n",
       "      <th>tibia ang6 f2: PC1</th>\n",
       "      <th>tibia ang6 f2: PC2</th>\n",
       "      <th>tibia ang6 f2: PC3</th>\n",
       "      <th>tibia ang10 f2: PC1</th>\n",
       "      <th>tibia ang10 f2: PC2</th>\n",
       "      <th>tibia ang10 f2: PC3</th>\n",
       "    </tr>\n",
       "  </thead>\n",
       "  <tbody>\n",
       "    <tr>\n",
       "      <td>tibia phantom f1: PC1</td>\n",
       "      <td>2.523024</td>\n",
       "      <td>NaN</td>\n",
       "      <td>NaN</td>\n",
       "      <td>2.521118</td>\n",
       "      <td>NaN</td>\n",
       "      <td>NaN</td>\n",
       "      <td>2.523521</td>\n",
       "      <td>NaN</td>\n",
       "      <td>NaN</td>\n",
       "      <td>2.523024</td>\n",
       "      <td>NaN</td>\n",
       "      <td>NaN</td>\n",
       "    </tr>\n",
       "    <tr>\n",
       "      <td>tibia phantom f1: PC2</td>\n",
       "      <td>NaN</td>\n",
       "      <td>2.576199</td>\n",
       "      <td>NaN</td>\n",
       "      <td>NaN</td>\n",
       "      <td>2.564794</td>\n",
       "      <td>NaN</td>\n",
       "      <td>NaN</td>\n",
       "      <td>2.576205</td>\n",
       "      <td>NaN</td>\n",
       "      <td>NaN</td>\n",
       "      <td>2.576199</td>\n",
       "      <td>NaN</td>\n",
       "    </tr>\n",
       "    <tr>\n",
       "      <td>tibia phantom f1: PC3</td>\n",
       "      <td>NaN</td>\n",
       "      <td>NaN</td>\n",
       "      <td>0.303911</td>\n",
       "      <td>NaN</td>\n",
       "      <td>NaN</td>\n",
       "      <td>0.296299</td>\n",
       "      <td>NaN</td>\n",
       "      <td>NaN</td>\n",
       "      <td>0.304239</td>\n",
       "      <td>NaN</td>\n",
       "      <td>NaN</td>\n",
       "      <td>0.303911</td>\n",
       "    </tr>\n",
       "  </tbody>\n",
       "</table>\n",
       "</div>"
      ],
      "text/plain": [
       "                       tibia phantom f2: PC1  tibia phantom f2: PC2  \\\n",
       "tibia phantom f1: PC1               2.523024                    NaN   \n",
       "tibia phantom f1: PC2                    NaN               2.576199   \n",
       "tibia phantom f1: PC3                    NaN                    NaN   \n",
       "\n",
       "                       tibia phantom f2: PC3  tibia ang3 f2: PC1  \\\n",
       "tibia phantom f1: PC1                    NaN            2.521118   \n",
       "tibia phantom f1: PC2                    NaN                 NaN   \n",
       "tibia phantom f1: PC3               0.303911                 NaN   \n",
       "\n",
       "                       tibia ang3 f2: PC2  tibia ang3 f2: PC3  \\\n",
       "tibia phantom f1: PC1                 NaN                 NaN   \n",
       "tibia phantom f1: PC2            2.564794                 NaN   \n",
       "tibia phantom f1: PC3                 NaN            0.296299   \n",
       "\n",
       "                       tibia ang6 f2: PC1  tibia ang6 f2: PC2  \\\n",
       "tibia phantom f1: PC1            2.523521                 NaN   \n",
       "tibia phantom f1: PC2                 NaN            2.576205   \n",
       "tibia phantom f1: PC3                 NaN                 NaN   \n",
       "\n",
       "                       tibia ang6 f2: PC3  tibia ang10 f2: PC1  \\\n",
       "tibia phantom f1: PC1                 NaN             2.523024   \n",
       "tibia phantom f1: PC2                 NaN                  NaN   \n",
       "tibia phantom f1: PC3            0.304239                  NaN   \n",
       "\n",
       "                       tibia ang10 f2: PC2  tibia ang10 f2: PC3  \n",
       "tibia phantom f1: PC1                  NaN                  NaN  \n",
       "tibia phantom f1: PC2             2.576199                  NaN  \n",
       "tibia phantom f1: PC3                  NaN             0.303911  "
      ]
     },
     "execution_count": 24,
     "metadata": {},
     "output_type": "execute_result"
    }
   ],
   "source": [
    "%%time\n",
    "df_angles(tibia, ALL = True)"
   ]
  },
  {
   "cell_type": "code",
   "execution_count": 25,
   "metadata": {},
   "outputs": [],
   "source": [
    "# bone_plot(tibia.phantom.f1)"
   ]
  },
  {
   "cell_type": "markdown",
   "metadata": {},
   "source": [
    "# Rotation"
   ]
  },
  {
   "cell_type": "markdown",
   "metadata": {},
   "source": [
    "## Step 1: Center the 2 means"
   ]
  },
  {
   "cell_type": "markdown",
   "metadata": {},
   "source": [
    "displacement of PC1 and PC1_pos2\n",
    "\n",
    "then rotate around that vector the angels of PC2 and PC3"
   ]
  },
  {
   "cell_type": "code",
   "execution_count": 26,
   "metadata": {},
   "outputs": [],
   "source": [
    "tfm =  np.asarray(tibia.phantom.f1.mean) - np.asarray(tibia.phantom.f2.mean)"
   ]
  },
  {
   "cell_type": "code",
   "execution_count": 27,
   "metadata": {},
   "outputs": [
    {
     "data": {
      "text/plain": [
       "array([[140, 148,  99],\n",
       "       [140, 148, 100],\n",
       "       [140, 147,  97],\n",
       "       ...,\n",
       "       [109, 155,  99],\n",
       "       [109, 155, 100],\n",
       "       [109, 154,  99]], dtype=int64)"
      ]
     },
     "execution_count": 27,
     "metadata": {},
     "output_type": "execute_result"
    }
   ],
   "source": [
    "tibia.phantom.f1.xyz"
   ]
  },
  {
   "cell_type": "code",
   "execution_count": 28,
   "metadata": {},
   "outputs": [],
   "source": [
    "tfm_tib_f1 = tibia.phantom.f1.xyz + tfm"
   ]
  },
  {
   "cell_type": "code",
   "execution_count": 29,
   "metadata": {},
   "outputs": [
    {
     "data": {
      "text/plain": [
       "array([[139.55373319, 148.13572273, 101.46922275],\n",
       "       [139.55373319, 148.13572273, 102.46922275],\n",
       "       [139.55373319, 147.13572273,  99.46922275],\n",
       "       ...,\n",
       "       [108.55373319, 155.13572273, 101.46922275],\n",
       "       [108.55373319, 155.13572273, 102.46922275],\n",
       "       [108.55373319, 154.13572273, 101.46922275]])"
      ]
     },
     "execution_count": 29,
     "metadata": {},
     "output_type": "execute_result"
    }
   ],
   "source": [
    "tfm_tib_f1"
   ]
  },
  {
   "cell_type": "code",
   "execution_count": 30,
   "metadata": {},
   "outputs": [],
   "source": [
    "mlab.points3d(tfm_tib_f1[:,0],\n",
    "              tfm_tib_f1[:,1],\n",
    "              tfm_tib_f1[:,2], \n",
    "              mode=\"cube\",color=(0,1,0))\n",
    "\n",
    "mlab.points3d(tibia.phantom.f2.xyz[:,0],\n",
    "              tibia.phantom.f2.xyz[:,1],\n",
    "              tibia.phantom.f2.xyz[:,2], \n",
    "              mode=\"cube\", scale_factor=1,color= (1,0,0))\n",
    "\n",
    "\n",
    "mlab.show()"
   ]
  },
  {
   "cell_type": "markdown",
   "metadata": {},
   "source": [
    "## Change coordinate orgigen (bone)"
   ]
  },
  {
   "cell_type": "markdown",
   "metadata": {},
   "source": [
    "Orgigen is now mean of the bone"
   ]
  },
  {
   "cell_type": "code",
   "execution_count": 31,
   "metadata": {},
   "outputs": [
    {
     "data": {
      "text/plain": [
       "array([[139.55373319, 148.13572273, 101.46922275],\n",
       "       [139.55373319, 148.13572273, 102.46922275],\n",
       "       [139.55373319, 147.13572273,  99.46922275],\n",
       "       ...,\n",
       "       [108.55373319, 155.13572273, 101.46922275],\n",
       "       [108.55373319, 155.13572273, 102.46922275],\n",
       "       [108.55373319, 154.13572273, 101.46922275]])"
      ]
     },
     "execution_count": 31,
     "metadata": {},
     "output_type": "execute_result"
    }
   ],
   "source": [
    "tfm_tib_f1"
   ]
  },
  {
   "cell_type": "code",
   "execution_count": 32,
   "metadata": {},
   "outputs": [],
   "source": [
    "#changing bone matrix coords f2\n",
    "tfm_tib_f1[:,0] -= tibia.phantom.f1.mean[0]\n",
    "tfm_tib_f1[:,1] -= tibia.phantom.f1.mean[1]\n",
    "tfm_tib_f1[:,2] -= tibia.phantom.f1.mean[2]"
   ]
  },
  {
   "cell_type": "code",
   "execution_count": 33,
   "metadata": {},
   "outputs": [],
   "source": [
    "tib_f2 = tibia.phantom.f2.xyz"
   ]
  },
  {
   "cell_type": "code",
   "execution_count": 34,
   "metadata": {},
   "outputs": [],
   "source": [
    "tib_f2 = tib_f2.astype(np.float64)"
   ]
  },
  {
   "cell_type": "code",
   "execution_count": 35,
   "metadata": {},
   "outputs": [],
   "source": [
    "tib_f2[:,0] -= tibia.phantom.f1.mean[0]\n",
    "tib_f2[:,1] -= tibia.phantom.f1.mean[1]\n",
    "tib_f2[:,2] -= tibia.phantom.f1.mean[2]"
   ]
  },
  {
   "cell_type": "code",
   "execution_count": 36,
   "metadata": {},
   "outputs": [],
   "source": [
    "mlab.points3d(tfm_tib_f1[:,0],\n",
    "              tfm_tib_f1[:,1],\n",
    "              tfm_tib_f1[:,2], \n",
    "              mode=\"cube\",color=(0,1,0))\n",
    "\n",
    "mlab.points3d(tib_f2[:,0],\n",
    "              tib_f2[:,1],\n",
    "              tib_f2[:,2], \n",
    "              mode=\"cube\", scale_factor=1,color= (1,0,0))\n",
    "mlab.show()"
   ]
  },
  {
   "cell_type": "markdown",
   "metadata": {},
   "source": [
    "## Add PCAs"
   ]
  },
  {
   "cell_type": "code",
   "execution_count": 37,
   "metadata": {},
   "outputs": [],
   "source": [
    "x1,y1,z1 = tibia.phantom.f1.PC1\n",
    "x2,y2,z2 = tibia.phantom.f1.PC2\n",
    "x3,y3,z3 = tibia.phantom.f1.PC3"
   ]
  },
  {
   "cell_type": "code",
   "execution_count": 38,
   "metadata": {},
   "outputs": [],
   "source": [
    "f2_x1,f2_y1,f2_z1 = tibia.phantom.f2.PC1\n",
    "f2_x2,f2_y2,f2_z2 = tibia.phantom.f2.PC2\n",
    "f2_x3,f2_y3,f2_z3 = tibia.phantom.f2.PC3"
   ]
  },
  {
   "cell_type": "code",
   "execution_count": 39,
   "metadata": {},
   "outputs": [
    {
     "data": {
      "text/plain": [
       "(0.23452909433617208, -0.9503885821121647, -0.20434687886210598)"
      ]
     },
     "execution_count": 39,
     "metadata": {},
     "output_type": "execute_result"
    }
   ],
   "source": [
    "x1,y1,z1"
   ]
  },
  {
   "cell_type": "code",
   "execution_count": 40,
   "metadata": {},
   "outputs": [
    {
     "data": {
      "text/plain": [
       "(-0.9484961296519098, -0.26976960470439565, 0.16607062477446716)"
      ]
     },
     "execution_count": 40,
     "metadata": {},
     "output_type": "execute_result"
    }
   ],
   "source": [
    "x2,y2,z2"
   ]
  },
  {
   "cell_type": "code",
   "execution_count": 41,
   "metadata": {},
   "outputs": [],
   "source": [
    "# mlab.points3d(tfm_tib_f1[:,0],\n",
    "#               tfm_tib_f1[:,1],\n",
    "#               tfm_tib_f1[:,2], \n",
    "#               mode=\"cube\",color=(0,1,0))\n",
    "\n",
    "# mlab.points3d(tib_f2[:,0],\n",
    "#               tib_f2[:,1],\n",
    "#               tib_f2[:,2], \n",
    "#               mode=\"cube\", scale_factor=1,color= (1,0,0))\n",
    "#f1\n",
    "mlab.quiver3d(0,0,0,x1,y1,z1, line_width =6, scale_factor= 50, color= (1,0,0))\n",
    "mlab.quiver3d(0,0,0,x2,y2,z2, line_width =6, scale_factor= 50, color= (0,1,0))\n",
    "mlab.quiver3d(0,0,0,x3,y3,z3, line_width =6, scale_factor= 50, color= (0,0,1))\n",
    "\n",
    "#f2 PCA \n",
    "mlab.quiver3d(0,0,0,-f2_x1,-f2_y1,-f2_z1, line_width =6, scale_factor= 100, color= (1,0,0))\n",
    "mlab.quiver3d(0,0,0,f2_x2,f2_y2,f2_z2, line_width =6, scale_factor= 100, color= (0,0,1))\n",
    "mlab.quiver3d(0,0,0,f2_x3,f2_y3,f2_z3, line_width =6, scale_factor= 100, color= (0,1,0))\n",
    "\n",
    "mlab.show()"
   ]
  },
  {
   "cell_type": "markdown",
   "metadata": {},
   "source": [
    "## Quatertions"
   ]
  },
  {
   "cell_type": "code",
   "execution_count": 110,
   "metadata": {},
   "outputs": [],
   "source": [
    "import quaternion"
   ]
  },
  {
   "cell_type": "code",
   "execution_count": 47,
   "metadata": {},
   "outputs": [],
   "source": [
    "from pyquaternion import Quaternion"
   ]
  },
  {
   "cell_type": "code",
   "execution_count": null,
   "metadata": {},
   "outputs": [],
   "source": [
    "def rotation(bone_f1, bone_f2):\n",
    "    \n",
    "    # PC1 \n",
    "    # angle\n",
    "    ang = angle(bone_f1, bone_f2)\n",
    "    \n",
    "    # cross product\n",
    "    #x,y,z = np.cross(bone_f1, bone_f2)\n",
    "    # Quaternion around crossproduct\n",
    "    \n",
    "    r = Quaternion(axis = np.cross(bone_f1, bone_f2), angle = ang)\n",
    "    \n",
    "    for pc in bone_f1\n",
    "        bone_f1.pc = r.rotate(bone_f1)\n",
    "\n",
    "        x = np.apply_along_axis(lambda x: r.rotate(x), 1, tfm_tib_f1)"
   ]
  },
  {
   "cell_type": "markdown",
   "metadata": {},
   "source": [
    "## Rotaion around PCs"
   ]
  },
  {
   "cell_type": "markdown",
   "metadata": {},
   "source": [
    "Have to invtert the vectors if they are going the wrong way or it won't work"
   ]
  },
  {
   "cell_type": "code",
   "execution_count": 78,
   "metadata": {},
   "outputs": [],
   "source": [
    "#pc1_inv = tibia.phantom.f2.PC1*-1"
   ]
  },
  {
   "cell_type": "markdown",
   "metadata": {},
   "source": [
    "...pc1"
   ]
  },
  {
   "cell_type": "code",
   "execution_count": 79,
   "metadata": {},
   "outputs": [],
   "source": [
    "#ang =  angle(tibia.phantom.f1.PC1 ,pc1_inv)"
   ]
  },
  {
   "cell_type": "code",
   "execution_count": 113,
   "metadata": {},
   "outputs": [],
   "source": [
    "ang =  angle(tibia.phantom.f1.PC1 ,tibia.phantom.f2.PC1)"
   ]
  },
  {
   "cell_type": "code",
   "execution_count": 114,
   "metadata": {},
   "outputs": [
    {
     "data": {
      "text/plain": [
       "2.5230241705271723"
      ]
     },
     "execution_count": 114,
     "metadata": {},
     "output_type": "execute_result"
    }
   ],
   "source": [
    "ang"
   ]
  },
  {
   "cell_type": "code",
   "execution_count": 115,
   "metadata": {},
   "outputs": [],
   "source": [
    "#x,y,z = np.cross(tibia.phantom.f1.PC1,pc1_inv)"
   ]
  },
  {
   "cell_type": "code",
   "execution_count": 116,
   "metadata": {},
   "outputs": [],
   "source": [
    "x,y,z = np.cross(tibia.phantom.f1.PC1,tibia.phantom.f2.PC1)"
   ]
  },
  {
   "cell_type": "code",
   "execution_count": 117,
   "metadata": {},
   "outputs": [],
   "source": [
    "r1 = Quaternion(axis = [x,y,z], angle = ang)"
   ]
  },
  {
   "cell_type": "code",
   "execution_count": 118,
   "metadata": {},
   "outputs": [
    {
     "data": {
      "text/plain": [
       "Quaternion(0.3043769175416624, -0.6351827892880586, -0.004118466287388444, -0.7098454440901326)"
      ]
     },
     "execution_count": 118,
     "metadata": {},
     "output_type": "execute_result"
    }
   ],
   "source": [
    "r1"
   ]
  },
  {
   "cell_type": "code",
   "execution_count": null,
   "metadata": {},
   "outputs": [],
   "source": [
    "#mag_sq = np.dot(axis, axis)"
   ]
  },
  {
   "cell_type": "code",
   "execution_count": null,
   "metadata": {},
   "outputs": [],
   "source": [
    "#axis = axis / sqrt(mag_sq)"
   ]
  },
  {
   "cell_type": "code",
   "execution_count": 123,
   "metadata": {},
   "outputs": [],
   "source": [
    "#r  = np.quaternion(math.cos(ang/2),\n",
    "                   x*math.sin(ang/2), y*math.sin(ang/2), z*math.sin(ang/2))"
   ]
  },
  {
   "cell_type": "code",
   "execution_count": 124,
   "metadata": {},
   "outputs": [
    {
     "data": {
      "text/plain": [
       "quaternion(0.304376917541662, -0.368323116777777, -0.00238817292423076, -0.411617711951595)"
      ]
     },
     "execution_count": 124,
     "metadata": {},
     "output_type": "execute_result"
    }
   ],
   "source": [
    "r"
   ]
  },
  {
   "cell_type": "code",
   "execution_count": 86,
   "metadata": {},
   "outputs": [],
   "source": [
    "pc1 = r1.rotate(tibia.phantom.f1.PC1)\n",
    "pc2 = r1.rotate(tibia.phantom.f1.PC2)\n",
    "pc3 = r1.rotate(tibia.phantom.f1.PC3)"
   ]
  },
  {
   "cell_type": "code",
   "execution_count": 87,
   "metadata": {},
   "outputs": [],
   "source": [
    "x = np.apply_along_axis(lambda x: r1.rotate(x), 1, tfm_tib_f1)"
   ]
  },
  {
   "cell_type": "markdown",
   "metadata": {},
   "source": [
    "...pc2"
   ]
  },
  {
   "cell_type": "code",
   "execution_count": 88,
   "metadata": {},
   "outputs": [],
   "source": [
    "#pc2_inv = tibia.phantom.f2.PC2*-1"
   ]
  },
  {
   "cell_type": "code",
   "execution_count": 89,
   "metadata": {},
   "outputs": [],
   "source": [
    "#ang = (angle(pc2_inv ,tibia.phantom.f1.PC2))"
   ]
  },
  {
   "cell_type": "code",
   "execution_count": 90,
   "metadata": {},
   "outputs": [],
   "source": [
    "ang = (angle(tibia.phantom.f2.PC2 ,pc2))"
   ]
  },
  {
   "cell_type": "code",
   "execution_count": 91,
   "metadata": {},
   "outputs": [
    {
     "data": {
      "text/plain": [
       "0.9365642423615254"
      ]
     },
     "execution_count": 91,
     "metadata": {},
     "output_type": "execute_result"
    }
   ],
   "source": [
    "ang"
   ]
  },
  {
   "cell_type": "code",
   "execution_count": 92,
   "metadata": {},
   "outputs": [],
   "source": [
    "x,y,z= np.cross(pc2,tibia.phantom.f2.PC2)"
   ]
  },
  {
   "cell_type": "code",
   "execution_count": 93,
   "metadata": {},
   "outputs": [],
   "source": [
    "r2 = Quaternion(axis = [x,y,z], angle = ang)"
   ]
  },
  {
   "cell_type": "code",
   "execution_count": 94,
   "metadata": {},
   "outputs": [],
   "source": [
    "# r2  = np.quaternion(math.cos(ang)/2, \n",
    "#                     x[0]*math.sin(ang/2), y[0]*math.sin(ang/2), z[0]*math.sin(ang/2))"
   ]
  },
  {
   "cell_type": "code",
   "execution_count": 95,
   "metadata": {},
   "outputs": [],
   "source": [
    "pc1 = r2.rotate(pc1)\n",
    "pc2 = r2.rotate(pc2)\n",
    "pc3 = r2.rotate(pc3)"
   ]
  },
  {
   "cell_type": "code",
   "execution_count": 96,
   "metadata": {},
   "outputs": [],
   "source": [
    "x = np.apply_along_axis(lambda x: r2.rotate(x), 1, tfm_tib_f1)"
   ]
  },
  {
   "cell_type": "markdown",
   "metadata": {},
   "source": [
    "...pc3"
   ]
  },
  {
   "cell_type": "code",
   "execution_count": 97,
   "metadata": {},
   "outputs": [],
   "source": [
    "#pc3_inv = tibia.phantom.f2.PC3*-1"
   ]
  },
  {
   "cell_type": "code",
   "execution_count": 98,
   "metadata": {},
   "outputs": [],
   "source": [
    "#ang = (angle(pc3_inv ,tibia.phantom.f1.PC3))"
   ]
  },
  {
   "cell_type": "code",
   "execution_count": 99,
   "metadata": {},
   "outputs": [],
   "source": [
    "ang =  angle(tibia.phantom.f2.PC3 ,pc3)"
   ]
  },
  {
   "cell_type": "code",
   "execution_count": 100,
   "metadata": {},
   "outputs": [
    {
     "data": {
      "text/plain": [
       "0"
      ]
     },
     "execution_count": 100,
     "metadata": {},
     "output_type": "execute_result"
    }
   ],
   "source": [
    "ang"
   ]
  },
  {
   "cell_type": "code",
   "execution_count": 101,
   "metadata": {},
   "outputs": [],
   "source": [
    "x,y,z= np.cross(pc3, tibia.phantom.f2.PC3)"
   ]
  },
  {
   "cell_type": "code",
   "execution_count": 102,
   "metadata": {},
   "outputs": [],
   "source": [
    "r3 = Quaternion(axis = [x,y,z], angle = ang)"
   ]
  },
  {
   "cell_type": "code",
   "execution_count": 103,
   "metadata": {},
   "outputs": [],
   "source": [
    "# r3  = np.quaternion(math.cos(ang)/2, \n",
    "#                     x[0]*math.sin(ang/2), y[0]*math.sin(ang/2), z[0]*math.sin(ang/2))"
   ]
  },
  {
   "cell_type": "markdown",
   "metadata": {},
   "source": [
    "Combind Quaterion rotataions"
   ]
  },
  {
   "cell_type": "code",
   "execution_count": 104,
   "metadata": {},
   "outputs": [],
   "source": [
    "x = np.apply_along_axis(lambda x: r3.rotate(x), 1, tfm_tib_f1)"
   ]
  },
  {
   "cell_type": "code",
   "execution_count": 105,
   "metadata": {},
   "outputs": [],
   "source": [
    "pc1 = r3.rotate(pc1)\n",
    "pc2 = r3.rotate(pc2)\n",
    "pc3 = r3.rotate(pc3)"
   ]
  },
  {
   "cell_type": "code",
   "execution_count": 106,
   "metadata": {},
   "outputs": [],
   "source": [
    "# roatated \n",
    "mlab.points3d(x[:,0],\n",
    "              x[:,1],\n",
    "              x[:,2], \n",
    "              mode=\"cube\", color=(0,0.7,0))\n",
    "\n",
    "#f2\n",
    "mlab.points3d(tib_f2[:,0],\n",
    "              tib_f2[:,1],\n",
    "              tib_f2[:,2],\n",
    "              mode=\"cube\", color=(1,0,0))\n",
    "\n",
    "#f1 PCA \n",
    "#mlab.quiver3d(0,0,0,x1,y1,z1, line_width =6, scale_factor= 50, color= (0.6,0,0))\n",
    "#mlab.quiver3d(0,0,0,x2,y2,z2, line_width =6, scale_factor= 50, color= (0,1,0))\n",
    "#mlab.quiver3d(0,0,0,x3,y3,z3, line_width =6, scale_factor= 50, color= (0,0,1))\n",
    "\n",
    "#f2 PCA \n",
    "mlab.quiver3d(0,0,0, f2_x1, f2_y1, f2_z1, line_width =6, scale_factor= 100, color= (1,0,0))\n",
    "mlab.quiver3d(0,0,0,f2_x2,f2_y2,f2_z2, line_width =6, scale_factor= 100, color= (0,0,1))\n",
    "mlab.quiver3d(0,0,0,f2_x3,f2_y3,f2_z3, line_width =6, scale_factor= 100, color= (0,1,0))\n",
    "\n",
    "#w/ rotion\n",
    "mlab.quiver3d(0,0,0,pc1[0],pc1[1],pc1[2], line_width =6, scale_factor= 100, color= (0.6,0,0))\n",
    "mlab.quiver3d(0,0,0,pc2[0],pc2[1],pc2[2], line_width =6, scale_factor= 100, color= (0,0,1))\n",
    "mlab.quiver3d(0,0,0,pc3[0],pc3[1],pc3[2], line_width =6, scale_factor= 100, color= (0,1,0))\n",
    "\n",
    "#mlab.quiver3d(0,0,0,nx,ny,nz, line_width =6, scale_factor= 100, color= (0,0,0))\n",
    "\n",
    "\n",
    "mlab.show()"
   ]
  },
  {
   "cell_type": "code",
   "execution_count": 227,
   "metadata": {},
   "outputs": [
    {
     "data": {
      "text/plain": [
       "(21730, 3)"
      ]
     },
     "execution_count": 227,
     "metadata": {},
     "output_type": "execute_result"
    }
   ],
   "source": [
    "tibia.phantom.f1.xyz.shape"
   ]
  },
  {
   "cell_type": "markdown",
   "metadata": {},
   "source": [
    "## test"
   ]
  },
  {
   "cell_type": "code",
   "execution_count": null,
   "metadata": {},
   "outputs": [],
   "source": [
    "p0 = tibia.phantom.f2.PC1; p0"
   ]
  },
  {
   "cell_type": "code",
   "execution_count": null,
   "metadata": {},
   "outputs": [],
   "source": [
    "p1 = tibia.phantom.f1.PC1"
   ]
  },
  {
   "cell_type": "code",
   "execution_count": null,
   "metadata": {},
   "outputs": [],
   "source": [
    "def norm(vec):\n",
    "    x,y,z = vec\n",
    "    \n",
    "    n = 1/(x+y+z)\n",
    "    \n",
    "    return np.array([(n*x),(n*y),(n*z)])"
   ]
  },
  {
   "cell_type": "code",
   "execution_count": null,
   "metadata": {},
   "outputs": [],
   "source": [
    "mag(p0)"
   ]
  },
  {
   "cell_type": "code",
   "execution_count": null,
   "metadata": {},
   "outputs": [],
   "source": [
    "p0 = p0/mag(p0)\n",
    "p1 = p1/mag(p1)"
   ]
  },
  {
   "cell_type": "code",
   "execution_count": null,
   "metadata": {},
   "outputs": [],
   "source": [
    "p0"
   ]
  },
  {
   "cell_type": "code",
   "execution_count": null,
   "metadata": {},
   "outputs": [],
   "source": [
    "p0[0]+ p0[1]+p0[2] , p1[0]+ p1[1]+p1[2]"
   ]
  },
  {
   "cell_type": "code",
   "execution_count": null,
   "metadata": {},
   "outputs": [],
   "source": [
    "#p0 = np.array([0.5,0.5,0]) "
   ]
  },
  {
   "cell_type": "code",
   "execution_count": null,
   "metadata": {},
   "outputs": [],
   "source": [
    "#from sklearn.preprocessing import normalize"
   ]
  },
  {
   "cell_type": "code",
   "execution_count": null,
   "metadata": {},
   "outputs": [],
   "source": [
    "#p1 = np.array([0,0,1])"
   ]
  },
  {
   "cell_type": "code",
   "execution_count": null,
   "metadata": {},
   "outputs": [],
   "source": [
    "xc, yc, zc = np.cross(p0, p1)"
   ]
  },
  {
   "cell_type": "code",
   "execution_count": null,
   "metadata": {},
   "outputs": [],
   "source": [
    "#vc = norm(np.array([xc, yc, zc]))"
   ]
  },
  {
   "cell_type": "code",
   "execution_count": null,
   "metadata": {},
   "outputs": [],
   "source": [
    "xc + yc + zc"
   ]
  },
  {
   "cell_type": "code",
   "execution_count": null,
   "metadata": {},
   "outputs": [],
   "source": [
    "ang =  angle(p1,p0); ang"
   ]
  },
  {
   "cell_type": "code",
   "execution_count": null,
   "metadata": {},
   "outputs": [],
   "source": [
    "angle(p1,p0) == angle(p0,p1)"
   ]
  },
  {
   "cell_type": "code",
   "execution_count": null,
   "metadata": {},
   "outputs": [],
   "source": [
    "r  = np.quaternion((math.cos(ang/2)), \n",
    "                    xc*math.sin(ang/2), yc*math.sin(ang/2), zc*math.sin(ang/2))"
   ]
  },
  {
   "cell_type": "code",
   "execution_count": null,
   "metadata": {},
   "outputs": [],
   "source": [
    "(math.cos(ang/2)**2)+  (xc*math.sin(ang/2))**2 + (yc*math.sin(ang/2))**2 +(zc*math.sin(ang/2))**2"
   ]
  },
  {
   "cell_type": "code",
   "execution_count": null,
   "metadata": {},
   "outputs": [],
   "source": [
    "xr = quaternion.rotate_vectors(r, p0) ;xr"
   ]
  },
  {
   "cell_type": "code",
   "execution_count": null,
   "metadata": {},
   "outputs": [],
   "source": [
    "# OG point\n",
    "mlab.quiver3d(0,0,0,p0[0],p0[1],p0[2],scale_factor=1, line_width =6, color= (0.6,0,0))\n",
    "\n",
    "# Target point\n",
    "mlab.quiver3d(0,0,0,p1[0],p1[1],p1[2], line_width =6, color= (0.6,0,0))\n",
    "\n",
    "# Rotated point\n",
    "mlab.quiver3d(0,0,0,xr,yr,zr, line_width =6, color= (0,0.6,0))\n",
    "\n",
    "mlab.points3d(x[:,0],\n",
    "              x[:,1],\n",
    "              x[:,2], \n",
    "              mode=\"cube\", color=(0,0.7,0))\n",
    "\n",
    "mlab.show()"
   ]
  },
  {
   "cell_type": "code",
   "execution_count": null,
   "metadata": {},
   "outputs": [],
   "source": [
    "xr, yr, zr = q.rotate(p0)"
   ]
  },
  {
   "cell_type": "code",
   "execution_count": null,
   "metadata": {},
   "outputs": [],
   "source": [
    "q = Quaternion(axis = [xc,yc,zc], angle = ang)"
   ]
  },
  {
   "cell_type": "code",
   "execution_count": null,
   "metadata": {},
   "outputs": [],
   "source": [
    "q"
   ]
  },
  {
   "cell_type": "code",
   "execution_count": null,
   "metadata": {},
   "outputs": [],
   "source": [
    "x = np.apply_along_axis(lambda x: q.rotate(x), 1, tibia.phantom.f1.xyz)"
   ]
  },
  {
   "cell_type": "code",
   "execution_count": null,
   "metadata": {},
   "outputs": [],
   "source": [
    "x"
   ]
  },
  {
   "cell_type": "code",
   "execution_count": 236,
   "metadata": {},
   "outputs": [],
   "source": [
    "mlab.points3d(tibia.phantom.f1.xyz[:,0],\n",
    "                tibia.phantom.f1.xyz[:,1],\n",
    "                tibia.phantom.f1.xyz[:,2], \n",
    "                mode=\"cube\", color=(0,0.7,0))\n",
    "\n",
    "#f2\n",
    "mlab.points3d(tibia.phantom.f2.xyz[:,0],\n",
    "               tibia.phantom.f2.xyz[:,1],\n",
    "               tibia.phantom.f2.xyz[:,2],\n",
    "               mode=\"cube\", color=(0.6,0,0))\n",
    "\n",
    "mlab.show()\n"
   ]
  },
  {
   "cell_type": "code",
   "execution_count": 234,
   "metadata": {},
   "outputs": [
    {
     "data": {
      "text/plain": [
       "(122.94362632305568, 154.3126553152324, 133.98301886792453)"
      ]
     },
     "execution_count": 234,
     "metadata": {},
     "output_type": "execute_result"
    }
   ],
   "source": [
    "tibia.phantom.f1.mean"
   ]
  },
  {
   "cell_type": "code",
   "execution_count": 235,
   "metadata": {},
   "outputs": [
    {
     "data": {
      "text/plain": [
       "(123.12932705621711, 154.04426290039694, 134.1327887011908)"
      ]
     },
     "execution_count": 235,
     "metadata": {},
     "output_type": "execute_result"
    }
   ],
   "source": [
    "tibia.phantom.f2.mean"
   ]
  },
  {
   "cell_type": "code",
   "execution_count": null,
   "metadata": {},
   "outputs": [],
   "source": []
  }
 ],
 "metadata": {
  "kernelspec": {
   "display_name": "Python 3",
   "language": "python",
   "name": "python3"
  },
  "language_info": {
   "codemirror_mode": {
    "name": "ipython",
    "version": 3
   },
   "file_extension": ".py",
   "mimetype": "text/x-python",
   "name": "python",
   "nbconvert_exporter": "python",
   "pygments_lexer": "ipython3",
   "version": "3.6.7"
  }
 },
 "nbformat": 4,
 "nbformat_minor": 4
}
