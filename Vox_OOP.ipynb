{
 "cells": [
  {
   "cell_type": "markdown",
   "metadata": {
    "toc": true
   },
   "source": [
    "<h1>Table of Contents<span class=\"tocSkip\"></span></h1>\n",
    "<div class=\"toc\"><ul class=\"toc-item\"><li><span><a href=\"#Libraries\" data-toc-modified-id=\"Libraries-1\"><span class=\"toc-item-num\">1&nbsp;&nbsp;</span>Libraries</a></span><ul class=\"toc-item\"><li><span><a href=\"#OS\" data-toc-modified-id=\"OS-1.1\"><span class=\"toc-item-num\">1.1&nbsp;&nbsp;</span>OS</a></span></li><li><span><a href=\"#Python\" data-toc-modified-id=\"Python-1.2\"><span class=\"toc-item-num\">1.2&nbsp;&nbsp;</span>Python</a></span></li><li><span><a href=\"#mayavi\" data-toc-modified-id=\"mayavi-1.3\"><span class=\"toc-item-num\">1.3&nbsp;&nbsp;</span>mayavi</a></span><ul class=\"toc-item\"><li><span><a href=\"#mayavi-install\" data-toc-modified-id=\"mayavi-install-1.3.1\"><span class=\"toc-item-num\">1.3.1&nbsp;&nbsp;</span>mayavi install</a></span></li></ul></li><li><span><a href=\"#pyquaternion\" data-toc-modified-id=\"pyquaternion-1.4\"><span class=\"toc-item-num\">1.4&nbsp;&nbsp;</span>pyquaternion</a></span></li><li><span><a href=\"#Optional:-inline-3d-plotting\" data-toc-modified-id=\"Optional:-inline-3d-plotting-1.5\"><span class=\"toc-item-num\">1.5&nbsp;&nbsp;</span>Optional: inline 3d plotting</a></span></li><li><span><a href=\"#matlab_loader\" data-toc-modified-id=\"matlab_loader-1.6\"><span class=\"toc-item-num\">1.6&nbsp;&nbsp;</span>matlab_loader</a></span></li><li><span><a href=\"#PCA\" data-toc-modified-id=\"PCA-1.7\"><span class=\"toc-item-num\">1.7&nbsp;&nbsp;</span>PCA</a></span></li></ul></li><li><span><a href=\"#Classes:\" data-toc-modified-id=\"Classes:-2\"><span class=\"toc-item-num\">2&nbsp;&nbsp;</span>Classes:</a></span><ul class=\"toc-item\"><li><span><a href=\"#Hierarchy.\" data-toc-modified-id=\"Hierarchy.-2.1\"><span class=\"toc-item-num\">2.1&nbsp;&nbsp;</span>Hierarchy.</a></span></li><li><span><a href=\"#What-are-f1-and-f2\" data-toc-modified-id=\"What-are-f1-and-f2-2.2\"><span class=\"toc-item-num\">2.2&nbsp;&nbsp;</span>What are f1 and f2</a></span><ul class=\"toc-item\"><li><span><a href=\"#Foot-bone\" data-toc-modified-id=\"Foot-bone-2.2.1\"><span class=\"toc-item-num\">2.2.1&nbsp;&nbsp;</span>Foot bone</a></span></li><li><span><a href=\"#Indivual-bone-classes\" data-toc-modified-id=\"Indivual-bone-classes-2.2.2\"><span class=\"toc-item-num\">2.2.2&nbsp;&nbsp;</span>Indivual bone classes</a></span></li></ul></li><li><span><a href=\"#Bone\" data-toc-modified-id=\"Bone-2.3\"><span class=\"toc-item-num\">2.3&nbsp;&nbsp;</span>Bone</a></span></li></ul></li><li><span><a href=\"#Plotting:\" data-toc-modified-id=\"Plotting:-3\"><span class=\"toc-item-num\">3&nbsp;&nbsp;</span>Plotting:</a></span><ul class=\"toc-item\"><li><span><a href=\"#bone_plot\" data-toc-modified-id=\"bone_plot-3.1\"><span class=\"toc-item-num\">3.1&nbsp;&nbsp;</span>bone_plot</a></span></li><li><span><a href=\"#Angels\" data-toc-modified-id=\"Angels-3.2\"><span class=\"toc-item-num\">3.2&nbsp;&nbsp;</span>Angels</a></span></li><li><span><a href=\"#Table-of-Angles\" data-toc-modified-id=\"Table-of-Angles-3.3\"><span class=\"toc-item-num\">3.3&nbsp;&nbsp;</span>Table of Angles</a></span></li></ul></li><li><span><a href=\"#Rotation\" data-toc-modified-id=\"Rotation-4\"><span class=\"toc-item-num\">4&nbsp;&nbsp;</span>Rotation</a></span><ul class=\"toc-item\"><li><span><a href=\"#Step-1:-Center-the-2-means\" data-toc-modified-id=\"Step-1:-Center-the-2-means-4.1\"><span class=\"toc-item-num\">4.1&nbsp;&nbsp;</span>Step 1: Center the 2 means</a></span></li></ul></li><li><span><a href=\"#Quaternions\" data-toc-modified-id=\"Quaternions-5\"><span class=\"toc-item-num\">5&nbsp;&nbsp;</span>Quaternions</a></span><ul class=\"toc-item\"><li><span><a href=\"#Rotation-around-PCs\" data-toc-modified-id=\"Rotation-around-PCs-5.1\"><span class=\"toc-item-num\">5.1&nbsp;&nbsp;</span>Rotation around PCs</a></span></li><li><span><a href=\"#What-is-the-difference-with-this-and-the-other-bone_plot?\" data-toc-modified-id=\"What-is-the-difference-with-this-and-the-other-bone_plot?-5.2\"><span class=\"toc-item-num\">5.2&nbsp;&nbsp;</span>What is the difference with this and the other <code>bone_plot</code>?</a></span></li></ul></li><li><span><a href=\"#How-to-use:\" data-toc-modified-id=\"How-to-use:-6\"><span class=\"toc-item-num\">6&nbsp;&nbsp;</span>How to use:</a></span><ul class=\"toc-item\"><li><ul class=\"toc-item\"><li><span><a href=\"#1.-Set-the-root-directory-for-the-matlab-file-loader\" data-toc-modified-id=\"1.-Set-the-root-directory-for-the-matlab-file-loader-6.0.1\"><span class=\"toc-item-num\">6.0.1&nbsp;&nbsp;</span>1. Set the root directory for the matlab file loader</a></span></li><li><span><a href=\"#2.-Load-the-data-that-you-want-to-use\" data-toc-modified-id=\"2.-Load-the-data-that-you-want-to-use-6.0.2\"><span class=\"toc-item-num\">6.0.2&nbsp;&nbsp;</span>2. Load the data that you want to use</a></span></li><li><span><a href=\"#3.-Construct-the-bone-classes\" data-toc-modified-id=\"3.-Construct-the-bone-classes-6.0.3\"><span class=\"toc-item-num\">6.0.3&nbsp;&nbsp;</span>3. Construct the bone classes</a></span></li><li><span><a href=\"#4.-Change-xyz-coordinates-so-f1-is-in-f2-position\" data-toc-modified-id=\"4.-Change-xyz-coordinates-so-f1-is-in-f2-position-6.0.4\"><span class=\"toc-item-num\">6.0.4&nbsp;&nbsp;</span>4. Change xyz coordinates so <code>f1</code> is in <code>f2</code> position</a></span></li><li><span><a href=\"#5.-Rotate-bone-using-PCs\" data-toc-modified-id=\"5.-Rotate-bone-using-PCs-6.0.5\"><span class=\"toc-item-num\">6.0.5&nbsp;&nbsp;</span>5. Rotate bone using PCs</a></span></li><li><span><a href=\"#6.-Plotting-the-rotation\" data-toc-modified-id=\"6.-Plotting-the-rotation-6.0.6\"><span class=\"toc-item-num\">6.0.6&nbsp;&nbsp;</span>6. Plotting the rotation</a></span></li></ul></li></ul></li></ul></div>"
   ]
  },
  {
   "cell_type": "code",
   "execution_count": 35,
   "metadata": {},
   "outputs": [],
   "source": [
    "import math\n",
    "import os\n",
    "from pathlib import Path\n",
    "\n",
    "import numpy as np\n",
    "import pandas as pd\n",
    "import scipy.io\n",
    "from mayavi import mlab\n",
    "from pyquaternion import Quaternion"
   ]
  },
  {
   "cell_type": "code",
   "execution_count": 36,
   "metadata": {},
   "outputs": [],
   "source": [
    "from IPython.core.debugger import set_trace"
   ]
  },
  {
   "cell_type": "code",
   "execution_count": 37,
   "metadata": {},
   "outputs": [],
   "source": [
    "import quaternion as quat"
   ]
  },
  {
   "cell_type": "markdown",
   "metadata": {},
   "source": [
    "# Libraries\n",
    "See environment.yml \n",
    "\n",
    "Activate desired environment\n",
    "\n",
    "    conda activate myenv\n",
    "  \n",
    "    conda env update -f environment.yml \n",
    "\n",
    "## OS\n",
    "Has been written (and runs) on both Windows 10 and MacOS\n",
    "\n",
    "## Python\n",
    "This was written on python 3.7 (although 3.6 *should* work- although not tested) python 2 versions won't work due to the use of f strings\n",
    "\n",
    "## mayavi\n",
    "This is the 3d plotting library used for rendering the plots. mayvai will launch a qt window to display the plot- meaning that you will need an X serve session for the plots to load. If you want to plot things inline you will need to use jupyter notebooks, not jupyter lab.\n",
    "\n",
    "### mayavi install\n",
    "https://docs.enthought.com/mayavi/mayavi/installation.html#installing-with-conda-forge\n",
    "\n",
    "    conda install vtk\n",
    "    conda install qyqt5\n",
    "    \n",
    "    conda install mayavi\n",
    "    \n",
    "## pyquaternion\n",
    "http://kieranwynn.github.io/pyquaternion/\n",
    "\n",
    "    pip install pyquaternion\n",
    "    \n",
    "    \n",
    "## Optional: inline 3d plotting\n",
    "http://docs.enthought.com/mayavi/mayavi/tips.html#using-mayavi-in-jupyter-notebooks"
   ]
  },
  {
   "cell_type": "code",
   "execution_count": 38,
   "metadata": {},
   "outputs": [],
   "source": [
    "# Only works with notebooks not lab\n",
    "# mlab.init_notebook('x3d', 500, 500)"
   ]
  },
  {
   "cell_type": "code",
   "execution_count": 39,
   "metadata": {},
   "outputs": [],
   "source": [
    "# test inline rendering\n",
    "# s = mlab.test_plot3d()\n",
    "# s"
   ]
  },
  {
   "cell_type": "markdown",
   "metadata": {},
   "source": [
    "## matlab_loader"
   ]
  },
  {
   "cell_type": "markdown",
   "metadata": {},
   "source": [
    "This makes a data loader class for matlab files"
   ]
  },
  {
   "cell_type": "code",
   "execution_count": 40,
   "metadata": {},
   "outputs": [],
   "source": [
    "class matlab_loader:\n",
    "    \"\"\" Loads .mat files from a directory \n",
    "            \n",
    "            root_dir (str): path to the directory that contains files\n",
    "            mat_file (str): name of file \n",
    "     \n",
    "         returns:\n",
    "             self.array (np.array)\n",
    "             self.mat_file (Path object)\n",
    "    \"\"\"\n",
    "    def __init__(self, root_dir, mat_file):  \n",
    "        \n",
    "        root_dir = Path(root_dir)\n",
    "        mat_file = Path(mat_file)\n",
    "        \n",
    "        mat_obj = scipy.io.loadmat(root_dir/mat_file)\n",
    "        obj= mat_obj.keys()\n",
    "        obj = list(obj)\n",
    "        array = mat_obj[obj[-1]]\n",
    "        \n",
    "        self.array = array\n",
    "        self.mat_file = root_dir/mat_file\n",
    "        \n",
    "    def __repr__(self):\n",
    "        return f'{self.mat_file}'"
   ]
  },
  {
   "cell_type": "markdown",
   "metadata": {},
   "source": [
    "Why do you have have to remove noise"
   ]
  },
  {
   "cell_type": "code",
   "execution_count": 41,
   "metadata": {},
   "outputs": [],
   "source": [
    "def xyz(arr, filter_level):\n",
    "    \"\"\"Convert 3D voxel array to xyz coordinates.\n",
    "    \n",
    "            arr (np.array): 3D voxel array  \n",
    "            \n",
    "            filter_level (int/float): (inherited from `bone` class)sets the threshold level for \n",
    "            what is considered a voxel. Everything below filter level is\n",
    "            rounded to 0, everything above rounded to 1 (ie voxel)\n",
    "            \n",
    "            returns: \n",
    "                np.array (n x 3)\n",
    "    \"\"\"\n",
    "    \n",
    "    # Everything above filter level is converted to 1\n",
    "    arr = np.where(arr < filter_level, 0, 1)\n",
    "    \n",
    "    x, y, z = np.where(arr == 1)\n",
    "    \n",
    "    # converts the xyz so z is is *up* \n",
    "    x -= arr.shape[1]\n",
    "    y -= arr.shape[0]\n",
    "    x *= -1\n",
    "    y *= -1\n",
    "    xyz = np.array([x, y, z]).T\n",
    "    return xyz"
   ]
  },
  {
   "cell_type": "markdown",
   "metadata": {},
   "source": [
    "## PCA"
   ]
  },
  {
   "cell_type": "code",
   "execution_count": 42,
   "metadata": {},
   "outputs": [],
   "source": [
    "def pca(xyz):\n",
    "    \"\"\"PCA on a xyz points array\n",
    "    \n",
    "            xyz(np.array): n x 3 array of xyz coordinates\n",
    "            \n",
    "            returns: mean_x, mean_y, mean_z, eig_val, eig_vec\n",
    "    \"\"\"\n",
    "    \n",
    "    #covariance of xyz points\n",
    "    cov = np.cov(xyz.T)\n",
    "    \n",
    "    #eigenvalues and vectors\n",
    "    (eig_val, eig_vec) = np.linalg.eig(cov)\n",
    "\n",
    "    mean_x, mean_y, mean_z = [np.mean(xyz[:,0]),np.mean(xyz[:,1]),np.mean(xyz[:,2])]\n",
    "\n",
    "    #NB eigenvalues not used the calculations\n",
    "    return mean_x, mean_y, mean_z, eig_val, eig_vec"
   ]
  },
  {
   "cell_type": "markdown",
   "metadata": {},
   "source": [
    "# Classes:"
   ]
  },
  {
   "cell_type": "markdown",
   "metadata": {},
   "source": [
    "## Hierarchy.\n",
    "\n",
    "1. `foot_bone` : highest level bone eg 'tibia' \n",
    "   \n",
    "2. `frame_rec` : sets the frame position of the bone, f1 or f2 and how many \n",
    "\n",
    "3. `bone` : It calls the PCA on xyz of the bone and stores the output\n",
    "\n",
    "## What are f1 and f2 \n",
    "\n",
    "These are the 2 different position of the bone. F1 is the starting position of the bone using the phantom image.\n",
    "\n",
    "F2 is the the bone in it's second frame of motion. The image is created by using a multi angle reconstruction."
   ]
  },
  {
   "cell_type": "markdown",
   "metadata": {},
   "source": [
    "## Bone"
   ]
  },
  {
   "cell_type": "code",
   "execution_count": 43,
   "metadata": {},
   "outputs": [],
   "source": [
    "class bone:\n",
    "        def __init__(self, array, filter_level=0.001):\n",
    "            \n",
    "            \"\"\"\n",
    "            Performs calculations on the voxel array objects\n",
    "            \n",
    "                array (np.array): binary voxel object)  \n",
    "            \n",
    "                filter_level (int/float): sets the threshold level for \n",
    "            what is considered a voxel. Everything below filter level is\n",
    "            rounded to 0, everything above rounded to 1 (ie voxel)\n",
    "            \"\"\"\n",
    "          \n",
    "            if array is None:\n",
    "                pass\n",
    "            \n",
    "            else:\n",
    "                self.array = array\n",
    "                self.filter_level = filter_level\n",
    "                self.xyz = xyz(array, filter_level)\n",
    "\n",
    "                mean_x, mean_y, mean_z, eig_val, eig_vec = pca(self.xyz) \n",
    "\n",
    "                self.PCs = eig_vec\n",
    "                self.PC1 = eig_vec[:,0]\n",
    "                self.PC2 = eig_vec[:,1]\n",
    "                self.PC3 = eig_vec[:,2]   \n",
    "\n",
    "                self.mean = (mean_x, mean_y, mean_z)"
   ]
  },
  {
   "cell_type": "markdown",
   "metadata": {},
   "source": [
    "### Foot bone"
   ]
  },
  {
   "cell_type": "code",
   "execution_count": 44,
   "metadata": {},
   "outputs": [],
   "source": [
    "class foot_bone(bone):\n",
    "    def __init__(self, name = 'UN-NAMED', **kwargs):\n",
    "        \n",
    "        \"\"\"\n",
    "        The highest level class.\n",
    "        \n",
    "            name: sets the bone name ie('tibia')\n",
    "        \"\"\"\n",
    "        # Allows for n subclasses \n",
    "        for key, value in kwargs.items():\n",
    "            setattr(self, key, value)\n",
    "            \n",
    "        self.name = name\n",
    "        \n",
    "    def __repr__(self):\n",
    "        return self.name"
   ]
  },
  {
   "cell_type": "markdown",
   "metadata": {},
   "source": [
    "### Indivual bone classes"
   ]
  },
  {
   "cell_type": "code",
   "execution_count": 45,
   "metadata": {},
   "outputs": [],
   "source": [
    "class frame_rec(foot_bone):\n",
    "    def __init__(self, frame_rec_name, f1 = None ,f2 = None):\n",
    "        \n",
    "        \"\"\"\n",
    "        Sets the frame and different reconstructions\n",
    "\n",
    "            f1: sets f1 images\n",
    "            f2: sets f1 images\n",
    "            frame_rec_name: name of image reconstructions eg('3 angles')\n",
    "        \"\"\"\n",
    "        self.f1 = bone(f1)\n",
    "        self.f2 = bone(f2)\n",
    "        \n",
    "        # set what the name will be \n",
    "        self.n_name = frame_rec_name\n",
    "        \n",
    "    def __repr__(self):\n",
    "        return f'{self.n_name} ' "
   ]
  },
  {
   "cell_type": "markdown",
   "metadata": {},
   "source": [
    "# Plotting:"
   ]
  },
  {
   "cell_type": "markdown",
   "metadata": {},
   "source": [
    "Creates plots that show both the PCs and the voxelized bones"
   ]
  },
  {
   "cell_type": "code",
   "execution_count": 46,
   "metadata": {},
   "outputs": [],
   "source": [
    "#Creates some repeated blocks for functions\n",
    "\n",
    "def voxel_points(bone, color):\n",
    "    \"\"\"\n",
    "    plots voxel array \n",
    "    \"\"\"\n",
    "    mlab.points3d(bone[:,0],\n",
    "                  bone[:,1],\n",
    "                  bone[:,2], \n",
    "                  mode=\"cube\", color=color)\n",
    "\n",
    "\n",
    "def voxel_PCAs(bone,pc,x=0,y=0,z=0):\n",
    "    \"\"\"\n",
    "    plots each PC of bone object\n",
    "    \"\"\"\n",
    "    pc_color = [(1,0,0),(0,1,0),(0,0,1)]\n",
    "    \n",
    "    for n in range(1,4):\n",
    "      # adds scalling to the PCAs  \n",
    "#     if n == 1:\n",
    "#             x = .7\n",
    "#         if n == 2:\n",
    "#             x = .5\n",
    "#         if n==3:\n",
    "#             x = .3\n",
    "            \n",
    "        mlab.quiver3d(x,y,z, \n",
    "                      getattr(bone,f'{pc}{n}')[0],\n",
    "                      getattr(bone,f'{pc}{n}')[1], \n",
    "                      getattr(bone,f'{pc}{n}')[2], \n",
    "                      line_width =6, scale_factor= 100, color= pc_color[n-1])\n",
    "        "
   ]
  },
  {
   "cell_type": "markdown",
   "metadata": {},
   "source": [
    "## bone_plot"
   ]
  },
  {
   "cell_type": "markdown",
   "metadata": {},
   "source": [
    "This plots an arbitrary number of voxelized bones.\n",
    "\n",
    "eg: `bone_plot(bone.bone_name.f1)`\n",
    "\n",
    "`plot_PCA`: plots the PCAs as vectors on the bone\n",
    "\n",
    "`plot_inv`: plots the inverse of each PCA so the axes go in both directions\n",
    "\n",
    "You can use your own colours by passing a colour dictionary\n",
    "\n",
    "`my_colours = {'red':(1,0,0),'green':(0,1,0),'blue':(0,0,1)`\n",
    "         \n",
    "The first bone will be plotted with the first colour in the dictionary, the second with the second and so on.\n"
   ]
  },
  {
   "cell_type": "code",
   "execution_count": 47,
   "metadata": {},
   "outputs": [],
   "source": [
    "# NEED TO REFACTOR\n",
    "def bone_plot(*args, user_colours = None, plot_PCA = True, plot_inv = False):\n",
    "    \"\"\"\n",
    "    plots voxel array that has an xyz attribute;\n",
    "    can take n bones and plot PCA vectors\n",
    "    PC1 Red \n",
    "    PC2 Blue\n",
    "    PC3 Green\n",
    "\n",
    "    \n",
    "    plot_PCA: plots the PCAs as vectors on the bone\n",
    "    plot_inv: plots the inverse of each PCA vector (PCAs go in both directions)\n",
    "    \n",
    "    \"\"\"\n",
    "\n",
    "    # Sorting out colours\n",
    "    colour_dict = {'yellow':(0.9,0.9,0),\n",
    "                   'pastel_blue':(0.7,1,1),\n",
    "                   'purple':(0.6,0,0.5),\n",
    "                   'orange':(0.8,0.3,0),\n",
    "                   'dark_blue':(0,0.3,0.7),}\n",
    "    \n",
    "    if user_colours is None:\n",
    "        user_colours = colour_dict\n",
    "    \n",
    "    plot_colours = []\n",
    "    \n",
    "    for col in user_colours:\n",
    "        x = colour_dict.get(col)\n",
    "        plot_colours.append(x)\n",
    "        \n",
    "    \n",
    "    for n, bone in enumerate(args):\n",
    "\n",
    "        mlab.points3d(bone.xyz[:,0], \n",
    "                      bone.xyz[:,1], \n",
    "                      bone.xyz[:,2],\n",
    "                     mode=\"cube\",\n",
    "                     color= plot_colours[n],\n",
    "                     scale_factor=1)\n",
    "        \n",
    "        x,y,z = bone.mean\n",
    "\n",
    "        #plot PCAs\n",
    "        u0,v0,w0 = bone.PC1 * 100\n",
    "        u0_inv,v0_inv,w0_inv = bone.PC1 * 100 * -1\n",
    "\n",
    "        u1,v1,w1 = bone.PC2 * 100\n",
    "        u1_inv,v1_inv,w1_inv = bone.PC2 * 100 * -1\n",
    "\n",
    "        u2,v2,w2 = bone.PC3 * 100\n",
    "        u2_inv,v2_inv,w2_inv = bone.PC3 * 100 * -1\n",
    "\n",
    "        #print(f\"{n}th bone PCA vectors: \\n {bone.vec} \\n \")\n",
    "        \n",
    "        \n",
    "        if plot_PCA is True:\n",
    "            mlab.quiver3d(x,y,z,u0,v0,w0,\n",
    "                                 line_width =6,\n",
    "                                 scale_factor=0.7,\n",
    "                                 color= (1,0,0))\n",
    "            mlab.quiver3d(x,y,z,u1,v1,w1,\n",
    "                                 line_width =6,\n",
    "                                 scale_factor= 0.5,\n",
    "                                 color= (0,1,0))\n",
    "            mlab.quiver3d(x,y,z,u2,v2,w2, \n",
    "                                 line_width =6,\n",
    "                                 scale_factor=0.3,\n",
    "                                 color=(0,0,1))\n",
    "\n",
    "\n",
    "        #plotting the inverse of PCAs\n",
    "        if plot_inv is True:\n",
    "            mlab.quiver3d(x,y,z,u0_inv,v0_inv,w0_inv,\n",
    "                                 line_width =6,\n",
    "                                 scale_factor=0.7,\n",
    "                                 color= (1,0,0))\n",
    "            mlab.quiver3d(x,y,z,u1_inv,v1_inv,w1_inv,\n",
    "                                 line_width =6,\n",
    "                                 scale_factor=0.5,\n",
    "                                 color= (0,1,0))\n",
    "            mlab.quiver3d(x,y,z,u2_inv,v2_inv,w2_inv,\n",
    "                                 line_width =6,\n",
    "                                 scale_factor=0.3,\n",
    "                                 color=(0,0,1))\n",
    "\n",
    "    return mlab.show()"
   ]
  },
  {
   "cell_type": "code",
   "execution_count": 48,
   "metadata": {},
   "outputs": [],
   "source": [
    "# cleaner code\n",
    "def bone_plot2(*args, user_colours = None, plot_PCA = True, plot_inv = False):\n",
    "    \"\"\"plots voxel array that has an xyz atribute;\n",
    "    can take n bones and plot PCA vectors\"\"\"\n",
    "\n",
    "    # Sorting out colours\n",
    "    colour_dict = {'yellow':(0.9,0.9,0),\n",
    "                   'pastel_blue':(0.7,1,1),\n",
    "                   'purple':(0.6,0,0.5),\n",
    "                   'orange':(0.8,0.3,0),\n",
    "                   'dark_blue':(0,0.3,0.7)}\n",
    "    \n",
    "    if user_colours is None:\n",
    "        user_colours = colour_dict\n",
    "    \n",
    "    plot_colours = []\n",
    "    \n",
    "    for col in user_colours:\n",
    "        x = colour_dict.get(col)\n",
    "        plot_colours.append(x)\n",
    "    \n",
    "    for n, bone in enumerate(args):\n",
    "\n",
    "        voxel_points(bone.xyz, plot_colours[n])\n",
    "        \n",
    "        x,y,z = bone.mean\n",
    "        \n",
    "        if plot_PCA is True:\n",
    "            voxel_PCAs(bone,'PC',x,y,z)\n",
    "\n",
    "        #plotting the inverse of PCAs\n",
    "        if plot_inv is True:\n",
    "            voxel_PCAs(-bone,'PC',x,y,z)\n",
    "\n",
    "            \n",
    "    return mlab.show()"
   ]
  },
  {
   "cell_type": "code",
   "execution_count": 49,
   "metadata": {},
   "outputs": [],
   "source": [
    "# Option user colours\n",
    "# user_colours=['yellow','purple']"
   ]
  },
  {
   "cell_type": "markdown",
   "metadata": {},
   "source": [
    "## Angels"
   ]
  },
  {
   "cell_type": "code",
   "execution_count": 50,
   "metadata": {},
   "outputs": [],
   "source": [
    "def mag(v):\n",
    "    \"\"\"Finds magnitude of vector\n",
    "        v (np.array): vector\n",
    "    \"\"\"\n",
    "    return math.sqrt(np.dot(v,v))\n",
    "\n",
    "\n",
    "def angle(v1, v2):\n",
    "    \"\"\"Finds angel between 2 vectors\"\"\"\n",
    "    try:\n",
    "        x = math.acos(np.dot(v1, v2) / (mag(v1) * mag(v2)))\n",
    "    \n",
    "    except:\n",
    "        x = 0\n",
    "        print ('angles are the same')\n",
    "        \n",
    "    return x"
   ]
  },
  {
   "cell_type": "code",
   "execution_count": 51,
   "metadata": {},
   "outputs": [],
   "source": [
    "# # write a file loader \n",
    "\n",
    "# file list = walk through dir\n",
    "#     for file in file list:\n",
    "#          file[:-4] = matlab_loader(file)\n",
    "#          setattr(bone, file[:-7])"
   ]
  },
  {
   "cell_type": "markdown",
   "metadata": {},
   "source": [
    "## Table of Angles"
   ]
  },
  {
   "cell_type": "code",
   "execution_count": 52,
   "metadata": {},
   "outputs": [],
   "source": [
    "def df_angles(bone_phantom,bone_target, name ='UN-NAMED BONE'):\n",
    "    \"\"\"\n",
    "    Compares the PCA angles between to bones.\n",
    "    \n",
    "    Input:  bone_phantom = bone.phantom \n",
    "            bone_target = bone.frame_rec\n",
    "               \n",
    "    Returns: pandas dataframe\n",
    "    \"\"\"\n",
    "    \n",
    "    df = pd.DataFrame()\n",
    "    # loops over each PCA\n",
    "    for n in range(1,4):\n",
    "        \n",
    "        # Sets the column names\n",
    "         df.loc[f'{name} {bone_phantom} f1: PC{n}',\n",
    "               f'{name} {bone_target} f2: PC{n}'] = angle(\n",
    "        # gets the PC value from the object\n",
    "            getattr(bone_phantom.f1,f'PC{n}'),\n",
    "            getattr(bone_target.f2,f'PC{n}'))\n",
    "            \n",
    "    return df"
   ]
  },
  {
   "cell_type": "markdown",
   "metadata": {},
   "source": [
    "# Rotation"
   ]
  },
  {
   "cell_type": "markdown",
   "metadata": {},
   "source": [
    "## Step 1: Center the 2 means"
   ]
  },
  {
   "cell_type": "markdown",
   "metadata": {},
   "source": [
    "Moves the f1 bone to the f2 position; \n",
    "\n",
    "Creates new attribute `bone.f1.tfm_xyz` and `bone.f2.tfm_xyz`"
   ]
  },
  {
   "cell_type": "code",
   "execution_count": 53,
   "metadata": {},
   "outputs": [],
   "source": [
    "def voxel_center(bone):\n",
    "    #displacment between f1 onto f2\n",
    "    tfm =  np.asarray(bone.f1.mean) - np.asarray(bone.f2.mean)\n",
    "    \n",
    "    #changing bone matrix coords f1\n",
    "    bone.f1.tfm_xyz = bone.f1.xyz + tfm\n",
    "    \n",
    "    #sets mean to origin\n",
    "    for n, i in enumerate(bone.f1.mean):\n",
    "         bone.f1.tfm_xyz[:,n] -= bone.f1.mean[n] \n",
    "    \n",
    "    #changing bone matrix coords f2\n",
    "    bone.f2.tfm_xyz = bone.f2.xyz.astype(np.float64)\n",
    "    \n",
    "    #sets mean to origin\n",
    "    for n, i in enumerate(bone.f2.mean):\n",
    "         bone.f2.tfm_xyz[:,n] -= bone.f1.mean[n] \n",
    "            \n",
    "    return bone"
   ]
  },
  {
   "cell_type": "markdown",
   "metadata": {},
   "source": [
    "# Quaternions"
   ]
  },
  {
   "cell_type": "markdown",
   "metadata": {},
   "source": [
    "## Rotation around PCs"
   ]
  },
  {
   "cell_type": "markdown",
   "metadata": {},
   "source": [
    "The bones are rotated with quaternions.\n",
    "\n",
    "The angle between the two PC1 vectors is taken. The object is  then rotated (by a quaternion) around the cross product between the PC1 vectors.\n",
    "\n",
    "The new angles between the next PCs are calculates and the process is repeated for the other PCs"
   ]
  },
  {
   "cell_type": "code",
   "execution_count": 54,
   "metadata": {},
   "outputs": [],
   "source": [
    "def rotation(bone):\n",
    "    \n",
    "    # init tfm_PCn\n",
    "    for n in range(1,4):\n",
    "        setattr(bone.f1,f'tfm_PC{n}',getattr(bone.f1,f'PC{n}'))\n",
    "        \n",
    "    # for each pc rotate    \n",
    "    for n in range(1,4):\n",
    "    \n",
    "        f1_PCn = getattr(bone.f1,f'tfm_PC{n}')\n",
    "        f2_PCn = getattr(bone.f2,f'PC{n}')\n",
    "            \n",
    "        # angle between PCs\n",
    "        ang =  angle(f1_PCn, f2_PCn)\n",
    "        \n",
    "        #cross product between PCs\n",
    "        cx,cy,cz = np.cross(f1_PCn, f2_PCn)\n",
    "\n",
    "        r = Quaternion(axis = [cx,cy,cz], angle = ang)\n",
    "        \n",
    "       # applies rotation row wise down the xyz list\n",
    "        bone.f1.tfm_xyz = np.apply_along_axis(r.rotate, 1, bone.f1.tfm_xyz)\n",
    "        print(f'{n} {r}')\n",
    "        \n",
    "        #rotate PCs\n",
    "        for n in range(1,4):\n",
    "            setattr(bone.f1,\n",
    "                    f'tfm_PC{n}',\n",
    "                    r.rotate(getattr(bone.f1,f'tfm_PC{n}')))\n",
    "                                            \n",
    "    return bone"
   ]
  },
  {
   "cell_type": "code",
   "execution_count": 55,
   "metadata": {},
   "outputs": [],
   "source": [
    "def rotation2(bone):\n",
    "    \n",
    "    # init tfm_PCn for the class \n",
    "    for n in range(1,4):\n",
    "        setattr(bone.f1,f'tfm_PC{n}',getattr(bone.f1,f'PC{n}'))\n",
    "        \n",
    "        \n",
    "    # for each pairwise    \n",
    "    for n in range(1,4):\n",
    "    \n",
    "        f1_PC = getattr(bone.f1,f'tfm_PC{n}')\n",
    "        f2_PC = getattr(bone.f2,f'PC{n}')\n",
    "            \n",
    "        # angle between PCs\n",
    "        theta =  angle(f1_PC, f2_PC)\n",
    "        \n",
    "        #cross product between PCs\n",
    "        cx,cy,cz = np.cross(f1_PC, f2_PC)\n",
    "\n",
    "        #makes cross product a unit vector\n",
    "        cx = cx/math.sqrt(3)\n",
    "        cy = cy/math.sqrt(3)\n",
    "        cz = cz/math.sqrt(3)\n",
    "        \n",
    "        #quaterion\n",
    "        #rotation component\n",
    "        s = math.cos(theta)/2\n",
    "        \n",
    "        #rotation axis\n",
    "        i = cx*math.sin(theta/2)\n",
    "        j = cy*math.sin(theta/2)\n",
    "        k = cz*math.sin(theta/2)\n",
    "\n",
    "        q = np.quaternion(s,i,j,k)\n",
    "        q_conj = q.conjugate()\n",
    "\n",
    "        \n",
    "        #rotate bone\n",
    "        bone.f1.tfm_xyz = quaternion.rotate_vectors(q, bone.f1.tfm_xyz)\n",
    "        bone.f1.tfm_xyz = quaternion.rotate_vectors(q_conj, bone.f1.tfm_xyz)\n",
    "               \n",
    "        print(f'PC{n}: \\n q ={q} \\n q_inv =q_inv\\n \\n')\n",
    "\n",
    "        #rotate PCs\n",
    "        \n",
    "        # PC1\n",
    "        tfm_PC1 = getattr(bone.f1,f'tfm_PC1')\n",
    "        \n",
    "        tfm_PC1 = quaternion.rotate_vectors(q, tfm_PC1)\n",
    "        tfm_PC1 = quaternion.rotate_vectors(q_conj, tfm_PC1)\n",
    "        \n",
    "        setattr(bone.f1,f'tfm_PC1',tfm_PC1)\n",
    "           \n",
    "           \n",
    "        # PC2\n",
    "        tfm_PC2 = getattr(bone.f1,f'tfm_PC2')\n",
    "        \n",
    "        tfm_PC2 = quaternion.rotate_vectors(q, tfm_PC2)\n",
    "        tfm_PC2 = quaternion.rotate_vectors(q_conj, tfm_PC2)\n",
    "        \n",
    "        setattr(bone.f1,f'tfm_PC2',tfm_PC2)\n",
    "           \n",
    "        # PC3\n",
    "        tfm_PC3 = getattr(bone.f1,f'tfm_PC3')\n",
    "        \n",
    "        tfm_PC3 = quaternion.rotate_vectors(q, tfm_PC3)\n",
    "        tfm_PC3 = quaternion.rotate_vectors(q_conj, tfm_PC3)\n",
    "        \n",
    "        setattr(bone.f1,f'tfm_PC3',tfm_PC3)\n",
    "            \n",
    "        \n",
    "\n",
    "           \n",
    "                          \n",
    "    return bone"
   ]
  },
  {
   "cell_type": "code",
   "execution_count": 56,
   "metadata": {},
   "outputs": [],
   "source": [
    "def rotation3(bone):\n",
    "    \n",
    "    # init tfm_PCn for the class \n",
    "    for n in range(1,4):\n",
    "        setattr(bone.f1,f'tfm_PC{n}',getattr(bone.f1,f'PC{n}'))\n",
    "        \n",
    "    # for each pairwise    \n",
    "    for n in range(1,4):\n",
    "    \n",
    "        f1_PC = getattr(bone.f1,f'tfm_PC{n}')\n",
    "        f2_PC = getattr(bone.f2,f'PC{n}')\n",
    "            \n",
    "        # angle between PCs\n",
    "        theta =  angle(f1_PC, f2_PC)\n",
    "        \n",
    "        #cross product between PCs\n",
    "        axis = np.cross(f1_PC, f2_PC) \n",
    "\n",
    "        bone.f1.tfm_xyz = np.apply_along_axis(\n",
    "            func1d=quaternion_rot, \n",
    "            axis=1, \n",
    "            arr= bone.f1.tfm_xyz, \n",
    "            c_axis=axis, \n",
    "            theta=theta)        \n",
    "\n",
    "            #rotate PCs\n",
    "        for n in range(1,4):\n",
    "\n",
    "            tfm_PC = getattr(bone.f1,f'tfm_PC{n}')\n",
    "            \n",
    "            tfm_PC = quaternion_rot(v=tfm_PC,c_axis=axis,theta=theta)\n",
    "\n",
    "            setattr(bone.f1, f'tfm_PC{n}',tfm_PC)"
   ]
  },
  {
   "cell_type": "markdown",
   "metadata": {},
   "source": [
    "## What is the difference with this and the other `bone_plot`?\n",
    "\n",
    "Internally nothing- both uses the same functions.\n",
    "\n",
    "`rotation_plot` provides a quick validation that the rotation has been done right and only takes one argument.\n",
    "\n",
    "`bone_plot` allows you to plot all the bones/colours you want \n"
   ]
  },
  {
   "cell_type": "code",
   "execution_count": 57,
   "metadata": {},
   "outputs": [],
   "source": [
    "def rotation_plot(bone):\n",
    "    \n",
    "   #plot rotated f1\n",
    "    voxel_points(bone.f1.tfm_xyz,color=(0,0.7,0))\n",
    "    \n",
    "    # plots original f2 \n",
    "    voxel_points(bone.f2.tfm_xyz,color=(0.7,0,0))\n",
    "\n",
    "    #f2 PCA \n",
    "    voxel_PCAs(bone.f2,pc='PC')\n",
    "    \n",
    "    #w/ rotation\n",
    "    voxel_PCAs(bone.f1,pc='tfm_PC') \n",
    "\n",
    "    mlab.show()"
   ]
  },
  {
   "cell_type": "markdown",
   "metadata": {},
   "source": [
    "# How to use:"
   ]
  },
  {
   "cell_type": "markdown",
   "metadata": {},
   "source": [
    "### 1. Set the root directory for the matlab file loader"
   ]
  },
  {
   "cell_type": "code",
   "execution_count": 58,
   "metadata": {},
   "outputs": [],
   "source": [
    "root_dir = Path('C://Users/luke/OneDrive - University College London/Marta/data')"
   ]
  },
  {
   "cell_type": "markdown",
   "metadata": {},
   "source": [
    "### 2. Load the data that you want to use"
   ]
  },
  {
   "cell_type": "code",
   "execution_count": 59,
   "metadata": {},
   "outputs": [],
   "source": [
    "# load data phantoms\n",
    "tibia_phant_f2 = matlab_loader(root_dir, mat_file = 'phantom/phantom_tibia_f2.mat' )\n",
    "tibia_phant_f1 = matlab_loader(root_dir, mat_file = 'phantom/phantom_tibia_f1.mat')\n",
    "\n",
    "# load multiple angles\n",
    "tibia_3_f2 = matlab_loader(root_dir, mat_file = 'fista_recons/3 angles/tibia_f2.mat')\n",
    "tibia_6_f2 = matlab_loader(root_dir, mat_file = 'fista_recons/6 angles/tibia_f2.mat')"
   ]
  },
  {
   "cell_type": "markdown",
   "metadata": {},
   "source": [
    "### 3. Construct the bone classes"
   ]
  },
  {
   "cell_type": "code",
   "execution_count": 60,
   "metadata": {},
   "outputs": [],
   "source": [
    "# set the foot bone\n",
    "tibia = foot_bone(name = 'tibia')\n",
    "\n",
    "# load f1/f2 phantom data\n",
    "tibia.phantom = frame_rec(f1=tibia_phant_f1.array,\n",
    "                      f2=tibia_phant_f2.array,\n",
    "                      frame_rec_name= 'phantom')\n",
    "\n",
    "# load f2 3 angel data\n",
    "tibia.ang3 = frame_rec(f2 = tibia_3_f2.array,\n",
    "                   frame_rec_name= 'angle 3')"
   ]
  },
  {
   "cell_type": "markdown",
   "metadata": {},
   "source": [
    "### 4. Change xyz coordinates so `f1` is in `f2` position"
   ]
  },
  {
   "cell_type": "code",
   "execution_count": 61,
   "metadata": {},
   "outputs": [
    {
     "data": {
      "text/plain": [
       "phantom "
      ]
     },
     "execution_count": 61,
     "metadata": {},
     "output_type": "execute_result"
    }
   ],
   "source": [
    "voxel_center(tibia.phantom)"
   ]
  },
  {
   "cell_type": "markdown",
   "metadata": {},
   "source": [
    "### 5. Rotate bone using PCs"
   ]
  },
  {
   "cell_type": "code",
   "execution_count": 62,
   "metadata": {},
   "outputs": [
    {
     "name": "stdout",
     "output_type": "stream",
     "text": [
      "PC1: \n",
      " q =quaternion(-0.492387902811821, -0.0857226168787859, -0.0402039460446633, -0.0321062190223083) \n",
      " q_inv =q_inv\n",
      " \n",
      "\n",
      "PC2: \n",
      " q =quaternion(-0.27330941102847, -0.12307663083407, -0.0969046839293852, 0.395236433610234) \n",
      " q_inv =q_inv\n",
      " \n",
      "\n",
      "PC3: \n",
      " q =quaternion(0.272156715229426, 0.0929344393829428, 0.0123623942317026, -0.211320939371444) \n",
      " q_inv =q_inv\n",
      " \n",
      "\n"
     ]
    },
    {
     "data": {
      "text/plain": [
       "phantom "
      ]
     },
     "execution_count": 62,
     "metadata": {},
     "output_type": "execute_result"
    }
   ],
   "source": [
    "rotation2(tibia.phantom)"
   ]
  },
  {
   "cell_type": "markdown",
   "metadata": {},
   "source": [
    "### 6. Plotting the rotation"
   ]
  },
  {
   "cell_type": "code",
   "execution_count": null,
   "metadata": {},
   "outputs": [],
   "source": [
    "rotation_plot(tibia.phantom)"
   ]
  },
  {
   "cell_type": "markdown",
   "metadata": {},
   "source": [
    "## Table of Angels"
   ]
  },
  {
   "cell_type": "code",
   "execution_count": null,
   "metadata": {},
   "outputs": [],
   "source": [
    "df_angles(tibia.phantom,tibia.phantom, name= tibia)"
   ]
  },
  {
   "cell_type": "code",
   "execution_count": null,
   "metadata": {},
   "outputs": [],
   "source": [
    "mag(np.cross(tibia.phantom.f1.PC1, tibia.phantom.f2.PC1))"
   ]
  },
  {
   "cell_type": "code",
   "execution_count": null,
   "metadata": {},
   "outputs": [],
   "source": [
    "bone_plot2(tibia.phantom.f1, tibia.phantom.f2)"
   ]
  },
  {
   "cell_type": "code",
   "execution_count": null,
   "metadata": {},
   "outputs": [],
   "source": [
    "q = np.quaternion(1,0,1,0)"
   ]
  },
  {
   "cell_type": "code",
   "execution_count": null,
   "metadata": {},
   "outputs": [],
   "source": [
    "q.conjugate()"
   ]
  },
  {
   "cell_type": "code",
   "execution_count": null,
   "metadata": {},
   "outputs": [],
   "source": []
  }
 ],
 "metadata": {
  "kernelspec": {
   "display_name": "Python 3",
   "language": "python",
   "name": "python3"
  },
  "language_info": {
   "codemirror_mode": {
    "name": "ipython",
    "version": 3
   },
   "file_extension": ".py",
   "mimetype": "text/x-python",
   "name": "python",
   "nbconvert_exporter": "python",
   "pygments_lexer": "ipython3",
   "version": "3.6.7"
  },
  "toc": {
   "base_numbering": 1,
   "nav_menu": {},
   "number_sections": true,
   "sideBar": true,
   "skip_h1_title": false,
   "title_cell": "Table of Contents",
   "title_sidebar": "Contents",
   "toc_cell": true,
   "toc_position": {
    "height": "calc(100% - 180px)",
    "left": "10px",
    "top": "150px",
    "width": "165px"
   },
   "toc_section_display": true,
   "toc_window_display": true
  }
 },
 "nbformat": 4,
 "nbformat_minor": 4
}
