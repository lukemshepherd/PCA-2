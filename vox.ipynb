{
 "cells": [
  {
   "cell_type": "code",
   "execution_count": 45,
   "metadata": {},
   "outputs": [],
   "source": [
    "#import os\n",
    "import math\n",
    "import numpy as np\n",
    "import pandas as pd\n",
    "import scipy.io\n",
    "from pathlib import Path\n",
    "#import numba\n",
    "\n",
    "from mayavi import mlab\n",
    "import quaternion as quat\n",
    "from sklearn.decomposition import PCA"
   ]
  },
  {
   "cell_type": "markdown",
   "metadata": {
    "toc-hr-collapsed": true
   },
   "source": [
    "# Libraries\n",
    "See environment.yml \n",
    "\n",
    "conda env create -f environment.yml\n",
    "\n",
    "conda activate sci\n",
    "\n",
    "\n",
    "## OS\n",
    "Has been written (and runs) on both Windows 10 and MacOS\n",
    "\n",
    "## Python\n",
    "This was written on python 3.6, python 2.7x versions won't work due to the f strings\n",
    "\n",
    "## mayavi\n",
    "This is the 3d plotting library used for rendering the plots. mayvai will launch a qt window to display the plot- meaning that you will need an X serve session for the plots to load. If you want to plot things inline you will need to use jupyter notebooks, not jupyter lab.\n",
    "\n",
    "### mayavi install\n",
    "https://docs.enthought.com/mayavi/mayavi/installation.html#installing-with-conda-forge\n",
    "\n",
    "\n",
    "    \n",
    "## numpy-quaternion\n",
    "https://github.com/moble/quaternion\n",
    "https://quaternion.readthedocs.io/en/latest/\n",
    "\n",
    "    conda install -c conda-forge quaternion\n",
    "    \n",
    "    \n",
    "## Optional: inline 3d plotting\n",
    "http://docs.enthought.com/mayavi/mayavi/tips.html#using-mayavi-in-jupyter-notebooks"
   ]
  },
  {
   "cell_type": "markdown",
   "metadata": {
    "toc-hr-collapsed": false
   },
   "source": [
    "# Classes"
   ]
  },
  {
   "cell_type": "markdown",
   "metadata": {},
   "source": [
    "This class manages the loading of voxel objects and creating its atributes "
   ]
  },
  {
   "cell_type": "markdown",
   "metadata": {},
   "source": [
    "## bone\n"
   ]
  },
  {
   "cell_type": "code",
   "execution_count": 71,
   "metadata": {},
   "outputs": [],
   "source": [
    "class bone:\n",
    "\n",
    "    filter_level = 0.001\n",
    "    default_color = (0.7, 1, 1)\n",
    "    scale = 1.5\n",
    "\n",
    "    def __init__(self, array):\n",
    "        \"\"\"\n",
    "        Performs calculations on the voxel array objects    \n",
    "        array (np.array): binary voxel object)      \n",
    "        filter_level (int/float): sets the threshold level for \n",
    "        what is considered a voxel. Everything below filter level is\n",
    "        rounded to 0, everything above rounded to 1 (ie voxel)\n",
    "        \"\"\"\n",
    "        self.array = array\n",
    "        self.get_xyz()\n",
    "\n",
    "    def get_xyz(self):\n",
    "        \"\"\"Convert 3D voxel array to xyz coordinates.\n",
    "\n",
    "        array (np.array): 3D voxel array  \n",
    "\n",
    "        filter_level (int/float): (inherited from `bone` class) sets the threshold level for \n",
    "        what is considered a voxel. Everything below filter level is\n",
    "        rounded to 0, everything above rounded to 1 (ie voxel)\n",
    "\n",
    "        returns: \n",
    "            np.array( [n x 3] )\"\"\"\n",
    "\n",
    "        # Everything above filter level is converted to 1\n",
    "        filtered_array = np.where(self.array < self.filter_level, 0, 1)\n",
    "\n",
    "        # records coordiates where there is a 1\n",
    "        x, y, z = np.where(filtered_array == 1)\n",
    "\n",
    "        self.xyz = np.array([x, y, z]).T\n",
    "\n",
    "    def get_pca(self):\n",
    "        \"\"\"PCA on the xyz points array\n",
    "\n",
    "            xyz(np.array): n x 3 array of xyz coordinates\n",
    "\n",
    "            returns:    self.pc1\n",
    "                        self.pc2\n",
    "                        self.pc3\"\"\"\n",
    "\n",
    "        pca = PCA(svd_solver='full')\n",
    "        pca.fit(self.xyz)\n",
    "         \n",
    "        self.list = pca.components_\n",
    "        self.pc1 = pca.components_[0]\n",
    "        self.pc2 = pca.components_[1]\n",
    "        self.pc3 = pca.components_[2]\n",
    "\n",
    "\n",
    "    def get_mean(self):\n",
    "        \"\"\"The mean of the xyz atriube\n",
    "\n",
    "            returns:\n",
    "                tupple (mean_of_x, mean_of_y ,mean_of_z)\"\"\"\n",
    "\n",
    "        #mean_x, mean_y, mean_z\n",
    "        return (np.mean(self.xyz[:, 0]), np.mean(self.xyz[:, 1]), np.mean(self.xyz[:, 2]))\n",
    "\n",
    "    def center_to_origin(self):\n",
    "        \"\"\" sets the mean of the bone to 0,0,0\"\"\"\n",
    "\n",
    "        # set transformation (tfm) value\n",
    "        self.tfm = self.get_mean()\n",
    "\n",
    "        self.xyz = self.xyz - self.tfm\n",
    "\n",
    "    def reset_position(self):\n",
    "        \"\"\" resets the position of the bone to its orginal one\"\"\"\n",
    "        self.xyz = self.xyz + self.tfm\n",
    "\n",
    "\n",
    "    def plot(self, user_color=None, PCA_inv=None, PCA=True):\n",
    "        \"\"\" Plot voxels with optional PCA, and colours\n",
    "        \n",
    "            user_color (tupple): RGB color of the bone where 1 is maxium\n",
    "                                    eg: red = (1,0,0)\n",
    "                                    \n",
    "            PCA (boolean): plots the PCAs of the voxel\n",
    "            \n",
    "            PCA_inv (boolean): plots the inverse of each PCA so the axes go in both directions\n",
    "        \"\"\"\n",
    "                \n",
    "        if hasattr(self, 'pc1') is False:\n",
    "            self.get_pca()\n",
    "        \n",
    "        x, y, z = self.get_mean()\n",
    "        \n",
    "        if user_color is None:\n",
    "            user_color = self.default_color\n",
    "    \n",
    "        #plots voxels \n",
    "        mlab.points3d(self.xyz[:, 0],\n",
    "                      self.xyz[:, 1],\n",
    "                      self.xyz[:, 2],\n",
    "                      mode = \"cube\",\n",
    "                      color= user_color,\n",
    "                      scale_factor = 1)   \n",
    "        \n",
    "        # plots pca arrows\n",
    "        if PCA is True:\n",
    "        \n",
    "            mlab.quiver3d(x, y, z, *self.pc1,\n",
    "                              line_width=6,\n",
    "                              scale_factor=100,\n",
    "                              color=(1, 0, 0))\n",
    "            mlab.quiver3d(x, y, z, *self.pc2,\n",
    "                              line_width=6,\n",
    "                              scale_factor=50,\n",
    "                              color=(0, 1, 0))\n",
    "            mlab.quiver3d(x, y, z, *self.pc3,\n",
    "                              line_width=6,\n",
    "                              scale_factor=30,\n",
    "                              color=(0, 0, 1))\n",
    "        \n",
    "        \n",
    "       # plots the pca *-1  \n",
    "        if PCA_inv is True:\n",
    "        \n",
    "            mlab.quiver3d(x, y, z, *(self.pc1*-1),\n",
    "                              line_width=6,\n",
    "                              scale_factor=100,\n",
    "                              color=(1, 0, 0))\n",
    "            mlab.quiver3d(x, y, z, *(self.pc2*-1),\n",
    "                              line_width=6,\n",
    "                              scale_factor=50,\n",
    "                              color=(0, 1, 0))\n",
    "            mlab.quiver3d(x, y, z, *(self.pc3*-1),\n",
    "                              line_width=6,\n",
    "                              scale_factor=30,\n",
    "                              color=(0, 0, 1))\n",
    "            \n",
    "\n",
    "\n",
    "    def upscale(self):\n",
    "        \"\"\" upscales the bone \"\"\"\n",
    "        n = 1\n",
    "\n",
    "        self.center_to_origin()\n",
    "        \n",
    "        while n < self.scale:\n",
    "\n",
    "            n += 0.1\n",
    "\n",
    "            scalled = self.xyz * np.array([n, n, n])\n",
    "            self.xyz = np.concatenate((scalled, self.xyz))\n",
    "\n",
    "            print(f\"scale = {n}\")\n",
    "\n",
    "            # if xyz.shape > max_lim:\n",
    "            #     brake\n",
    "            #     print('xyz point limit hit')\n",
    "\n",
    "    def downscale(self):\n",
    "        \"\"\" scales bone back to orginal dementions\"\"\"\n",
    "\n",
    "        self.xyz = self.xyz /np.array([self.scale,self.scale,self.scale])\n",
    "\n",
    "    #     Alternative constructor:\n",
    "    #     Import directly from matlab path\n",
    "\n",
    "    @classmethod\n",
    "    def from_matlab_path(cls, matlab_file):\n",
    "        \"\"\"Imports matlab file drectly\n",
    "\n",
    "           path: path object/string \n",
    "\n",
    "           retruns np.array (n x n x n )\"\"\"\n",
    "\n",
    "        matlab_object = scipy.io.loadmat(matlab_file)\n",
    "        obj = matlab_object.keys()\n",
    "        obj = list(obj)\n",
    "        array = matlab_object[obj[-1]]\n",
    "\n",
    "        return cls(array)   "
   ]
  },
  {
   "cell_type": "markdown",
   "metadata": {
    "toc-hr-collapsed": true
   },
   "source": [
    "# Maths functions"
   ]
  },
  {
   "cell_type": "markdown",
   "metadata": {},
   "source": [
    "## mag"
   ]
  },
  {
   "cell_type": "code",
   "execution_count": 48,
   "metadata": {},
   "outputs": [],
   "source": [
    "def mag(v):\n",
    "    \"\"\" Finds magnitude of vector\n",
    "\n",
    "        v (np.array): vector\"\"\"\n",
    "    return math.sqrt(np.dot(v, v))"
   ]
  },
  {
   "cell_type": "markdown",
   "metadata": {},
   "source": [
    "## angle\n",
    "\n",
    "https://uk.mathworks.com/matlabcentral/answers/101590-how-can-i-determine-the-angle-between-two-vectors-in-matlab"
   ]
  },
  {
   "cell_type": "code",
   "execution_count": 49,
   "metadata": {},
   "outputs": [],
   "source": [
    "def angle(v1, v2):\n",
    "    \"\"\" Finds angel between 2 vectors\n",
    "\n",
    "    returns: ang , v1\"\"\"\n",
    "    \n",
    "    try:\n",
    "       \n",
    "        ang = math.atan2(np.linalg.norm(np.cross(v1,v2)),np.dot(v1,v2))\n",
    "                         \n",
    "        if ang > math.pi/2:\n",
    "            v1 = -v1\n",
    "            ang = math.atan2(np.linalg.norm(np.cross(v1,v2)),np.dot(v1,v2))\n",
    "            \n",
    "            print(f'{ang} PC inverted')\n",
    "\n",
    "        else:\n",
    "            print(f'{ang} no invert')\n",
    "\n",
    "    except:\n",
    "        #vang = 0\n",
    "        print(f'ERROR: vectors v1= {v1}, v2= {v2}')\n",
    "        ang = 'ERROR'\n",
    "\n",
    "    return ang, v1\n",
    ""
   ]
  },
  {
   "cell_type": "markdown",
   "metadata": {},
   "source": [
    "# Rotation"
   ]
  },
  {
   "cell_type": "markdown",
   "metadata": {},
   "source": [
    "The bones are rotated with quaternions.\n",
    "\n",
    "The angle between the two PC1 vectors is taken. The object is then rotated (by a quaternion) around the cross product between the PC1 vectors.\n",
    "\n",
    "The new angles between the next PCs are calculates and the process is repeated for the other PCs"
   ]
  },
  {
   "cell_type": "markdown",
   "metadata": {},
   "source": [
    "## quaternion_rotation"
   ]
  },
  {
   "cell_type": "code",
   "execution_count": 50,
   "metadata": {},
   "outputs": [],
   "source": [
    "def quaternion_rotation_from_angle(v, c_axis, theta):\n",
    "\n",
    "    rotation_axis = np.array([0.] + c_axis)\n",
    "    axis_angle = (theta*0.5) * rotation_axis/np.linalg.norm(rotation_axis)\n",
    "\n",
    "    vec = quat.quaternion(*v)\n",
    "\n",
    "    # quaternion from exp of axis angle\n",
    "    qlog = quat.quaternion(*axis_angle)\n",
    "    q = np.exp(qlog)\n",
    "\n",
    "    # double cover quaternion rotation\n",
    "    v_prime = q * vec * np.conjugate(q)\n",
    "\n",
    "    return v_prime.imag "
   ]
  },
  {
   "cell_type": "markdown",
   "metadata": {},
   "source": [
    "## voxel_rotate"
   ]
  },
  {
   "cell_type": "code",
   "execution_count": 51,
   "metadata": {},
   "outputs": [],
   "source": [
    "def voxel_rotate(bone_f1, bone_f2):\n",
    "\n",
    "    quaterion_product = None\n",
    "    \n",
    "    # center bones too 0,0,0,\n",
    "    bone_f1.center_to_origin()\n",
    "    bone_f2.center_to_origin()\n",
    "\n",
    "    # PCA on bones\n",
    "    bone_f1.get_pca()\n",
    "    bone_f2.get_pca()\n",
    "\n",
    "    # for 1 to 3 principle conponents of the object\n",
    "    for n in range(1, 4):\n",
    "\n",
    "        # takes cross product axis\n",
    "        cross_product_axis = np.cross(\n",
    "            getattr(bone_f1, f'pc{n}'),\n",
    "            getattr(bone_f2, f'pc{n}'))\n",
    "\n",
    "        # finds angle between PCs for f1 vs f2\n",
    "        theta, vector = angle(\n",
    "            getattr(bone_f1, f'pc{n}'),\n",
    "            getattr(bone_f2, f'pc{n}'))\n",
    "\n",
    "        # sets any new values needed\n",
    "        setattr(bone_f1, f'pc{n}', vector)\n",
    "\n",
    "        # rotates each PC\n",
    "        for n in range(1, 4):\n",
    "            transformed_pc = quaternion_rotation_from_angle(\n",
    "                v=getattr(bone_f1, f'pc{n}'),\n",
    "                c_axis=cross_product_axis,\n",
    "                theta=theta)\n",
    "\n",
    "            # sets new PCA\n",
    "            setattr(bone_f1, f'pc{n}', transformed_pc)\n",
    "\n",
    "\n",
    "        # rotates xyz array with the quaterion product\n",
    "        rotated_xyz = np.apply_along_axis(\n",
    "            quaternion_rotation_from_angle, 1, \n",
    "            getattr(bone_f1, 'xyz'),\n",
    "            c_axis=cross_product_axis,\n",
    "            theta=theta)\n",
    "\n",
    "        setattr(bone_f1, 'xyz', rotated_xyz)\n",
    "\n",
    "        bone_f1.out = quaterion_product"
   ]
  },
  {
   "cell_type": "markdown",
   "metadata": {
    "toc-hr-collapsed": true
   },
   "source": [
    "# Table of Angles"
   ]
  },
  {
   "cell_type": "markdown",
   "metadata": {},
   "source": [
    "## df_angles"
   ]
  },
  {
   "cell_type": "code",
   "execution_count": 52,
   "metadata": {},
   "outputs": [],
   "source": [
    "def df_angles(bone_f1, bone_f2, name='UN-NAMED BONE'):\n",
    "    \"\"\"\n",
    "    Compares the PCA angles between to bones.\n",
    "\n",
    "    Input:  bone_f1 = bone in 1st position\n",
    "            bone_f2 = bone in 2nd position\n",
    "\n",
    "    Returns: pandas dataframe\n",
    "    \"\"\"\n",
    "\n",
    "    df = pd.DataFrame()\n",
    "\n",
    "    \n",
    "    # Check for PCAs\n",
    "    if hasattr(bone_f1, 'pc1') is False:\n",
    "            bone_f1.get_pca()\n",
    "    \n",
    "    if hasattr(bone_f2, 'pc1') is False:\n",
    "            bone_f2.get_pca()\n",
    "            \n",
    "    # loops over each PCA\n",
    "    for n in range(1, 4):\n",
    "        theta, _ = angle(\n",
    "            getattr(bone_f1, f'pc{n}'), getattr(bone_f2, f'pc{n}'))\n",
    "\n",
    "        # Sets the column names\n",
    "        df.loc[f'{name} f1: pc{n}', f'{name} f2: pc{n}'] = theta\n",
    "\n",
    "    return df"
   ]
  },
  {
   "cell_type": "markdown",
   "metadata": {
    "toc-hr-collapsed": true
   },
   "source": [
    "# How to use:"
   ]
  },
  {
   "cell_type": "markdown",
   "metadata": {},
   "source": [
    "## 1. Load the data that you want to use\n",
    "*you have to use the absoslute file paths*"
   ]
  },
  {
   "cell_type": "code",
   "execution_count": 72,
   "metadata": {},
   "outputs": [],
   "source": [
    "# load data phantoms\n",
    "tibia_f2 = bone.from_matlab_path(\n",
    "    matlab_file='/home/luke/phantom/phantom_tibia_f2.mat')\n",
    "\n",
    "tibia_f1 = bone.from_matlab_path(\n",
    "    matlab_file='/home/luke/phantom/phantom_tibia_f1.mat')"
   ]
  },
  {
   "cell_type": "markdown",
   "metadata": {},
   "source": [
    "### *Set custom filter level (optional)*"
   ]
  },
  {
   "cell_type": "code",
   "execution_count": 73,
   "metadata": {},
   "outputs": [],
   "source": [
    "#bone.filter_level = 0.1"
   ]
  },
  {
   "cell_type": "markdown",
   "metadata": {},
   "source": [
    "### *Set custom colour for bone(optional)*"
   ]
  },
  {
   "cell_type": "code",
   "execution_count": 74,
   "metadata": {},
   "outputs": [],
   "source": [
    "tibia_f1.default_color = (0.8, 0.3, 0)"
   ]
  },
  {
   "cell_type": "markdown",
   "metadata": {},
   "source": [
    "## Table of Angles\n",
    "\n",
    "The angles between the PCAs"
   ]
  },
  {
   "cell_type": "code",
   "execution_count": 39,
   "metadata": {},
   "outputs": [
    {
     "output_type": "stream",
     "name": "stdout",
     "text": "0.1747168069985996 no invert\n0.5798220207976942 no invert\n0.6067394097718334 no invert\n"
    },
    {
     "output_type": "execute_result",
     "data": {
      "text/plain": "               tibia f2: pc1  tibia f2: pc2  tibia f2: pc3\ntibia f1: pc1       0.174717            NaN            NaN\ntibia f1: pc2            NaN       0.579822            NaN\ntibia f1: pc3            NaN            NaN       0.606739",
      "text/html": "<div>\n<style scoped>\n    .dataframe tbody tr th:only-of-type {\n        vertical-align: middle;\n    }\n\n    .dataframe tbody tr th {\n        vertical-align: top;\n    }\n\n    .dataframe thead th {\n        text-align: right;\n    }\n</style>\n<table border=\"1\" class=\"dataframe\">\n  <thead>\n    <tr style=\"text-align: right;\">\n      <th></th>\n      <th>tibia f2: pc1</th>\n      <th>tibia f2: pc2</th>\n      <th>tibia f2: pc3</th>\n    </tr>\n  </thead>\n  <tbody>\n    <tr>\n      <th>tibia f1: pc1</th>\n      <td>0.174717</td>\n      <td>NaN</td>\n      <td>NaN</td>\n    </tr>\n    <tr>\n      <th>tibia f1: pc2</th>\n      <td>NaN</td>\n      <td>0.579822</td>\n      <td>NaN</td>\n    </tr>\n    <tr>\n      <th>tibia f1: pc3</th>\n      <td>NaN</td>\n      <td>NaN</td>\n      <td>0.606739</td>\n    </tr>\n  </tbody>\n</table>\n</div>"
     },
     "metadata": {},
     "execution_count": 39
    }
   ],
   "source": [
    "df_angles(tibia_f1, tibia_f2, name='tibia')"
   ]
  },
  {
   "cell_type": "markdown",
   "metadata": {},
   "source": [
    "## Rotate the Bone"
   ]
  },
  {
   "cell_type": "code",
   "execution_count": 58,
   "metadata": {},
   "outputs": [
    {
     "output_type": "stream",
     "name": "stdout",
     "text": "0.17471680699860007 no invert\n0.5819453559235347 no invert\n3.906788298496456e-16 no invert\n"
    }
   ],
   "source": [
    "voxel_rotate(tibia_f1, tibia_f2)"
   ]
  },
  {
   "cell_type": "markdown",
   "metadata": {},
   "source": [
    "## Plotting the Rotation"
   ]
  },
  {
   "cell_type": "code",
   "execution_count": 75,
   "metadata": {},
   "outputs": [],
   "source": [
    "tibia_f1.plot()\n",
    "tibia_f2.plot()\n",
    "mlab.show()"
   ]
  },
  {
   "cell_type": "code",
   "execution_count": 68,
   "metadata": {},
   "outputs": [
    {
     "output_type": "stream",
     "name": "stdout",
     "text": "scale = 1.1\nscale = 1.2000000000000002\nscale = 1.3000000000000003\nscale = 1.4000000000000004\nscale = 1.5000000000000004\n"
    }
   ],
   "source": [
    "tibia_f1.upscale()"
   ]
  },
  {
   "cell_type": "code",
   "execution_count": 61,
   "metadata": {},
   "outputs": [
    {
     "output_type": "execute_result",
     "data": {
      "text/plain": "(695360, 3)"
     },
     "metadata": {},
     "execution_count": 61
    }
   ],
   "source": [
    "tibia_f1.xyz.shape"
   ]
  },
  {
   "cell_type": "code",
   "execution_count": 70,
   "metadata": {},
   "outputs": [],
   "source": [
    "tibia_f1.plot()\n",
    "mlab.show()"
   ]
  },
  {
   "cell_type": "code",
   "execution_count": 69,
   "metadata": {},
   "outputs": [],
   "source": [
    "tibia_f1.downscale()"
   ]
  },
  {
   "cell_type": "code",
   "execution_count": 64,
   "metadata": {},
   "outputs": [],
   "source": [
    "tibia_f1.plot()\n",
    "mlab.show()"
   ]
  },
  {
   "cell_type": "code",
   "execution_count": 25,
   "metadata": {},
   "outputs": [],
   "source": []
  },
  {
   "cell_type": "code",
   "execution_count": null,
   "metadata": {},
   "outputs": [],
   "source": []
  }
 ],
 "metadata": {
  "kernelspec": {
   "display_name": "Python 3.7.6 64-bit ('vox': conda)",
   "language": "python",
   "name": "python37664bitvoxconda7fa2e722bc0047d89379e10a931236f0"
  },
  "language_info": {
   "codemirror_mode": {
    "name": "ipython",
    "version": 3
   },
   "file_extension": ".py",
   "mimetype": "text/x-python",
   "name": "python",
   "nbconvert_exporter": "python",
   "pygments_lexer": "ipython3",
   "version": "3.7.6-final"
  },
  "toc": {
   "base_numbering": 1,
   "nav_menu": {
    "height": "308px",
    "width": "236.667px"
   },
   "number_sections": true,
   "sideBar": true,
   "skip_h1_title": false,
   "title_cell": "Table of Contents",
   "title_sidebar": "Contents",
   "toc_cell": true,
   "toc_position": {
    "height": "65.8167px",
    "left": "1318.05px",
    "top": "110.633px",
    "width": "165px"
   },
   "toc_section_display": true,
   "toc_window_display": false
  },
  "toc-autonumbering": true,
  "toc-showcode": false,
  "toc-showmarkdowntxt": true,
  "toc-showtags": true
 },
 "nbformat": 4,
 "nbformat_minor": 4
}