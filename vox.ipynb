{
 "cells": [
  {
   "cell_type": "code",
   "execution_count": 275,
   "metadata": {},
   "outputs": [],
   "source": [
    "import numpy as np\n",
    "#import matplotlib.pyplot as plt\n",
    "#from mpl_toolkits.mplot3d import Axes3D\n",
    "#import scipy.linalg\n",
    "#import scipy.io \n",
    "import mayavi.mlab"
   ]
  },
  {
   "cell_type": "markdown",
   "metadata": {},
   "source": [
    "https://docs.enthought.com/mayavi/mayavi/installation.html"
   ]
  },
  {
   "cell_type": "code",
   "execution_count": 276,
   "metadata": {},
   "outputs": [],
   "source": [
    "def mat2array (file):\n",
    "    \"\"\"loads a .mat file and returns a 3d array\"\"\"\n",
    "    mat_obj = scipy.io.loadmat(file)\n",
    "    arrary = mat_obj['v']\n",
    "    return arrary"
   ]
  },
  {
   "cell_type": "code",
   "execution_count": 277,
   "metadata": {},
   "outputs": [],
   "source": [
    "def voxel_xyz (arr):\n",
    "    \"\"\"voxel arry to xyz coordiates\"\"\"\n",
    "    x,y,z = np.where(arr == 1)\n",
    "    x -= arr.shape[1]\n",
    "    y -= arr.shape[0]\n",
    "    x *= -1\n",
    "    y *= -1\n",
    "    xyz = np.array([x,y,z]).T\n",
    "    return xyz"
   ]
  },
  {
   "cell_type": "code",
   "execution_count": 278,
   "metadata": {},
   "outputs": [],
   "source": [
    "def bone_pca(bone):\n",
    "    \"\"\"PCA on bone array\"\"\"\n",
    "    xyz = voxel_xyz(bone)\n",
    "    #covaraince of xyz points\n",
    "    cov = np.cov(xyz.T)\n",
    "    #eiganvalues and vectors\n",
    "    (eig_val, eig_vec) = np.linalg.eig(cov)\n",
    "\n",
    "    mean_x,mean_y,mean_z = [np.mean(xyz[:,0]),np.mean(xyz[:,1]),np.mean(xyz[:,2])]\n",
    "\n",
    "    return mean_x, mean_y, mean_z, eig_val, eig_vec"
   ]
  },
  {
   "cell_type": "code",
   "execution_count": 284,
   "metadata": {},
   "outputs": [],
   "source": [
    "def vox_plot(*args, plot_PCA = True, plot_inv = True):\n",
    "    \"\"\"plots voxel array; can take n bones and plot PCA vectors\n",
    "    \n",
    "        plot_PCA = displays the eigenvectors of each voxel object on plot\n",
    "        \n",
    "        plot_inv = displays the inverse of eigenvectors on plot\n",
    "        \n",
    "    \"\"\"\n",
    "\n",
    "    vectors = []    \n",
    "        \n",
    "    for n, bone in enumerate(args):\n",
    "        #random colour tuple\n",
    "        rand_colour = tuple(np.random.uniform(0.0,1.0,3))\n",
    "        \n",
    "        mayavi.mlab.points3d(voxel_xyz(bone)[:,0],\n",
    "                             voxel_xyz(bone)[:,1],\n",
    "                             voxel_xyz(bone)[:,2],\n",
    "                     mode=\"cube\",\n",
    "                     color= rand_colour,\n",
    "                     scale_factor=1)\n",
    "\n",
    "        #PCA on bones\n",
    "        mean_x, mean_y, mean_z, eig_val, eig_vec = bone_pca(bone)\n",
    "        x,y,z = [mean_x,mean_y,mean_z]\n",
    "\n",
    "        #plot eignevectors\n",
    "        u0,v0,w0 = eig_vec[:,0].T * 100\n",
    "        u0_inv,v0_inv,w0_inv = u0 * -1 ,v0 * -1, w0 * -1\n",
    "\n",
    "        u1,v1,w1 = eig_vec[:,1].T * 100\n",
    "        u1_inv,v1_inv,w1_inv = u1 * -1 ,v1 * -1, w1 * -1\n",
    "\n",
    "        u2,v2,w2 = eig_vec[:,2].T * 100\n",
    "        u2_inv,v2_inv,w2_inv = u2 * -1 ,v2 * -1, w2 * -1\n",
    "        \n",
    "        vectors.append(eig_vec)\n",
    "        \n",
    "        print(f\"{n}th bone PCA vectors: \\n {eig_vec} \\n \")\n",
    "        \n",
    "        if plot_PCA == True:\n",
    "            mayavi.mlab.quiver3d(x,y,z,u0,v0,w0, \n",
    "                                 line_width =6,\n",
    "                                 scale_factor=1,\n",
    "                                 color= rand_colour)\n",
    "\n",
    "            mayavi.mlab.quiver3d(x,y,z,u1,v1,w1, \n",
    "                                 line_width =6,\n",
    "                                 scale_factor=1,\n",
    "                                 color=rand_colour)\n",
    "\n",
    "            mayavi.mlab.quiver3d(x,y,z,u2,v2,w2, \n",
    "                                 line_width =6,\n",
    "                                 scale_factor=1, \n",
    "                                 color=rand_colour)\n",
    "            \n",
    "        if plot_inv == True:\n",
    "            mayavi.mlab.quiver3d(x,y,z,u0_inv,v0_inv,w0_inv, \n",
    "                                 line_width =6,\n",
    "                                 scale_factor=1,\n",
    "                                 color= rand_colour)\n",
    "\n",
    "            mayavi.mlab.quiver3d(x,y,z,u1_inv,v1_inv,w1_inv, \n",
    "                                 line_width =6,\n",
    "                                 scale_factor=1,\n",
    "                                 color=rand_colour)\n",
    "\n",
    "            mayavi.mlab.quiver3d(x,y,z,u2_inv,v2_inv,w2_inv, \n",
    "                                 line_width =6,\n",
    "                                 scale_factor=1, \n",
    "                                 color=rand_colour)\n",
    "\n",
    "            \n",
    "            \n",
    "            \n",
    "    print(\"Diffence:\", vectors[0]-vectors[1])\n",
    "    return mayavi.mlab.show()"
   ]
  },
  {
   "cell_type": "markdown",
   "metadata": {},
   "source": [
    "# Testing"
   ]
  },
  {
   "cell_type": "code",
   "execution_count": 280,
   "metadata": {},
   "outputs": [],
   "source": [
    "talus1 = mat2array('talus_f1.mat')\n",
    "talus2 = mat2array('talus_f2.mat')"
   ]
  },
  {
   "cell_type": "code",
   "execution_count": 285,
   "metadata": {},
   "outputs": [
    {
     "name": "stdout",
     "output_type": "stream",
     "text": [
      "0th bone PCA vectors: \n",
      " [[ 0.23452909 -0.94849613  0.2129582 ]\n",
      " [-0.95038858 -0.2697696  -0.15487383]\n",
      " [-0.20434688  0.16607062  0.96470871]] \n",
      " \n",
      "1th bone PCA vectors: \n",
      " [[-0.60124372  0.66587279  0.44172324]\n",
      " [ 0.59393072  0.7422138  -0.31042708]\n",
      " [ 0.53455803 -0.07571066  0.84173369]] \n",
      " \n",
      "Diffence: [[ 0.83577282 -1.61436892 -0.22876503]\n",
      " [-1.5443193  -1.01198341  0.15555325]\n",
      " [-0.73890491  0.24178129  0.12297502]]\n"
     ]
    }
   ],
   "source": [
    "vox_plot(talus1,talus2, plot_PCA = True, plot_inv = False)"
   ]
  },
  {
   "cell_type": "code",
   "execution_count": 281,
   "metadata": {},
   "outputs": [],
   "source": [
    "tibia1 = mat2array('tibia_f1.mat')\n",
    "tibia2 = mat2array('tibia_f2.mat')"
   ]
  },
  {
   "cell_type": "code",
   "execution_count": 286,
   "metadata": {},
   "outputs": [
    {
     "name": "stdout",
     "output_type": "stream",
     "text": [
      "0th bone PCA vectors: \n",
      " [[ 0.33443476  0.92111808 -0.19923572]\n",
      " [ 0.03887988  0.19774349  0.97948245]\n",
      " [-0.94161656  0.33531924 -0.03031934]] \n",
      " \n",
      "1th bone PCA vectors: \n",
      " [[-0.26135217 -0.7214386   0.64126547]\n",
      " [-0.1972995   0.69025737  0.69614486]\n",
      " [ 0.94486399 -0.05541761  0.32273973]] \n",
      " \n",
      "Diffence: [[ 0.59578693  1.64255668 -0.84050118]\n",
      " [ 0.23617938 -0.49251388  0.28333759]\n",
      " [-1.88648055  0.39073685 -0.35305907]]\n"
     ]
    }
   ],
   "source": [
    "vox_plot(tibia1,tibia2, plot_PCA = True, plot_inv = False)"
   ]
  },
  {
   "cell_type": "code",
   "execution_count": 282,
   "metadata": {},
   "outputs": [],
   "source": [
    "calcan1 = mat2array('calcan_f1.mat')\n",
    "calcan2 = mat2array('calcan_f2.mat')"
   ]
  },
  {
   "cell_type": "code",
   "execution_count": 289,
   "metadata": {},
   "outputs": [
    {
     "name": "stdout",
     "output_type": "stream",
     "text": [
      "0th bone PCA vectors: \n",
      " [[-0.26035801 -0.88316679  0.39016679]\n",
      " [-0.9100483   0.3594634   0.20639321]\n",
      " [ 0.32253031  0.30133449  0.89731361]] \n",
      " \n",
      "1th bone PCA vectors: \n",
      " [[-0.21038216  0.81346049  0.54223739]\n",
      " [ 0.97356966  0.22476207  0.04054797]\n",
      " [ 0.08889023 -0.53643644  0.83924637]] \n",
      " \n",
      "Diffence: [[-0.04997585 -1.69662728 -0.1520706 ]\n",
      " [-1.88361795  0.13470133  0.16584525]\n",
      " [ 0.23364009  0.83777093  0.05806724]]\n"
     ]
    }
   ],
   "source": [
    "vox_plot(calcan1,calcan2, plot_PCA = True, plot_inv = False)"
   ]
  },
  {
   "cell_type": "code",
   "execution_count": null,
   "metadata": {},
   "outputs": [],
   "source": []
  }
 ],
 "metadata": {
  "kernelspec": {
   "display_name": "Python 3",
   "language": "python",
   "name": "python3"
  },
  "language_info": {
   "codemirror_mode": {
    "name": "ipython",
    "version": 3
   },
   "file_extension": ".py",
   "mimetype": "text/x-python",
   "name": "python",
   "nbconvert_exporter": "python",
   "pygments_lexer": "ipython3",
   "version": "3.7.3"
  }
 },
 "nbformat": 4,
 "nbformat_minor": 2
}
