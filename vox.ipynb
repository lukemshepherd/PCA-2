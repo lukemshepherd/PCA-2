{
 "cells": [
  {
   "cell_type": "markdown",
   "metadata": {
    "toc": true
   },
   "source": [
    "<h1>Table of Contents<span class=\"tocSkip\"></span></h1>\n",
    "<div class=\"toc\"><ul class=\"toc-item\"><li><span><a href=\"#Libraries\" data-toc-modified-id=\"Libraries-1\"><span class=\"toc-item-num\">1&nbsp;&nbsp;</span>Libraries</a></span><ul class=\"toc-item\"><li><span><a href=\"#OS\" data-toc-modified-id=\"OS-1.1\"><span class=\"toc-item-num\">1.1&nbsp;&nbsp;</span>OS</a></span></li><li><span><a href=\"#Python\" data-toc-modified-id=\"Python-1.2\"><span class=\"toc-item-num\">1.2&nbsp;&nbsp;</span>Python</a></span></li><li><span><a href=\"#mayavi\" data-toc-modified-id=\"mayavi-1.3\"><span class=\"toc-item-num\">1.3&nbsp;&nbsp;</span>mayavi</a></span><ul class=\"toc-item\"><li><span><a href=\"#mayavi-install\" data-toc-modified-id=\"mayavi-install-1.3.1\"><span class=\"toc-item-num\">1.3.1&nbsp;&nbsp;</span>mayavi install</a></span></li></ul></li><li><span><a href=\"#numpy-quaternion\" data-toc-modified-id=\"numpy-quaternion-1.4\"><span class=\"toc-item-num\">1.4&nbsp;&nbsp;</span>numpy-quaternion</a></span></li><li><span><a href=\"#Optional:-inline-3d-plotting\" data-toc-modified-id=\"Optional:-inline-3d-plotting-1.5\"><span class=\"toc-item-num\">1.5&nbsp;&nbsp;</span>Optional: inline 3d plotting</a></span></li></ul></li><li><span><a href=\"#bone-class\" data-toc-modified-id=\"bone-class-2\"><span class=\"toc-item-num\">2&nbsp;&nbsp;</span>bone class</a></span></li><li><span><a href=\"#Maths-functions\" data-toc-modified-id=\"Maths-functions-3\"><span class=\"toc-item-num\">3&nbsp;&nbsp;</span>Maths functions</a></span><ul class=\"toc-item\"><li><span><a href=\"#mag\" data-toc-modified-id=\"mag-3.1\"><span class=\"toc-item-num\">3.1&nbsp;&nbsp;</span>mag</a></span></li><li><span><a href=\"#angle\" data-toc-modified-id=\"angle-3.2\"><span class=\"toc-item-num\">3.2&nbsp;&nbsp;</span>angle</a></span></li></ul></li><li><span><a href=\"#Rotation\" data-toc-modified-id=\"Rotation-4\"><span class=\"toc-item-num\">4&nbsp;&nbsp;</span>Rotation</a></span></li><li><span><a href=\"#Table-of-Angles\" data-toc-modified-id=\"Table-of-Angles-5\"><span class=\"toc-item-num\">5&nbsp;&nbsp;</span>Table of Angles</a></span></li><li><span><a href=\"#Plotting:\" data-toc-modified-id=\"Plotting:-6\"><span class=\"toc-item-num\">6&nbsp;&nbsp;</span>Plotting:</a></span><ul class=\"toc-item\"><li><span><a href=\"#bone_plot\" data-toc-modified-id=\"bone_plot-6.1\"><span class=\"toc-item-num\">6.1&nbsp;&nbsp;</span>bone_plot</a></span></li></ul></li><li><span><a href=\"#How-to-use:\" data-toc-modified-id=\"How-to-use:-7\"><span class=\"toc-item-num\">7&nbsp;&nbsp;</span>How to use:</a></span><ul class=\"toc-item\"><li><span><a href=\"#1.-Set-the-root-directory-for-the-matlab-file-loader\" data-toc-modified-id=\"1.-Set-the-root-directory-for-the-matlab-file-loader-7.1\"><span class=\"toc-item-num\">7.1&nbsp;&nbsp;</span>1. Set the root directory for the matlab file loader</a></span></li><li><span><a href=\"#2.-Load-the-data-that-you-want-to-use\" data-toc-modified-id=\"2.-Load-the-data-that-you-want-to-use-7.2\"><span class=\"toc-item-num\">7.2&nbsp;&nbsp;</span>2. Load the data that you want to use</a></span></li><li><span><a href=\"#Rotate-bone\" data-toc-modified-id=\"Rotate-bone-7.3\"><span class=\"toc-item-num\">7.3&nbsp;&nbsp;</span>Rotate bone</a></span></li><li><span><a href=\"#6.-Plotting-the-rotation\" data-toc-modified-id=\"6.-Plotting-the-rotation-7.4\"><span class=\"toc-item-num\">7.4&nbsp;&nbsp;</span>6. Plotting the rotation</a></span></li><li><span><a href=\"#Table-of-Angels\" data-toc-modified-id=\"Table-of-Angels-7.5\"><span class=\"toc-item-num\">7.5&nbsp;&nbsp;</span>Table of Angels</a></span></li></ul></li></ul></div>"
   ]
  },
  {
   "cell_type": "code",
   "execution_count": 1,
   "metadata": {},
   "outputs": [],
   "source": [
    "import math\n",
    "import numpy as np\n",
    "import pandas as pd\n",
    "import scipy.io\n",
    "from pathlib import Path\n",
    "\n",
    "from mayavi import mlab\n",
    "import quaternion as quat\n",
    "from sklearn.decomposition import PCA"
   ]
  },
  {
   "cell_type": "markdown",
   "metadata": {},
   "source": [
    "# Libraries\n",
    "See environment.yml \n",
    "\n",
    "conda env create -f environment.yml\n",
    "\n",
    "conda activate sci\n",
    "\n",
    "\n",
    "## OS\n",
    "Has been written (and runs) on both Windows 10 and MacOS\n",
    "\n",
    "## Python\n",
    "This was written on python 3.6, python 2.7x versions won't work due to the f strings\n",
    "\n",
    "## mayavi\n",
    "This is the 3d plotting library used for rendering the plots. mayvai will launch a qt window to display the plot- meaning that you will need an X serve session for the plots to load. If you want to plot things inline you will need to use jupyter notebooks, not jupyter lab.\n",
    "\n",
    "### mayavi install\n",
    "https://docs.enthought.com/mayavi/mayavi/installation.html#installing-with-conda-forge\n",
    "\n",
    "\n",
    "    \n",
    "## numpy-quaternion\n",
    "https://github.com/moble/quaternion\n",
    "https://quaternion.readthedocs.io/en/latest/\n",
    "\n",
    "    conda install -c conda-forge quaternion\n",
    "    \n",
    "    \n",
    "## Optional: inline 3d plotting\n",
    "http://docs.enthought.com/mayavi/mayavi/tips.html#using-mayavi-in-jupyter-notebooks"
   ]
  },
  {
   "cell_type": "code",
   "execution_count": 2,
   "metadata": {
    "scrolled": true
   },
   "outputs": [],
   "source": [
    "# Only works with notebooks not lab\n",
    "#mlab.init_notebook('x3d', 500, 500)"
   ]
  },
  {
   "cell_type": "code",
   "execution_count": 3,
   "metadata": {},
   "outputs": [],
   "source": [
    "# test inline rendering\n",
    "#s = mlab.test_plot3d()\n",
    "#s"
   ]
  },
  {
   "cell_type": "markdown",
   "metadata": {},
   "source": [
    "# bone class"
   ]
  },
  {
   "cell_type": "markdown",
   "metadata": {},
   "source": [
    "This class manages the loading of voxel objects and creating its atributes "
   ]
  },
  {
   "cell_type": "code",
   "execution_count": 4,
   "metadata": {},
   "outputs": [],
   "source": [
    "class bone:\n",
    "\n",
    "    filter_level=0.001\n",
    "\n",
    "    def __init__(self, array):\n",
    "               \n",
    "        \"\"\"\n",
    "        Performs calculations on the voxel array objects    \n",
    "        array (np.array): binary voxel object)      \n",
    "        filter_level (int/float): sets the threshold level for \n",
    "        what is considered a voxel. Everything below filter level is\n",
    "        rounded to 0, everything above rounded to 1 (ie voxel)\n",
    "        \"\"\" \n",
    "        self.array = array\n",
    "        self.get_xyz()\n",
    "\n",
    "\n",
    "    def get_xyz(self):\n",
    "        \"\"\"Convert 3D voxel array to xyz coordinates.\n",
    "    \n",
    "        array (np.array): 3D voxel array  \n",
    "            \n",
    "        filter_level (int/float): (inherited from `bone` class) sets the threshold level for \n",
    "        what is considered a voxel. Everything below filter level is\n",
    "        rounded to 0, everything above rounded to 1 (ie voxel)\n",
    "            \n",
    "        returns: \n",
    "            np.array( [n x 3] )\n",
    "    \"\"\"\n",
    "        # Everything above filter level is converted to 1\n",
    "        filtered_array = np.where(self.array < self.filter_level, 0, 1)\n",
    "        \n",
    "        # records coordiates where there is a 1\n",
    "        x, y, z = np.where(filtered_array == 1)\n",
    "\n",
    "        self.xyz = np.array([x, y, z]).T\n",
    "\n",
    "\n",
    "    def get_pca(self):\n",
    "        \"\"\"PCA on the xyz points array\n",
    "    \n",
    "            xyz(np.array): n x 3 array of xyz coordinates\n",
    "            \n",
    "            returns:    self.pc1\n",
    "                        self.pc2\n",
    "                        self.pc3 \"\"\"\n",
    "         \n",
    "        pca = PCA(n_components=3, svd_solver='full')\n",
    "        pca.fit_transform(self.xyz)\n",
    "\n",
    "        self.PC1 = pca.components_[0]\n",
    "        self.PC2 = pca.components_[1]\n",
    "        self.PC3 = pca.components_[2]    \n",
    "\n",
    "\n",
    "\n",
    "    def get_mean(self):\n",
    "        \"\"\"The mean of the xyz atriube\n",
    "    \n",
    "            returns:\n",
    "                tupple (mean_of_x, mean_of_y ,mean_of_z)\"\"\"\n",
    "\n",
    "        #mean_x, mean_y, mean_z\n",
    "        return (np.mean(self.xyz[:,0]), np.mean(self.xyz[:,1]), np.mean(self.xyz[:,2]))\n",
    "        \n",
    "\n",
    "    def center_to_origin(self):\n",
    "        \"\"\" sets the mean of the bone to 0,0,0\"\"\"    \n",
    "\n",
    "        # set transformation (tfm) value\n",
    "        self.tfm = self.get_mean()\n",
    "\n",
    "        self.xyz = self.xyz - self.tfm\n",
    "\n",
    "\n",
    "    def reset_position(self):\n",
    "        \"\"\" resets the position of the bone to its orginal one\"\"\"\n",
    "        self.xyz = self.xyz + self.tfm\n",
    "\n",
    "    # Alternative constructor:\n",
    "    # Import directly from matlab path\n",
    "\n",
    "    @classmethod \n",
    "    def from_matlab_path(cls, root_dir, matlab_file):\n",
    "        \"\"\"Imports matlab file drectly\n",
    "        \n",
    "           path: path object/string \n",
    "\n",
    "           retruns np.array (n x n x n )\n",
    "        \"\"\"\n",
    "        \n",
    "        matlab_object = scipy.io.loadmat(root_dir/matlab_file)\n",
    "        obj = matlab_object.keys()\n",
    "        obj = list(obj)\n",
    "        array = matlab_object[obj[-1]]\n",
    "        \n",
    "        return cls(array)\n"
   ]
  },
  {
   "cell_type": "markdown",
   "metadata": {},
   "source": [
    "# Maths functions"
   ]
  },
  {
   "cell_type": "markdown",
   "metadata": {},
   "source": [
    "## mag"
   ]
  },
  {
   "cell_type": "code",
   "execution_count": 5,
   "metadata": {},
   "outputs": [],
   "source": [
    "def mag(v):\n",
    "    \"\"\" Finds magnitude of vector\n",
    "\n",
    "        v (np.array): vector\n",
    "    \"\"\"\n",
    "    return math.sqrt(np.dot(v,v))"
   ]
  },
  {
   "cell_type": "markdown",
   "metadata": {},
   "source": [
    "## angle"
   ]
  },
  {
   "cell_type": "code",
   "execution_count": 6,
   "metadata": {},
   "outputs": [],
   "source": [
    "def angle(v1, v2):\n",
    "    \"\"\" Finds angel between 2 vectors\n",
    "    \n",
    "    returns: ang , v1\n",
    "    \"\"\"\n",
    "    try:\n",
    "        ang = math.acos(np.dot(v1, v2) / (mag(v1) * mag(v2)))\n",
    "   \n",
    "        if ang >= math.pi/2:\n",
    "            v1 = -v1\n",
    "            ang = math.acos(np.dot(v1, v2) / (mag(v1) * mag(v2)))\n",
    "            print(f'{ang} PC inverted')\n",
    "        \n",
    "        else:\n",
    "            print(f'{ang} no invert')\n",
    "\n",
    "\n",
    "    except:\n",
    "        #ang = 0\n",
    "        print (f'ERROR: angles are the same v1= {v1}, v2= {v2}')\n",
    "        ang = 0\n",
    "       \n",
    "    return ang , v1"
   ]
  },
  {
   "cell_type": "markdown",
   "metadata": {},
   "source": [
    "# Rotation"
   ]
  },
  {
   "cell_type": "markdown",
   "metadata": {},
   "source": [
    "The bones are rotated with quaternions.\n",
    "\n",
    "The angle between the two PC1 vectors is taken. The object is then rotated (by a quaternion) around the cross product between the PC1 vectors.\n",
    "\n",
    "The new angles between the next PCs are calculates and the process is repeated for the other PCs"
   ]
  },
  {
   "cell_type": "code",
   "execution_count": 7,
   "metadata": {},
   "outputs": [],
   "source": [
    "def quaternion_rotation(v, c_axis,theta):\n",
    "\n",
    "    rotation_axis = np.array([0.] + c_axis)\n",
    "    axis_angle = (theta*0.5) * rotation_axis/np.linalg.norm(rotation_axis)\n",
    "\n",
    "    vec = quat.quaternion(*v)\n",
    "\n",
    "    # quaternion from exp of axis angle\n",
    "    qlog = quat.quaternion(*axis_angle)\n",
    "    q = np.exp(qlog)\n",
    "\n",
    "    # double cover quaternion rotation\n",
    "    v_prime = q * vec * np.conjugate(q)\n",
    "\n",
    "    return v_prime.imag"
   ]
  },
  {
   "cell_type": "code",
   "execution_count": 8,
   "metadata": {},
   "outputs": [],
   "source": [
    "def voxel_rotate(bone_f1, bone_f2):\n",
    "\n",
    "    #center bones too 0,0,0,\n",
    "    bone_f1.center_to_origin()\n",
    "    bone_f2.center_to_origin()\n",
    "\n",
    "    # PCA on bones\n",
    "    bone_f1.get_pca()\n",
    "    bone_f2.get_pca()\n",
    "    \n",
    "    # for 1 to 3 principle conponents of the object\n",
    "    for n in range(1,4):\n",
    "\n",
    "        # takes cross product axis\n",
    "        cross_product_axis = np.cross(\n",
    "            getattr(bone_f1,f'PC{n}'),\n",
    "            getattr(bone_f2,f'PC{n}'))         \n",
    "\n",
    "        # finds angle between PCs for f1 vs f2\n",
    "        theta, vector = angle(\n",
    "            getattr(bone_f1,f'PC{n}'),\n",
    "            getattr(bone_f2,f'PC{n}'))\n",
    "\n",
    "        # sets any new values needed\n",
    "        setattr(bone_f1,f'PC{n}',vector)\n",
    "\n",
    "        #rotates each PC\n",
    "        for n in range(1,4):\n",
    "            transformed_PC = quaternion_rotation(\n",
    "                v = getattr(bone_f1,f'PC{n}'),\n",
    "                c_axis=cross_product_axis,\n",
    "                theta=theta)\n",
    "\n",
    "            #sets new PCA\n",
    "            setattr(bone_f1, f'PC{n}',transformed_PC)\n",
    "\n",
    "        #rotates xyz array\n",
    "        rotated_xyz = np.apply_along_axis(\n",
    "                    quaternion_rotation, 1, getattr(bone_f1,'xyz'),\n",
    "                    c_axis=cross_product_axis, \n",
    "                    theta=theta)  \n",
    "\n",
    "        setattr(bone_f1,'xyz',rotated_xyz)"
   ]
  },
  {
   "cell_type": "markdown",
   "metadata": {},
   "source": [
    "# Table of Angles"
   ]
  },
  {
   "cell_type": "code",
   "execution_count": 9,
   "metadata": {},
   "outputs": [],
   "source": [
    "def df_angles(bone_f1,bone_f2, name ='UN-NAMED BONE'):\n",
    "    \"\"\"\n",
    "    Compares the PCA angles between to bones.\n",
    "    \n",
    "    Input:  bone_f1 = bone in 1st position\n",
    "            bone_f2 = bone in 2nd position\n",
    "               \n",
    "    Returns: pandas dataframe\n",
    "    \"\"\"\n",
    "    \n",
    "    df = pd.DataFrame()\n",
    "\n",
    "    # loops over each PCA\n",
    "    for n in range(1,4):\n",
    "        theta, _ = angle(getattr(bone_f1,f'PC{n}'),getattr(bone_f2,f'PC{n}'))\n",
    "\n",
    "        # Sets the column names\n",
    "        df.loc[f'{name} f1: PC{n}',f'{name}f2: PC{n}'] = theta\n",
    "            \n",
    "    return df"
   ]
  },
  {
   "cell_type": "markdown",
   "metadata": {},
   "source": [
    "# Plotting:"
   ]
  },
  {
   "cell_type": "markdown",
   "metadata": {},
   "source": [
    "Creates plots that show both the PCs and the voxelized bones"
   ]
  },
  {
   "cell_type": "markdown",
   "metadata": {},
   "source": [
    "## bone_plot"
   ]
  },
  {
   "cell_type": "markdown",
   "metadata": {},
   "source": [
    "This plots an arbitrary number of voxelized bones.\n",
    "\n",
    "eg: `bone_plot(bone.bone_name.f1)`\n",
    "\n",
    "`plot_PCA`: plots the PCAs as vectors on the bone\n",
    "\n",
    "`plot_inv`: plots the inverse of each PCA so the axes go in both directions\n",
    "\n",
    "You can use your own colours by passing a colour dictionary\n",
    "\n",
    "`my_colours = {'red':(1,0,0),'green':(0,1,0),'blue':(0,0,1)`\n",
    "         \n",
    "The first bone will be plotted with the first colour in the dictionary, the second with the second and so on.\n"
   ]
  },
  {
   "cell_type": "code",
   "execution_count": 10,
   "metadata": {},
   "outputs": [],
   "source": [
    "def bone_plot(*args, user_colours = None, plot_PCA = True, plot_inv = False):\n",
    "    \"\"\" Plots voxel array that has an xyz attribute;\n",
    "        can take n bones and plot PCA vectors\n",
    "        PC1 Red \n",
    "        PC2 Blue\n",
    "        PC3 Green\n",
    "\n",
    "        plot_PCA: plots the PCAs as vectors on the bone\n",
    "        plot_inv: plots the inverse of each PCA vector (PCAs go in both directions)\n",
    "    \"\"\"\n",
    "\n",
    "    # Sorting out colours\n",
    "    colour_dict = {'yellow':(0.9,0.9,0),\n",
    "                   'pastel_blue':(0.7,1,1),\n",
    "                   'purple':(0.6,0,0.5),\n",
    "                   'orange':(0.8,0.3,0),\n",
    "                   'dark_blue':(0,0.3,0.7),}\n",
    "    \n",
    "    if user_colours is None:\n",
    "        user_colours = colour_dict\n",
    "    \n",
    "    plot_colours = []\n",
    "    \n",
    "    for col in user_colours:\n",
    "        x = colour_dict.get(col)\n",
    "        plot_colours.append(x)\n",
    "        \n",
    "    \n",
    "    for n, bone in enumerate(args):\n",
    "\n",
    "        mlab.points3d(bone.xyz[:,0], \n",
    "                      bone.xyz[:,1], \n",
    "                      bone.xyz[:,2],\n",
    "                     mode=\"cube\",\n",
    "                     color= plot_colours[n],\n",
    "                     scale_factor=1)\n",
    "        \n",
    "        x,y,z = bone.get_mean()\n",
    "\n",
    "        #plot PCAs\n",
    "        u0,v0,w0 = bone.PC1 * 100\n",
    "        u0_inv,v0_inv,w0_inv = bone.PC1 * 100 * -1\n",
    "\n",
    "        u1,v1,w1 = bone.PC2 * 100\n",
    "        u1_inv,v1_inv,w1_inv = bone.PC2 * 100 * -1\n",
    "\n",
    "        u2,v2,w2 = bone.PC3 * 100\n",
    "        u2_inv,v2_inv,w2_inv = bone.PC3 * 100 * -1\n",
    "\n",
    "        #print(f\"{n}th bone PCA vectors: \\n {bone.vec} \\n \")\n",
    "        \n",
    "        \n",
    "        if plot_PCA is True:\n",
    "            mlab.quiver3d(x,y,z,u0,v0,w0,\n",
    "                                 line_width =6,\n",
    "                                 scale_factor=0.7,\n",
    "                                 color= (1,0,0))\n",
    "            mlab.quiver3d(x,y,z,u1,v1,w1,\n",
    "                                 line_width =6,\n",
    "                                 scale_factor= 0.5,\n",
    "                                 color= (0,1,0))\n",
    "            mlab.quiver3d(x,y,z,u2,v2,w2, \n",
    "                                 line_width =6,\n",
    "                                 scale_factor=0.3,\n",
    "                                 color=(0,0,1))\n",
    "\n",
    "\n",
    "        #plotting the inverse of PCAs\n",
    "        if plot_inv is True:\n",
    "            mlab.quiver3d(x,y,z,u0_inv,v0_inv,w0_inv,\n",
    "                                 line_width =6,\n",
    "                                 scale_factor=0.7,\n",
    "                                 color= (1,0,0))\n",
    "            mlab.quiver3d(x,y,z,u1_inv,v1_inv,w1_inv,\n",
    "                                 line_width =6,\n",
    "                                 scale_factor=0.5,\n",
    "                                 color= (0,1,0))\n",
    "            mlab.quiver3d(x,y,z,u2_inv,v2_inv,w2_inv,\n",
    "                                 line_width =6,\n",
    "                                 scale_factor=0.3,\n",
    "                                 color=(0,0,1))\n",
    "\n",
    "    return mlab.show()"
   ]
  },
  {
   "cell_type": "code",
   "execution_count": 11,
   "metadata": {},
   "outputs": [],
   "source": [
    "# Option user colours\n",
    "# user_colours=['yellow','purple']"
   ]
  },
  {
   "cell_type": "markdown",
   "metadata": {},
   "source": [
    "# How to use:"
   ]
  },
  {
   "cell_type": "markdown",
   "metadata": {},
   "source": [
    "## 1. Set the root directory for the matlab file loader"
   ]
  },
  {
   "cell_type": "code",
   "execution_count": 12,
   "metadata": {},
   "outputs": [],
   "source": [
    "root_dir = Path('C://Users/luke/OneDrive - University College London/Marta/data')"
   ]
  },
  {
   "cell_type": "markdown",
   "metadata": {},
   "source": [
    "## 2. Load the data that you want to use"
   ]
  },
  {
   "cell_type": "code",
   "execution_count": 13,
   "metadata": {},
   "outputs": [],
   "source": [
    "# load data phantoms\n",
    "tibia_f2 = bone.from_matlab_path(root_dir, matlab_file = 'phantom/phantom_tibia_f2.mat' )\n",
    "tibia_f1 = bone.from_matlab_path(root_dir, matlab_file = 'phantom/phantom_tibia_f1.mat')"
   ]
  },
  {
   "cell_type": "markdown",
   "metadata": {},
   "source": [
    "## Rotate bone"
   ]
  },
  {
   "cell_type": "code",
   "execution_count": 14,
   "metadata": {},
   "outputs": [
    {
     "name": "stdout",
     "output_type": "stream",
     "text": [
      "0.1747168069985997 no invert\n",
      "0.5819453559235449 no invert\n",
      "ERROR: angles are the same v1= [ 0.7214386  -0.69025737 -0.05541761], v2= [ 0.7214386  -0.69025737 -0.05541761]\n"
     ]
    }
   ],
   "source": [
    "voxel_rotate(tibia_f1,tibia_f2)"
   ]
  },
  {
   "cell_type": "markdown",
   "metadata": {},
   "source": [
    "## 6. Plotting the rotation"
   ]
  },
  {
   "cell_type": "code",
   "execution_count": 15,
   "metadata": {},
   "outputs": [],
   "source": [
    "bone_plot(tibia_f1,tibia_f2)"
   ]
  },
  {
   "cell_type": "markdown",
   "metadata": {},
   "source": [
    "## Table of Angels"
   ]
  },
  {
   "cell_type": "code",
   "execution_count": 16,
   "metadata": {},
   "outputs": [
    {
     "name": "stdout",
     "output_type": "stream",
     "text": [
      "0.0 no invert\n",
      "1.4901161193847656e-08 no invert\n",
      "ERROR: angles are the same v1= [ 0.7214386  -0.69025737 -0.05541761], v2= [ 0.7214386  -0.69025737 -0.05541761]\n"
     ]
    },
    {
     "data": {
      "text/html": [
       "<div>\n",
       "<style scoped>\n",
       "    .dataframe tbody tr th:only-of-type {\n",
       "        vertical-align: middle;\n",
       "    }\n",
       "\n",
       "    .dataframe tbody tr th {\n",
       "        vertical-align: top;\n",
       "    }\n",
       "\n",
       "    .dataframe thead th {\n",
       "        text-align: right;\n",
       "    }\n",
       "</style>\n",
       "<table border=\"1\" class=\"dataframe\">\n",
       "  <thead>\n",
       "    <tr style=\"text-align: right;\">\n",
       "      <th></th>\n",
       "      <th>tibiaf2: PC1</th>\n",
       "      <th>tibiaf2: PC2</th>\n",
       "      <th>tibiaf2: PC3</th>\n",
       "    </tr>\n",
       "  </thead>\n",
       "  <tbody>\n",
       "    <tr>\n",
       "      <td>tibia f1: PC1</td>\n",
       "      <td>0.0</td>\n",
       "      <td>NaN</td>\n",
       "      <td>NaN</td>\n",
       "    </tr>\n",
       "    <tr>\n",
       "      <td>tibia f1: PC2</td>\n",
       "      <td>NaN</td>\n",
       "      <td>1.490116e-08</td>\n",
       "      <td>NaN</td>\n",
       "    </tr>\n",
       "    <tr>\n",
       "      <td>tibia f1: PC3</td>\n",
       "      <td>NaN</td>\n",
       "      <td>NaN</td>\n",
       "      <td>0.0</td>\n",
       "    </tr>\n",
       "  </tbody>\n",
       "</table>\n",
       "</div>"
      ],
      "text/plain": [
       "               tibiaf2: PC1  tibiaf2: PC2  tibiaf2: PC3\n",
       "tibia f1: PC1           0.0           NaN           NaN\n",
       "tibia f1: PC2           NaN  1.490116e-08           NaN\n",
       "tibia f1: PC3           NaN           NaN           0.0"
      ]
     },
     "execution_count": 16,
     "metadata": {},
     "output_type": "execute_result"
    }
   ],
   "source": [
    "df_angles(tibia_f1,tibia_f2, name= 'tibia')"
   ]
  },
  {
   "cell_type": "code",
   "execution_count": null,
   "metadata": {},
   "outputs": [],
   "source": []
  }
 ],
 "metadata": {
  "kernelspec": {
   "display_name": "Python 3",
   "language": "python",
   "name": "python3"
  },
  "language_info": {
   "codemirror_mode": {
    "name": "ipython",
    "version": 3
   },
   "file_extension": ".py",
   "mimetype": "text/x-python",
   "name": "python",
   "nbconvert_exporter": "python",
   "pygments_lexer": "ipython3",
   "version": "3.6.7"
  },
  "toc": {
   "base_numbering": 1,
   "nav_menu": {},
   "number_sections": true,
   "sideBar": false,
   "skip_h1_title": false,
   "title_cell": "Table of Contents",
   "title_sidebar": "Contents",
   "toc_cell": true,
   "toc_position": {
    "height": "100px",
    "left": "1313.05px",
    "top": "110.433px",
    "width": "137.033px"
   },
   "toc_section_display": false,
   "toc_window_display": true
  }
 },
 "nbformat": 4,
 "nbformat_minor": 4
}
